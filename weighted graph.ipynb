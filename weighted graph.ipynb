{
 "cells": [
  {
   "cell_type": "code",
   "execution_count": 1,
   "id": "9784d1f2",
   "metadata": {},
   "outputs": [],
   "source": [
    "import networkx as nx\n",
    "import matplotlib.pyplot as plt\n",
    "import numpy as np\n",
    "import pandas as pd"
   ]
  },
  {
   "cell_type": "code",
   "execution_count": 2,
   "id": "b2be7bb0",
   "metadata": {},
   "outputs": [],
   "source": [
    "d1 = pd.read_csv('../Train_details_22122017.csv')"
   ]
  },
  {
   "cell_type": "code",
   "execution_count": 68,
   "id": "4e8cb73c",
   "metadata": {},
   "outputs": [
    {
     "data": {
      "text/html": [
       "<div>\n",
       "<style scoped>\n",
       "    .dataframe tbody tr th:only-of-type {\n",
       "        vertical-align: middle;\n",
       "    }\n",
       "\n",
       "    .dataframe tbody tr th {\n",
       "        vertical-align: top;\n",
       "    }\n",
       "\n",
       "    .dataframe thead th {\n",
       "        text-align: right;\n",
       "    }\n",
       "</style>\n",
       "<table border=\"1\" class=\"dataframe\">\n",
       "  <thead>\n",
       "    <tr style=\"text-align: right;\">\n",
       "      <th></th>\n",
       "      <th>Train No</th>\n",
       "      <th>Train Name</th>\n",
       "      <th>SEQ</th>\n",
       "      <th>Station Code</th>\n",
       "      <th>Station Name</th>\n",
       "      <th>Arrival time</th>\n",
       "      <th>Departure Time</th>\n",
       "      <th>Distance</th>\n",
       "      <th>Source Station</th>\n",
       "      <th>Source Station Name</th>\n",
       "      <th>Destination Station</th>\n",
       "      <th>Destination Station Name</th>\n",
       "    </tr>\n",
       "  </thead>\n",
       "  <tbody>\n",
       "    <tr>\n",
       "      <th>0</th>\n",
       "      <td>107</td>\n",
       "      <td>SWV-MAO-VLNK</td>\n",
       "      <td>1</td>\n",
       "      <td>SWV</td>\n",
       "      <td>SAWANTWADI R</td>\n",
       "      <td>0.00.00</td>\n",
       "      <td>10.25.00</td>\n",
       "      <td>0</td>\n",
       "      <td>SWV</td>\n",
       "      <td>SAWANTWADI ROAD</td>\n",
       "      <td>MAO</td>\n",
       "      <td>MADGOAN JN.</td>\n",
       "    </tr>\n",
       "    <tr>\n",
       "      <th>1</th>\n",
       "      <td>107</td>\n",
       "      <td>SWV-MAO-VLNK</td>\n",
       "      <td>2</td>\n",
       "      <td>THVM</td>\n",
       "      <td>THIVIM</td>\n",
       "      <td>11.06.00</td>\n",
       "      <td>11.08.00</td>\n",
       "      <td>32</td>\n",
       "      <td>SWV</td>\n",
       "      <td>SAWANTWADI ROAD</td>\n",
       "      <td>MAO</td>\n",
       "      <td>MADGOAN JN.</td>\n",
       "    </tr>\n",
       "    <tr>\n",
       "      <th>2</th>\n",
       "      <td>107</td>\n",
       "      <td>SWV-MAO-VLNK</td>\n",
       "      <td>3</td>\n",
       "      <td>KRMI</td>\n",
       "      <td>KARMALI</td>\n",
       "      <td>11.28.00</td>\n",
       "      <td>11.30.00</td>\n",
       "      <td>49</td>\n",
       "      <td>SWV</td>\n",
       "      <td>SAWANTWADI ROAD</td>\n",
       "      <td>MAO</td>\n",
       "      <td>MADGOAN JN.</td>\n",
       "    </tr>\n",
       "    <tr>\n",
       "      <th>3</th>\n",
       "      <td>107</td>\n",
       "      <td>SWV-MAO-VLNK</td>\n",
       "      <td>4</td>\n",
       "      <td>MAO</td>\n",
       "      <td>MADGOAN JN.</td>\n",
       "      <td>12.10.00</td>\n",
       "      <td>0.00.00</td>\n",
       "      <td>78</td>\n",
       "      <td>SWV</td>\n",
       "      <td>SAWANTWADI ROAD</td>\n",
       "      <td>MAO</td>\n",
       "      <td>MADGOAN JN.</td>\n",
       "    </tr>\n",
       "    <tr>\n",
       "      <th>4</th>\n",
       "      <td>108</td>\n",
       "      <td>VLNK-MAO-SWV</td>\n",
       "      <td>1</td>\n",
       "      <td>MAO</td>\n",
       "      <td>MADGOAN JN.</td>\n",
       "      <td>0.00.00</td>\n",
       "      <td>20.30.00</td>\n",
       "      <td>0</td>\n",
       "      <td>MAO</td>\n",
       "      <td>MADGOAN JN.</td>\n",
       "      <td>SWV</td>\n",
       "      <td>SAWANTWADI ROAD</td>\n",
       "    </tr>\n",
       "    <tr>\n",
       "      <th>...</th>\n",
       "      <td>...</td>\n",
       "      <td>...</td>\n",
       "      <td>...</td>\n",
       "      <td>...</td>\n",
       "      <td>...</td>\n",
       "      <td>...</td>\n",
       "      <td>...</td>\n",
       "      <td>...</td>\n",
       "      <td>...</td>\n",
       "      <td>...</td>\n",
       "      <td>...</td>\n",
       "      <td>...</td>\n",
       "    </tr>\n",
       "    <tr>\n",
       "      <th>186114</th>\n",
       "      <td>99908</td>\n",
       "      <td>EMU</td>\n",
       "      <td>8</td>\n",
       "      <td>AKRD</td>\n",
       "      <td>AKURDI</td>\n",
       "      <td>23.30.00</td>\n",
       "      <td>23.31.00</td>\n",
       "      <td>19</td>\n",
       "      <td>PUNE</td>\n",
       "      <td>PUNE JN.</td>\n",
       "      <td>TGN</td>\n",
       "      <td>TALEGAON</td>\n",
       "    </tr>\n",
       "    <tr>\n",
       "      <th>186115</th>\n",
       "      <td>99908</td>\n",
       "      <td>EMU</td>\n",
       "      <td>9</td>\n",
       "      <td>DEHR</td>\n",
       "      <td>DEHU ROAD</td>\n",
       "      <td>23.35.00</td>\n",
       "      <td>23.36.00</td>\n",
       "      <td>24</td>\n",
       "      <td>PUNE</td>\n",
       "      <td>PUNE JN.</td>\n",
       "      <td>TGN</td>\n",
       "      <td>TALEGAON</td>\n",
       "    </tr>\n",
       "    <tr>\n",
       "      <th>186116</th>\n",
       "      <td>99908</td>\n",
       "      <td>EMU</td>\n",
       "      <td>10</td>\n",
       "      <td>BGWI</td>\n",
       "      <td>BEGDAEWAI</td>\n",
       "      <td>23.39.00</td>\n",
       "      <td>23.40.00</td>\n",
       "      <td>28</td>\n",
       "      <td>PUNE</td>\n",
       "      <td>PUNE JN.</td>\n",
       "      <td>TGN</td>\n",
       "      <td>TALEGAON</td>\n",
       "    </tr>\n",
       "    <tr>\n",
       "      <th>186117</th>\n",
       "      <td>99908</td>\n",
       "      <td>EMU</td>\n",
       "      <td>11</td>\n",
       "      <td>GRWD</td>\n",
       "      <td>GHORAWADI</td>\n",
       "      <td>23.41.00</td>\n",
       "      <td>23.42.00</td>\n",
       "      <td>31</td>\n",
       "      <td>PUNE</td>\n",
       "      <td>PUNE JN.</td>\n",
       "      <td>TGN</td>\n",
       "      <td>TALEGAON</td>\n",
       "    </tr>\n",
       "    <tr>\n",
       "      <th>186118</th>\n",
       "      <td>99908</td>\n",
       "      <td>EMU</td>\n",
       "      <td>12</td>\n",
       "      <td>TGN</td>\n",
       "      <td>TALEGAON</td>\n",
       "      <td>23.50.00</td>\n",
       "      <td>0.00.00</td>\n",
       "      <td>34</td>\n",
       "      <td>PUNE</td>\n",
       "      <td>PUNE JN.</td>\n",
       "      <td>TGN</td>\n",
       "      <td>TALEGAON</td>\n",
       "    </tr>\n",
       "  </tbody>\n",
       "</table>\n",
       "<p>186119 rows × 12 columns</p>\n",
       "</div>"
      ],
      "text/plain": [
       "        Train No    Train Name  SEQ Station Code  Station Name Arrival time  \\\n",
       "0            107  SWV-MAO-VLNK    1          SWV  SAWANTWADI R      0.00.00   \n",
       "1            107  SWV-MAO-VLNK    2         THVM        THIVIM     11.06.00   \n",
       "2            107  SWV-MAO-VLNK    3         KRMI       KARMALI     11.28.00   \n",
       "3            107  SWV-MAO-VLNK    4          MAO   MADGOAN JN.     12.10.00   \n",
       "4            108  VLNK-MAO-SWV    1          MAO   MADGOAN JN.      0.00.00   \n",
       "...          ...           ...  ...          ...           ...          ...   \n",
       "186114     99908           EMU    8         AKRD        AKURDI     23.30.00   \n",
       "186115     99908           EMU    9         DEHR     DEHU ROAD     23.35.00   \n",
       "186116     99908           EMU   10         BGWI     BEGDAEWAI     23.39.00   \n",
       "186117     99908           EMU   11         GRWD     GHORAWADI     23.41.00   \n",
       "186118     99908           EMU   12          TGN      TALEGAON     23.50.00   \n",
       "\n",
       "       Departure Time  Distance Source Station Source Station Name  \\\n",
       "0            10.25.00         0            SWV     SAWANTWADI ROAD   \n",
       "1            11.08.00        32            SWV     SAWANTWADI ROAD   \n",
       "2            11.30.00        49            SWV     SAWANTWADI ROAD   \n",
       "3             0.00.00        78            SWV     SAWANTWADI ROAD   \n",
       "4            20.30.00         0            MAO         MADGOAN JN.   \n",
       "...               ...       ...            ...                 ...   \n",
       "186114       23.31.00        19           PUNE            PUNE JN.   \n",
       "186115       23.36.00        24           PUNE            PUNE JN.   \n",
       "186116       23.40.00        28           PUNE            PUNE JN.   \n",
       "186117       23.42.00        31           PUNE            PUNE JN.   \n",
       "186118        0.00.00        34           PUNE            PUNE JN.   \n",
       "\n",
       "       Destination Station Destination Station Name  \n",
       "0                      MAO              MADGOAN JN.  \n",
       "1                      MAO              MADGOAN JN.  \n",
       "2                      MAO              MADGOAN JN.  \n",
       "3                      MAO              MADGOAN JN.  \n",
       "4                      SWV          SAWANTWADI ROAD  \n",
       "...                    ...                      ...  \n",
       "186114                 TGN                 TALEGAON  \n",
       "186115                 TGN                 TALEGAON  \n",
       "186116                 TGN                 TALEGAON  \n",
       "186117                 TGN                 TALEGAON  \n",
       "186118                 TGN                 TALEGAON  \n",
       "\n",
       "[186119 rows x 12 columns]"
      ]
     },
     "execution_count": 68,
     "metadata": {},
     "output_type": "execute_result"
    }
   ],
   "source": [
    "d1"
   ]
  },
  {
   "cell_type": "code",
   "execution_count": 3,
   "id": "823d979e",
   "metadata": {},
   "outputs": [],
   "source": [
    "def get_ddist(g):\n",
    "    l = len(g)\n",
    "    d = dict()\n",
    "    for i in range(0,l):\n",
    "        if g[i] in d.keys():\n",
    "            d[g[i]] = d[g[i]] + 1\n",
    "        else:\n",
    "            d[g[i]] = 1\n",
    "    return d"
   ]
  },
  {
   "cell_type": "code",
   "execution_count": 4,
   "id": "a24307ba",
   "metadata": {},
   "outputs": [],
   "source": [
    "def getTime(t1):\n",
    "    if len(t1) == 8:\n",
    "        time = (int(t1[0]) * 10 + int(t1[1])) * 3600 + (int(t1[3]) * 10 + int(t1[4])) * 60 + int(t1[6] * 10) + int(t1[7])\n",
    "    if len(t1) == 7:\n",
    "        time = (int(t1[0])) * 3600 + (int(t1[2]) * 10 + int(t1[3])) * 60 + int(t1[5] * 10) + int(t1[6])\n",
    "    return time\n",
    "i = 0\n",
    "G = nx.MultiGraph()\n",
    "for i in range(0,len(d1['Train No'])):\n",
    "    if i < len(d1['Train No']) - 1:\n",
    "        if d1['SEQ'][i+1] != 1:\n",
    "            t_no = d1['Train No'][i]\n",
    "            if type(d1['Arrival time'][i+1]) != float and type(d1['Departure Time'][i]) != float: \n",
    "                time = getTime(d1['Arrival time'][i+1]) - getTime(d1['Departure Time'][i])\n",
    "            if type(d1['Distance'][i+1]) != float and type(d1['Distance'][i]) != float:\n",
    "                distance = int(d1['Distance'][i+1]) - int(d1['Distance'][i])\n",
    "            e_weights = [t_no,time,distance]\n",
    "            G.add_edge(d1['Station Code'][i],d1['Station Code'][i+1],weights = e_weights)"
   ]
  },
  {
   "cell_type": "code",
   "execution_count": 5,
   "id": "1fbde84d",
   "metadata": {},
   "outputs": [
    {
     "name": "stdout",
     "output_type": "stream",
     "text": [
      "TNA\n",
      "Maximum degree = 1212\n"
     ]
    }
   ],
   "source": [
    "degree1 = dict(G.degree)\n",
    "for d in degree1.keys():\n",
    "    if degree1[d] == max(degree1.values()):\n",
    "        print(d)\n",
    "        print(\"Maximum degree = \" + str(max(degree1.values())))"
   ]
  },
  {
   "cell_type": "code",
   "execution_count": 6,
   "id": "c35af1f4",
   "metadata": {},
   "outputs": [
    {
     "name": "stdout",
     "output_type": "stream",
     "text": [
      "No of nodes in 1th subgraph are 8060\n",
      "For 1th subgraph, count1 = 2 count2 = 79\n",
      "No of AP = 804\n",
      "No of nodes in 1th subgraph are 29\n",
      "For 1th subgraph, count1 = 0 count2 = 0\n",
      "No of AP = 17\n",
      "No of nodes in 1th subgraph are 12\n",
      "For 1th subgraph, count1 = 0 count2 = 1\n",
      "No of AP = 9\n",
      "No of nodes in 1th subgraph are 10\n",
      "For 1th subgraph, count1 = 0 count2 = 0\n",
      "No of AP = 7\n",
      "No of nodes in 1th subgraph are 17\n",
      "For 1th subgraph, count1 = 0 count2 = 0\n",
      "No of AP = 15\n",
      "No of nodes in 1th subgraph are 17\n",
      "For 1th subgraph, count1 = 0 count2 = 0\n",
      "No of AP = 7\n",
      "No of nodes in 1th subgraph are 3\n",
      "For 1th subgraph, count1 = 0 count2 = 0\n",
      "No of AP = 1\n"
     ]
    }
   ],
   "source": [
    "i = 1\n",
    "for h in nx.connected_components(G):\n",
    "    k = nx.subgraph(G,h)\n",
    "    print(\"No of nodes in \" + str(i) + \"th subgraph are \" + str(len(k.nodes)))\n",
    "    degree1 = dict(k.degree)\n",
    "    count1 = 0\n",
    "    count2 = 0\n",
    "    ap = list(nx.articulation_points(k))\n",
    "    for d in degree1.keys():\n",
    "        if degree1[d] == 1:\n",
    "            count1 = count1 + 1\n",
    "        if degree1[d] == 2:\n",
    "            count2 = count2 + 1\n",
    "    print(\"For \" + str(i) + \"th subgraph, nodes with  = \" + str(count1) + \" count2 = \" + str(count2))\n",
    "    print(\"No of AP = \" + str(len(ap)))"
   ]
  },
  {
   "cell_type": "code",
   "execution_count": 7,
   "id": "5443c833",
   "metadata": {},
   "outputs": [
    {
     "data": {
      "text/plain": [
       "Text(0, 0.5, 'No of nodes')"
      ]
     },
     "execution_count": 7,
     "metadata": {},
     "output_type": "execute_result"
    },
    {
     "data": {
      "image/png": "[encoded data removed]",
      "text/plain": [
       "<Figure size 640x480 with 1 Axes>"
      ]
     },
     "metadata": {},
     "output_type": "display_data"
    }
   ],
   "source": [
    "h = list(nx.connected_components(G))\n",
    "G1 = nx.subgraph(G,h[0])\n",
    "dict1 = dict(G1.degree())\n",
    "dd = get_ddist(list(dict1.values()))\n",
    "dds = dict(sorted(dd.items()))\n",
    "plt.plot(dds.keys(),dds.values())\n",
    "plt.title('Degree distribution')\n",
    "plt.xlabel('Degree')\n",
    "plt.ylabel('No of nodes')"
   ]
  },
  {
   "cell_type": "code",
   "execution_count": 8,
   "id": "c62b44fb",
   "metadata": {},
   "outputs": [
    {
     "name": "stdout",
     "output_type": "stream",
     "text": [
      "804\n"
     ]
    }
   ],
   "source": [
    "ap = list(nx.articulation_points(G1))\n",
    "print(len(ap))"
   ]
  },
  {
   "cell_type": "code",
   "execution_count": 38,
   "id": "09616c97",
   "metadata": {},
   "outputs": [
    {
     "name": "stdout",
     "output_type": "stream",
     "text": [
      "Articulation point: MXN\n",
      "The graph is split into 8006 53\n",
      "Articulation point: DMV\n",
      "The graph is split into 7980 79\n",
      "Articulation point: DPU\n",
      "The graph is split into 7975 84\n",
      "Articulation point: LMG\n",
      "The graph is split into 7971 88\n",
      "Articulation point: GHY\n",
      "The graph is split into 7837 222\n",
      "Articulation point: RPAN\n",
      "The graph is split into 8013 43\n",
      "Articulation point: RNY\n",
      "The graph is split into 7999 60\n",
      "Articulation point: MALA\n",
      "The graph is split into 8029 30\n",
      "Articulation point: PBE\n",
      "The graph is split into 8010 32\n",
      "Articulation point: SSC\n",
      "The graph is split into 8008 51\n",
      "Articulation point: BJV\n",
      "The graph is split into 8007 52\n",
      "Articulation point: STH\n",
      "The graph is split into 8006 53\n",
      "Articulation point: BPR\n",
      "The graph is split into 8004 55\n",
      "Articulation point: RHA\n",
      "The graph is split into 8026 33\n",
      "Articulation point: BLN\n",
      "The graph is split into 8009 50\n",
      "Articulation point: NUPR\n",
      "The graph is split into 8029 30\n",
      "Articulation point: DLSR\n",
      "The graph is split into 8027 32\n",
      "Articulation point: PTK\n",
      "The graph is split into 8026 33\n",
      "Articulation point: BTD\n",
      "The graph is split into 8020 39\n"
     ]
    }
   ],
   "source": [
    "count = 0\n",
    "c7 = 0\n",
    "nap = np.empty((len(ap),3),dtype='S5')\n",
    "for a in ap:\n",
    "    G2 = nx.MultiGraph(G1)\n",
    "    G2.remove_node(a)\n",
    "    h1 = list(nx.connected_components(G2))\n",
    "    G21 = nx.subgraph(G2,h1[0])\n",
    "    G22 = nx.subgraph(G2,h1[1])\n",
    "    n1 = len(list(G21.nodes))\n",
    "    n2 = len(list(G22.nodes))\n",
    "    nap[count,0] = a\n",
    "    nap[count,1] = str(n1)\n",
    "    nap[count,2] = str(n2)\n",
    "    count = count + 1\n",
    "    \n",
    "    if abs(n1 - n2) < 7000:\n",
    "        print(\"Articulation point: \" + str(a))\n",
    "        print(\"The graph is split into \" + str(n1) + \" \" + str(n2)) \n",
    "        c7 = c7 + 1\n",
    "    if abs(n1 - n2) < 7500 and count > 100 and c7 < 10:\n",
    "        print(\"Articulation point: \" + str(a))\n",
    "        print(\"The graph is split into \" + str(n1) + \" \" + str(n2))\n",
    "    if abs(n1 - n2) < 8000 and count > 200 and c7 < 10:\n",
    "        print(\"Articulation point: \" + str(a))\n",
    "        print(\"The graph is split into \" + str(n1) + \" \" + str(n2))"
   ]
  },
  {
   "cell_type": "code",
   "execution_count": 11,
   "id": "7b68a0da",
   "metadata": {},
   "outputs": [
    {
     "data": {
      "text/plain": [
       "804"
      ]
     },
     "execution_count": 11,
     "metadata": {},
     "output_type": "execute_result"
    }
   ],
   "source": [
    "len(ap)"
   ]
  },
  {
   "cell_type": "code",
   "execution_count": 12,
   "id": "905c190a",
   "metadata": {},
   "outputs": [
    {
     "data": {
      "text/plain": [
       "'PNQ'"
      ]
     },
     "execution_count": 12,
     "metadata": {},
     "output_type": "execute_result"
    }
   ],
   "source": [
    "a"
   ]
  },
  {
   "cell_type": "code",
   "execution_count": 13,
   "id": "432da58d",
   "metadata": {},
   "outputs": [
    {
     "data": {
      "text/plain": [
       "'PNQ'"
      ]
     },
     "execution_count": 13,
     "metadata": {},
     "output_type": "execute_result"
    }
   ],
   "source": [
    "ap[0]"
   ]
  },
  {
   "cell_type": "code",
   "execution_count": 16,
   "id": "088a8fd2",
   "metadata": {},
   "outputs": [
    {
     "data": {
      "text/plain": [
       "8"
      ]
     },
     "execution_count": 16,
     "metadata": {},
     "output_type": "execute_result"
    }
   ],
   "source": [
    "abs(-8)"
   ]
  },
  {
   "cell_type": "code",
   "execution_count": 32,
   "id": "b57b395d",
   "metadata": {},
   "outputs": [],
   "source": [
    "n = np.empty((2,2),dtype = 'S3')"
   ]
  },
  {
   "cell_type": "code",
   "execution_count": 33,
   "id": "7514b42b",
   "metadata": {},
   "outputs": [],
   "source": [
    "n[0,0] = 1"
   ]
  },
  {
   "cell_type": "code",
   "execution_count": 29,
   "id": "315f0cd0",
   "metadata": {},
   "outputs": [
    {
     "data": {
      "text/plain": [
       "array([[ 1.  , -4.  ],\n",
       "       [80.25, 14.  ]])"
      ]
     },
     "execution_count": 29,
     "metadata": {},
     "output_type": "execute_result"
    }
   ],
   "source": [
    "n"
   ]
  },
  {
   "cell_type": "code",
   "execution_count": 34,
   "id": "f988bd0a",
   "metadata": {},
   "outputs": [
    {
     "data": {
      "text/plain": [
       "array([[b'1', b''],\n",
       "       [b'2', b'']], dtype='|S3')"
      ]
     },
     "execution_count": 34,
     "metadata": {},
     "output_type": "execute_result"
    }
   ],
   "source": [
    "n[1,0] = 2\n",
    "n"
   ]
  },
  {
   "cell_type": "code",
   "execution_count": 36,
   "id": "ca80c879",
   "metadata": {},
   "outputs": [
    {
     "data": {
      "text/plain": [
       "array([[b'1', b''],\n",
       "       [b'2', b'HEL']], dtype='|S3')"
      ]
     },
     "execution_count": 36,
     "metadata": {},
     "output_type": "execute_result"
    }
   ],
   "source": [
    "n[1,1] = 'HEL'\n",
    "n"
   ]
  },
  {
   "cell_type": "code",
   "execution_count": 39,
   "id": "691c1adf",
   "metadata": {},
   "outputs": [
    {
     "data": {
      "text/plain": [
       "804"
      ]
     },
     "execution_count": 39,
     "metadata": {},
     "output_type": "execute_result"
    }
   ],
   "source": [
    "len(nap)"
   ]
  },
  {
   "cell_type": "code",
   "execution_count": 40,
   "id": "aa353064",
   "metadata": {},
   "outputs": [
    {
     "data": {
      "text/plain": [
       "array([[b'PNQ', b'805', b'1'],\n",
       "       [b'LOV', b'805', b'1'],\n",
       "       [b'KXT', b'805', b'2'],\n",
       "       ...,\n",
       "       [b'CQA', b'805', b'7'],\n",
       "       [b'VPZ', b'805', b'9'],\n",
       "       [b'SRR', b'804', b'11']], dtype='|S3')"
      ]
     },
     "execution_count": 40,
     "metadata": {},
     "output_type": "execute_result"
    }
   ],
   "source": [
    "nap"
   ]
  },
  {
   "cell_type": "code",
   "execution_count": 41,
   "id": "acd0672d",
   "metadata": {},
   "outputs": [],
   "source": [
    "hnap = nap[:,1]"
   ]
  },
  {
   "cell_type": "code",
   "execution_count": 42,
   "id": "6175c6b1",
   "metadata": {},
   "outputs": [
    {
     "data": {
      "text/plain": [
       "array([b'805', b'805', b'805', b'805', b'805', b'805', b'805', b'805',\n",
       "       b'805', b'805', b'805', b'805', b'805', b'805', b'800', b'805',\n",
       "       b'804', b'804', b'805', b'805', b'805', b'805', b'805', b'805',\n",
       "       b'805', b'805', b'804', b'804', b'804', b'804', b'804', b'802',\n",
       "       b'805', b'804', b'805', b'805', b'805', b'805', b'805', b'805',\n",
       "       b'805', b'804', b'804', b'804', b'804', b'804', b'804', b'802',\n",
       "       b'802', b'802', b'795', b'805', b'804', b'805', b'805', b'805',\n",
       "       b'805', b'803', b'805', b'804', b'804', b'804', b'804', b'804',\n",
       "       b'804', b'804', b'803', b'803', b'803', b'803', b'803', b'803',\n",
       "       b'805', b'805', b'805', b'805', b'805', b'805', b'805', b'805',\n",
       "       b'805', b'805', b'805', b'805', b'805', b'805', b'805', b'805',\n",
       "       b'804', b'804', b'804', b'804', b'805', b'805', b'805', b'805',\n",
       "       b'804', b'805', b'805', b'805', b'805', b'805', b'805', b'805',\n",
       "       b'805', b'805', b'804', b'805', b'805', b'805', b'804', b'804',\n",
       "       b'803', b'803', b'805', b'805', b'805', b'805', b'804', b'805',\n",
       "       b'805', b'805', b'805', b'805', b'805', b'805', b'805', b'805',\n",
       "       b'805', b'805', b'805', b'805', b'805', b'805', b'805', b'805',\n",
       "       b'805', b'805', b'805', b'804', b'804', b'804', b'804', b'804',\n",
       "       b'804', b'805', b'805', b'805', b'805', b'805', b'805', b'805',\n",
       "       b'805', b'805', b'804', b'803', b'805', b'805', b'805', b'804',\n",
       "       b'805', b'805', b'805', b'805', b'805', b'805', b'805', b'805',\n",
       "       b'805', b'805', b'805', b'805', b'805', b'805', b'805', b'805',\n",
       "       b'805', b'804', b'799', b'805', b'805', b'805', b'805', b'804',\n",
       "       b'805', b'805', b'805', b'805', b'805', b'805', b'805', b'805',\n",
       "       b'805', b'804', b'805', b'805', b'805', b'805', b'805', b'804',\n",
       "       b'804', b'800', b'798', b'797', b'797', b'805', b'805', b'805',\n",
       "       b'805', b'805', b'805', b'805', b'805', b'805', b'805', b'805',\n",
       "       b'805', b'805', b'803', b'783', b'805', b'805', b'805', b'805',\n",
       "       b'805', b'804', b'804', b'804', b'804', b'803', b'803', b'805',\n",
       "       b'805', b'805', b'801', b'799', b'805', b'805', b'805', b'805',\n",
       "       b'805', b'805', b'805', b'805', b'805', b'804', b'805', b'805',\n",
       "       b'805', b'805', b'805', b'805', b'805', b'805', b'805', b'805',\n",
       "       b'805', b'805', b'805', b'805', b'805', b'805', b'805', b'805',\n",
       "       b'805', b'805', b'805', b'805', b'805', b'805', b'805', b'805',\n",
       "       b'805', b'805', b'805', b'805', b'805', b'805', b'805', b'805',\n",
       "       b'805', b'805', b'805', b'805', b'805', b'805', b'805', b'805',\n",
       "       b'805', b'805', b'805', b'805', b'804', b'805', b'805', b'805',\n",
       "       b'804', b'804', b'805', b'805', b'805', b'805', b'805', b'805',\n",
       "       b'805', b'805', b'805', b'805', b'804', b'804', b'804', b'804',\n",
       "       b'804', b'804', b'804', b'804', b'804', b'803', b'803', b'803',\n",
       "       b'803', b'803', b'803', b'802', b'801', b'805', b'805', b'804',\n",
       "       b'804', b'805', b'800', b'800', b'800', b'800', b'805', b'805',\n",
       "       b'805', b'805', b'805', b'805', b'805', b'805', b'805', b'805',\n",
       "       b'805', b'805', b'805', b'805', b'805', b'804', b'805', b'805',\n",
       "       b'805', b'805', b'805', b'805', b'805', b'805', b'804', b'805',\n",
       "       b'805', b'805', b'805', b'805', b'805', b'805', b'805', b'805',\n",
       "       b'805', b'805', b'805', b'805', b'805', b'805', b'805', b'805',\n",
       "       b'805', b'805', b'805', b'805', b'804', b'804', b'804', b'804',\n",
       "       b'804', b'804', b'805', b'805', b'805', b'804', b'804', b'804',\n",
       "       b'803', b'802', b'805', b'805', b'805', b'805', b'805', b'805',\n",
       "       b'805', b'805', b'805', b'805', b'805', b'805', b'804', b'804',\n",
       "       b'804', b'804', b'804', b'804', b'804', b'804', b'804', b'805',\n",
       "       b'805', b'805', b'805', b'805', b'805', b'801', b'805', b'805',\n",
       "       b'805', b'805', b'805', b'805', b'805', b'805', b'804', b'804',\n",
       "       b'804', b'804', b'804', b'804', b'802', b'805', b'805', b'805',\n",
       "       b'805', b'804', b'804', b'804', b'800', b'805', b'805', b'805',\n",
       "       b'805', b'805', b'805', b'805', b'805', b'805', b'805', b'805',\n",
       "       b'805', b'805', b'805', b'805', b'804', b'804', b'804', b'804',\n",
       "       b'804', b'805', b'805', b'805', b'805', b'805', b'805', b'805',\n",
       "       b'805', b'805', b'804', b'804', b'804', b'804', b'804', b'804',\n",
       "       b'804', b'805', b'805', b'805', b'805', b'805', b'805', b'805',\n",
       "       b'805', b'804', b'805', b'805', b'805', b'805', b'805', b'805',\n",
       "       b'805', b'804', b'805', b'805', b'805', b'805', b'805', b'805',\n",
       "       b'805', b'805', b'805', b'805', b'805', b'805', b'805', b'805',\n",
       "       b'805', b'805', b'805', b'805', b'805', b'805', b'805', b'805',\n",
       "       b'805', b'805', b'804', b'804', b'804', b'804', b'804', b'804',\n",
       "       b'804', b'804', b'804', b'804', b'803', b'803', b'803', b'803',\n",
       "       b'803', b'803', b'805', b'805', b'805', b'805', b'805', b'805',\n",
       "       b'805', b'805', b'805', b'805', b'805', b'805', b'805', b'805',\n",
       "       b'805', b'805', b'804', b'804', b'804', b'804', b'804', b'804',\n",
       "       b'803', b'803', b'803', b'803', b'803', b'803', b'802', b'802',\n",
       "       b'802', b'805', b'805', b'805', b'805', b'805', b'805', b'805',\n",
       "       b'805', b'805', b'805', b'804', b'804', b'804', b'805', b'805',\n",
       "       b'805', b'805', b'804', b'805', b'805', b'805', b'805', b'805',\n",
       "       b'805', b'805', b'805', b'805', b'805', b'805', b'805', b'805',\n",
       "       b'805', b'805', b'805', b'805', b'805', b'805', b'804', b'804',\n",
       "       b'803', b'802', b'805', b'805', b'805', b'805', b'805', b'805',\n",
       "       b'805', b'805', b'805', b'805', b'805', b'805', b'805', b'805',\n",
       "       b'805', b'805', b'804', b'804', b'804', b'805', b'805', b'805',\n",
       "       b'805', b'805', b'805', b'805', b'805', b'805', b'805', b'805',\n",
       "       b'805', b'805', b'805', b'805', b'805', b'805', b'805', b'805',\n",
       "       b'805', b'805', b'805', b'805', b'805', b'805', b'805', b'805',\n",
       "       b'804', b'804', b'804', b'804', b'805', b'805', b'805', b'805',\n",
       "       b'805', b'805', b'805', b'805', b'805', b'805', b'805', b'805',\n",
       "       b'805', b'805', b'804', b'804', b'804', b'804', b'804', b'804',\n",
       "       b'804', b'804', b'804', b'805', b'805', b'805', b'805', b'805',\n",
       "       b'805', b'805', b'805', b'805', b'805', b'805', b'804', b'804',\n",
       "       b'804', b'804', b'804', b'804', b'804', b'805', b'805', b'805',\n",
       "       b'805', b'804', b'804', b'803', b'805', b'805', b'805', b'805',\n",
       "       b'805', b'805', b'805', b'805', b'805', b'805', b'805', b'805',\n",
       "       b'805', b'805', b'805', b'805', b'805', b'805', b'805', b'805',\n",
       "       b'805', b'805', b'805', b'805', b'804', b'804', b'805', b'805',\n",
       "       b'805', b'805', b'804', b'804', b'804', b'805', b'805', b'805',\n",
       "       b'805', b'805', b'805', b'805', b'805', b'805', b'805', b'805',\n",
       "       b'805', b'805', b'805', b'805', b'805', b'805', b'805', b'805',\n",
       "       b'805', b'805', b'804', b'804', b'805', b'805', b'805', b'805',\n",
       "       b'805', b'805', b'805', b'805', b'805', b'805', b'805', b'805',\n",
       "       b'805', b'804', b'805', b'805', b'805', b'805', b'805', b'805',\n",
       "       b'805', b'805', b'805', b'804', b'805', b'805', b'805', b'805',\n",
       "       b'805', b'805', b'805', b'804', b'805', b'805', b'805', b'805',\n",
       "       b'805', b'805', b'805', b'804'], dtype='|S3')"
      ]
     },
     "execution_count": 42,
     "metadata": {},
     "output_type": "execute_result"
    }
   ],
   "source": [
    "hnap"
   ]
  },
  {
   "cell_type": "code",
   "execution_count": 43,
   "id": "9c503c54",
   "metadata": {},
   "outputs": [
    {
     "data": {
      "text/plain": [
       "b'783'"
      ]
     },
     "execution_count": 43,
     "metadata": {},
     "output_type": "execute_result"
    }
   ],
   "source": [
    "min(hnap)"
   ]
  },
  {
   "cell_type": "code",
   "execution_count": 44,
   "id": "91116953",
   "metadata": {},
   "outputs": [],
   "source": [
    "lnap = nap[:,2]"
   ]
  },
  {
   "cell_type": "code",
   "execution_count": 45,
   "id": "0d8d02a6",
   "metadata": {},
   "outputs": [
    {
     "data": {
      "text/plain": [
       "b'9'"
      ]
     },
     "execution_count": 45,
     "metadata": {},
     "output_type": "execute_result"
    }
   ],
   "source": [
    "max(lnap)"
   ]
  },
  {
   "cell_type": "code",
   "execution_count": 46,
   "id": "1cbfc8df",
   "metadata": {},
   "outputs": [
    {
     "data": {
      "text/plain": [
       "array([b'1', b'1', b'2', b'3', b'4', b'5', b'6', b'1', b'2', b'3', b'4',\n",
       "       b'5', b'1', b'1', b'10', b'4', b'11', b'2', b'1', b'2', b'3', b'4',\n",
       "       b'5', b'6', b'1', b'2', b'10', b'15', b'16', b'17', b'18', b'19',\n",
       "       b'1', b'2', b'1', b'2', b'3', b'4', b'5', b'6', b'7', b'11', b'12',\n",
       "       b'13', b'14', b'15', b'16', b'37', b'38', b'39', b'105', b'5',\n",
       "       b'10', b'1', b'2', b'3', b'4', b'1', b'5', b'10', b'11', b'12',\n",
       "       b'14', b'15', b'18', b'19', b'20', b'23', b'24', b'25', b'26',\n",
       "       b'27', b'1', b'2', b'2', b'3', b'4', b'5', b'6', b'1', b'2', b'3',\n",
       "       b'4', b'5', b'6', b'7', b'8', b'9', b'10', b'11', b'12', b'13',\n",
       "       b'3', b'7', b'1', b'7', b'1', b'1', b'2', b'3', b'4', b'5', b'6',\n",
       "       b'7', b'8', b'9', b'10', b'1', b'4', b'8', b'11', b'15', b'23',\n",
       "       b'28', b'4', b'5', b'6', b'8', b'10', b'1', b'2', b'3', b'1', b'2',\n",
       "       b'3', b'4', b'5', b'6', b'7', b'8', b'1', b'2', b'3', b'4', b'5',\n",
       "       b'6', b'7', b'8', b'9', b'10', b'11', b'12', b'13', b'14', b'15',\n",
       "       b'1', b'2', b'3', b'4', b'5', b'6', b'7', b'8', b'9', b'10', b'9',\n",
       "       b'7', b'2', b'8', b'14', b'1', b'2', b'3', b'4', b'5', b'6', b'7',\n",
       "       b'8', b'1', b'2', b'3', b'4', b'5', b'6', b'7', b'8', b'9', b'10',\n",
       "       b'23', b'1', b'2', b'3', b'4', b'17', b'1', b'2', b'3', b'4', b'5',\n",
       "       b'6', b'1', b'2', b'3', b'5', b'1', b'2', b'3', b'4', b'5', b'12',\n",
       "       b'13', b'53', b'79', b'84', b'88', b'1', b'3', b'6', b'7', b'1',\n",
       "       b'2', b'3', b'4', b'5', b'6', b'7', b'8', b'9', b'21', b'222',\n",
       "       b'1', b'2', b'3', b'4', b'7', b'11', b'13', b'14', b'19', b'21',\n",
       "       b'23', b'1', b'2', b'3', b'43', b'60', b'1', b'2', b'3', b'4',\n",
       "       b'5', b'6', b'7', b'8', b'9', b'10', b'4', b'1', b'2', b'3', b'4',\n",
       "       b'5', b'6', b'7', b'8', b'9', b'1', b'2', b'3', b'1', b'2', b'1',\n",
       "       b'1', b'2', b'3', b'4', b'5', b'6', b'7', b'8', b'1', b'2', b'3',\n",
       "       b'4', b'5', b'6', b'7', b'1', b'1', b'2', b'8', b'2', b'1', b'1',\n",
       "       b'2', b'1', b'2', b'3', b'4', b'5', b'6', b'7', b'12', b'3', b'6',\n",
       "       b'9', b'11', b'15', b'6', b'1', b'2', b'3', b'1', b'2', b'3', b'1',\n",
       "       b'6', b'8', b'10', b'11', b'12', b'13', b'15', b'16', b'17', b'18',\n",
       "       b'19', b'20', b'22', b'23', b'24', b'26', b'28', b'30', b'32',\n",
       "       b'1', b'5', b'10', b'12', b'1', b'51', b'52', b'53', b'55', b'1',\n",
       "       b'2', b'3', b'4', b'8', b'1', b'2', b'3', b'4', b'1', b'2', b'3',\n",
       "       b'4', b'5', b'1', b'16', b'1', b'2', b'3', b'4', b'1', b'4', b'5',\n",
       "       b'9', b'10', b'1', b'2', b'3', b'2', b'5', b'9', b'1', b'2', b'3',\n",
       "       b'4', b'5', b'6', b'7', b'1', b'1', b'4', b'5', b'6', b'7', b'8',\n",
       "       b'9', b'10', b'11', b'12', b'13', b'14', b'15', b'5', b'6', b'8',\n",
       "       b'12', b'15', b'19', b'23', b'33', b'1', b'2', b'3', b'1', b'2',\n",
       "       b'3', b'4', b'5', b'6', b'7', b'8', b'9', b'10', b'11', b'12',\n",
       "       b'13', b'14', b'15', b'16', b'17', b'18', b'1', b'1', b'3', b'6',\n",
       "       b'7', b'8', b'9', b'1', b'2', b'3', b'4', b'5', b'6', b'7', b'9',\n",
       "       b'10', b'11', b'12', b'14', b'15', b'16', b'19', b'2', b'3', b'4',\n",
       "       b'7', b'10', b'11', b'12', b'50', b'1', b'2', b'3', b'4', b'5',\n",
       "       b'1', b'1', b'2', b'3', b'4', b'5', b'6', b'7', b'8', b'9', b'10',\n",
       "       b'11', b'12', b'13', b'14', b'1', b'2', b'3', b'4', b'5', b'6',\n",
       "       b'7', b'8', b'9', b'10', b'11', b'12', b'13', b'14', b'15', b'16',\n",
       "       b'1', b'2', b'3', b'4', b'5', b'1', b'2', b'3', b'13', b'1', b'2',\n",
       "       b'3', b'4', b'5', b'6', b'4', b'13', b'1', b'5', b'1', b'2', b'3',\n",
       "       b'4', b'5', b'6', b'7', b'1', b'2', b'3', b'6', b'7', b'8', b'1',\n",
       "       b'2', b'3', b'4', b'5', b'6', b'7', b'8', b'9', b'10', b'11',\n",
       "       b'12', b'13', b'14', b'15', b'16', b'17', b'18', b'19', b'20',\n",
       "       b'21', b'22', b'23', b'24', b'25', b'1', b'2', b'1', b'2', b'3',\n",
       "       b'4', b'5', b'1', b'2', b'3', b'1', b'2', b'3', b'4', b'6', b'8',\n",
       "       b'10', b'12', b'14', b'15', b'16', b'17', b'20', b'21', b'23',\n",
       "       b'25', b'26', b'29', b'30', b'32', b'33', b'1', b'1', b'2', b'3',\n",
       "       b'4', b'5', b'6', b'7', b'1', b'2', b'10', b'17', b'19', b'1',\n",
       "       b'3', b'6', b'7', b'11', b'1', b'2', b'3', b'1', b'2', b'1', b'2',\n",
       "       b'3', b'2', b'1', b'2', b'3', b'4', b'5', b'6', b'7', b'1', b'3',\n",
       "       b'5', b'12', b'19', b'22', b'39', b'1', b'2', b'3', b'4', b'5',\n",
       "       b'6', b'1', b'1', b'2', b'3', b'4', b'5', b'6', b'7', b'8', b'9',\n",
       "       b'10', b'11', b'12', b'1', b'2', b'3', b'4', b'5', b'6', b'7',\n",
       "       b'8', b'9', b'1', b'1', b'2', b'3', b'4', b'5', b'6', b'7', b'8',\n",
       "       b'1', b'2', b'3', b'4', b'5', b'6', b'7', b'8', b'9', b'10', b'11',\n",
       "       b'12', b'13', b'1', b'2', b'3', b'4', b'5', b'1', b'2', b'3', b'4',\n",
       "       b'5', b'6', b'7', b'8', b'9', b'10', b'11', b'12', b'13', b'14',\n",
       "       b'15', b'16', b'17', b'18', b'1', b'2', b'1', b'2', b'3', b'4',\n",
       "       b'5', b'6', b'7', b'8', b'9', b'10', b'11', b'12', b'13', b'14',\n",
       "       b'15', b'16', b'2', b'6', b'7', b'2', b'16', b'18', b'22', b'1',\n",
       "       b'7', b'1', b'2', b'1', b'2', b'3', b'4', b'5', b'6', b'2', b'1',\n",
       "       b'2', b'3', b'4', b'5', b'6', b'7', b'4', b'5', b'6', b'7', b'8',\n",
       "       b'9', b'10', b'11', b'1', b'2', b'6', b'9', b'10', b'11', b'12',\n",
       "       b'1', b'2', b'1', b'2', b'3', b'1', b'2', b'4', b'6', b'7', b'1',\n",
       "       b'2', b'1', b'2', b'3', b'4', b'5', b'1', b'2', b'6', b'8', b'10',\n",
       "       b'13', b'1', b'2', b'1', b'2', b'3', b'1', b'1', b'7', b'2', b'4',\n",
       "       b'4', b'2', b'9', b'10', b'1', b'2', b'5', b'1', b'2', b'3', b'5',\n",
       "       b'7', b'9', b'11', b'1', b'1', b'2', b'4', b'5', b'7', b'9', b'10',\n",
       "       b'1', b'3', b'4', b'5', b'6', b'7', b'9', b'11'], dtype='|S3')"
      ]
     },
     "execution_count": 46,
     "metadata": {},
     "output_type": "execute_result"
    }
   ],
   "source": [
    "lnap"
   ]
  },
  {
   "cell_type": "code",
   "execution_count": 52,
   "id": "5ee6972f",
   "metadata": {},
   "outputs": [],
   "source": [
    "knap = np.empty(len(lnap))\n",
    "ic = 0\n",
    "for i in lnap:\n",
    "    knap[ic] = int(i)\n",
    "    ic = ic + 1"
   ]
  },
  {
   "cell_type": "code",
   "execution_count": 50,
   "id": "d4388f3a",
   "metadata": {},
   "outputs": [
    {
     "data": {
      "text/plain": [
       "4"
      ]
     },
     "execution_count": 50,
     "metadata": {},
     "output_type": "execute_result"
    }
   ],
   "source": [
    "int(lnap[10])"
   ]
  },
  {
   "cell_type": "code",
   "execution_count": 53,
   "id": "c045ef4a",
   "metadata": {},
   "outputs": [
    {
     "data": {
      "text/plain": [
       "222.0"
      ]
     },
     "execution_count": 53,
     "metadata": {},
     "output_type": "execute_result"
    }
   ],
   "source": [
    "max(knap)"
   ]
  },
  {
   "cell_type": "code",
   "execution_count": 54,
   "id": "eb1ac926",
   "metadata": {},
   "outputs": [
    {
     "data": {
      "text/plain": [
       "array([[b'PNQ', b'805', b'1'],\n",
       "       [b'LOV', b'805', b'1'],\n",
       "       [b'KXT', b'805', b'2'],\n",
       "       ...,\n",
       "       [b'CQA', b'805', b'7'],\n",
       "       [b'VPZ', b'805', b'9'],\n",
       "       [b'SRR', b'804', b'11']], dtype='|S3')"
      ]
     },
     "execution_count": 54,
     "metadata": {},
     "output_type": "execute_result"
    }
   ],
   "source": [
    "nap"
   ]
  },
  {
   "cell_type": "code",
   "execution_count": 59,
   "id": "0a43fdbc",
   "metadata": {},
   "outputs": [],
   "source": [
    "apdict = dict()\n",
    "ni = 0\n",
    "for ni in range(len(nap)):\n",
    "    k = int(nap[ni,2])\n",
    "    if k in apdict.keys():\n",
    "        apdict[k] = apdict[k] + 1\n",
    "    else:\n",
    "        apdict[k] = 1"
   ]
  },
  {
   "cell_type": "code",
   "execution_count": 60,
   "id": "0b00b760",
   "metadata": {},
   "outputs": [
    {
     "data": {
      "text/plain": [
       "{1: 118,\n",
       " 2: 98,\n",
       " 3: 76,\n",
       " 4: 66,\n",
       " 5: 61,\n",
       " 6: 54,\n",
       " 10: 32,\n",
       " 11: 25,\n",
       " 15: 16,\n",
       " 16: 12,\n",
       " 17: 8,\n",
       " 18: 7,\n",
       " 19: 9,\n",
       " 7: 48,\n",
       " 12: 23,\n",
       " 13: 17,\n",
       " 14: 14,\n",
       " 37: 1,\n",
       " 38: 1,\n",
       " 39: 2,\n",
       " 105: 1,\n",
       " 20: 4,\n",
       " 23: 8,\n",
       " 24: 3,\n",
       " 25: 3,\n",
       " 26: 3,\n",
       " 27: 1,\n",
       " 8: 34,\n",
       " 9: 30,\n",
       " 28: 2,\n",
       " 53: 2,\n",
       " 79: 1,\n",
       " 84: 1,\n",
       " 88: 1,\n",
       " 21: 4,\n",
       " 222: 1,\n",
       " 43: 1,\n",
       " 60: 1,\n",
       " 22: 4,\n",
       " 30: 2,\n",
       " 32: 2,\n",
       " 51: 1,\n",
       " 52: 1,\n",
       " 55: 1,\n",
       " 33: 2,\n",
       " 50: 1,\n",
       " 29: 1}"
      ]
     },
     "execution_count": 60,
     "metadata": {},
     "output_type": "execute_result"
    }
   ],
   "source": [
    "apdict"
   ]
  },
  {
   "cell_type": "code",
   "execution_count": 61,
   "id": "a5c5586e",
   "metadata": {},
   "outputs": [],
   "source": [
    "dap = dict(sorted(apdict.items()))"
   ]
  },
  {
   "cell_type": "code",
   "execution_count": 62,
   "id": "0f4a4665",
   "metadata": {},
   "outputs": [
    {
     "data": {
      "text/plain": [
       "{1: 118,\n",
       " 2: 98,\n",
       " 3: 76,\n",
       " 4: 66,\n",
       " 5: 61,\n",
       " 6: 54,\n",
       " 7: 48,\n",
       " 8: 34,\n",
       " 9: 30,\n",
       " 10: 32,\n",
       " 11: 25,\n",
       " 12: 23,\n",
       " 13: 17,\n",
       " 14: 14,\n",
       " 15: 16,\n",
       " 16: 12,\n",
       " 17: 8,\n",
       " 18: 7,\n",
       " 19: 9,\n",
       " 20: 4,\n",
       " 21: 4,\n",
       " 22: 4,\n",
       " 23: 8,\n",
       " 24: 3,\n",
       " 25: 3,\n",
       " 26: 3,\n",
       " 27: 1,\n",
       " 28: 2,\n",
       " 29: 1,\n",
       " 30: 2,\n",
       " 32: 2,\n",
       " 33: 2,\n",
       " 37: 1,\n",
       " 38: 1,\n",
       " 39: 2,\n",
       " 43: 1,\n",
       " 50: 1,\n",
       " 51: 1,\n",
       " 52: 1,\n",
       " 53: 2,\n",
       " 55: 1,\n",
       " 60: 1,\n",
       " 79: 1,\n",
       " 84: 1,\n",
       " 88: 1,\n",
       " 105: 1,\n",
       " 222: 1}"
      ]
     },
     "execution_count": 62,
     "metadata": {},
     "output_type": "execute_result"
    }
   ],
   "source": [
    "dap"
   ]
  },
  {
   "cell_type": "code",
   "execution_count": 67,
   "id": "f2aa941c",
   "metadata": {},
   "outputs": [
    {
     "data": {
      "text/plain": [
       "Text(0, 0.5, 'No of Articulation points')"
      ]
     },
     "execution_count": 67,
     "metadata": {},
     "output_type": "execute_result"
    },
    {
     "data": {
      "image/png": "[encoded data removed]",
      "text/plain": [
       "<Figure size 640x480 with 1 Axes>"
      ]
     },
     "metadata": {},
     "output_type": "display_data"
    }
   ],
   "source": [
    "plt.plot(dap.keys(),dap.values())\n",
    "plt.title('Articulation points')\n",
    "plt.xlabel('No of nodes in smaller graph')\n",
    "plt.ylabel('No of Articulation points')"
   ]
  },
  {
   "cell_type": "code",
   "execution_count": 65,
   "id": "68167dc4",
   "metadata": {},
   "outputs": [
    {
     "name": "stdout",
     "output_type": "stream",
     "text": [
      "b'GHY'\n"
     ]
    }
   ],
   "source": [
    "for i in range(len(nap)):\n",
    "    if nap[i,2] == b'222':\n",
    "        print(nap[i,0])"
   ]
  },
  {
   "cell_type": "code",
   "execution_count": 66,
   "id": "07f7af17",
   "metadata": {},
   "outputs": [
    {
     "data": {
      "text/plain": [
       "804"
      ]
     },
     "execution_count": 66,
     "metadata": {},
     "output_type": "execute_result"
    }
   ],
   "source": [
    "sum(dap.values())"
   ]
  },
  {
   "cell_type": "code",
   "execution_count": null,
   "id": "f86c4359",
   "metadata": {},
   "outputs": [],
   "source": []
  }
 ],
 "metadata": {
  "kernelspec": {
   "display_name": "Python 3 (ipykernel)",
   "language": "python",
   "name": "python3"
  },
  "language_info": {
   "codemirror_mode": {
    "name": "ipython",
    "version": 3
   },
   "file_extension": ".py",
   "mimetype": "text/x-python",
   "name": "python",
   "nbconvert_exporter": "python",
   "pygments_lexer": "ipython3",
   "version": "3.10.6"
  }
 },
 "nbformat": 4,
 "nbformat_minor": 5
}
