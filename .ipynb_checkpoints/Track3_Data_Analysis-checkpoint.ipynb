{
 "cells": [
  {
   "cell_type": "code",
   "execution_count": 1,
   "id": "609d466f",
   "metadata": {},
   "outputs": [],
   "source": [
    "import networkx as nx\n",
    "import matplotlib.pyplot as plt\n",
    "import numpy as np"
   ]
  },
  {
   "cell_type": "code",
   "execution_count": 2,
   "id": "fb7d4f76",
   "metadata": {},
   "outputs": [],
   "source": [
    "import pandas as pd"
   ]
  },
  {
   "cell_type": "code",
   "execution_count": 56,
   "id": "13347903",
   "metadata": {},
   "outputs": [
    {
     "name": "stderr",
     "output_type": "stream",
     "text": [
      "C:\\Users\\gonah\\AppData\\Local\\Temp\\ipykernel_23432\\1426108942.py:1: DtypeWarning: Columns (0,2,7) have mixed types. Specify dtype option on import or set low_memory=False.\n",
      "  d1 = pd.read_csv('../Train_details_22122017.csv')\n"
     ]
    }
   ],
   "source": [
    "d1 = pd.read_csv('../Train_details_22122017.csv')"
   ]
  },
  {
   "cell_type": "code",
   "execution_count": 36,
   "id": "385e6db0",
   "metadata": {},
   "outputs": [
    {
     "name": "stdout",
     "output_type": "stream",
     "text": [
      "       Train No    Train Name SEQ Station Code  Station Name Arrival time  \\\n",
      "0           107  SWV-MAO-VLNK   1          SWV  SAWANTWADI R     00:00:00   \n",
      "1           107  SWV-MAO-VLNK   2         THVM        THIVIM     11:06:00   \n",
      "2           107  SWV-MAO-VLNK   3         KRMI       KARMALI     11:28:00   \n",
      "3           107  SWV-MAO-VLNK   4          MAO   MADGOAN JN.     12:10:00   \n",
      "4           108  VLNK-MAO-SWV   1          MAO   MADGOAN JN.     00:00:00   \n",
      "...         ...           ...  ..          ...           ...          ...   \n",
      "186119    99908           EMU   8         AKRD        AKURDI     23:30:00   \n",
      "186120    99908           EMU   9         DEHR     DEHU ROAD     23:35:00   \n",
      "186121    99908           EMU  10         BGWI     BEGDAEWAI     23:39:00   \n",
      "186122    99908           EMU  11         GRWD     GHORAWADI     23:41:00   \n",
      "186123    99908           EMU  12          TGN      TALEGAON     23:50:00   \n",
      "\n",
      "       Departure Time Distance Source Station Source Station Name  \\\n",
      "0            10:25:00        0            SWV     SAWANTWADI ROAD   \n",
      "1            11:08:00       32            SWV     SAWANTWADI ROAD   \n",
      "2            11:30:00       49            SWV     SAWANTWADI ROAD   \n",
      "3            00:00:00       78            SWV     SAWANTWADI ROAD   \n",
      "4            20:30:00        0            MAO         MADGOAN JN.   \n",
      "...               ...      ...            ...                 ...   \n",
      "186119       23:31:00       19           PUNE            PUNE JN.   \n",
      "186120       23:36:00       24           PUNE            PUNE JN.   \n",
      "186121       23:40:00       28           PUNE            PUNE JN.   \n",
      "186122       23:42:00       31           PUNE            PUNE JN.   \n",
      "186123       00:00:00       34           PUNE            PUNE JN.   \n",
      "\n",
      "       Destination Station Destination Station Name  \n",
      "0                      MAO              MADGOAN JN.  \n",
      "1                      MAO              MADGOAN JN.  \n",
      "2                      MAO              MADGOAN JN.  \n",
      "3                      MAO              MADGOAN JN.  \n",
      "4                      SWV          SAWANTWADI ROAD  \n",
      "...                    ...                      ...  \n",
      "186119                 TGN                 TALEGAON  \n",
      "186120                 TGN                 TALEGAON  \n",
      "186121                 TGN                 TALEGAON  \n",
      "186122                 TGN                 TALEGAON  \n",
      "186123                 TGN                 TALEGAON  \n",
      "\n",
      "[186124 rows x 12 columns]\n"
     ]
    }
   ],
   "source": [
    "print(d1)"
   ]
  },
  {
   "cell_type": "code",
   "execution_count": 5,
   "id": "6917a13f",
   "metadata": {},
   "outputs": [
    {
     "name": "stdout",
     "output_type": "stream",
     "text": [
      "0           107\n",
      "1           107\n",
      "2           107\n",
      "3           107\n",
      "4           108\n",
      "          ...  \n",
      "186119    99908\n",
      "186120    99908\n",
      "186121    99908\n",
      "186122    99908\n",
      "186123    99908\n",
      "Name: Train No, Length: 186124, dtype: object\n"
     ]
    }
   ],
   "source": [
    "print(d1['Train No'])"
   ]
  },
  {
   "cell_type": "code",
   "execution_count": 6,
   "id": "9cad7729",
   "metadata": {},
   "outputs": [],
   "source": [
    "train_nos = d1['Train No'].unique()"
   ]
  },
  {
   "cell_type": "code",
   "execution_count": 7,
   "id": "6ac44e8b",
   "metadata": {},
   "outputs": [
    {
     "name": "stdout",
     "output_type": "stream",
     "text": [
      "['107' '108' '128' ... '99906' '99907' '99908']\n"
     ]
    }
   ],
   "source": [
    "print(train_nos)"
   ]
  },
  {
   "cell_type": "code",
   "execution_count": 8,
   "id": "5df0a2b7",
   "metadata": {},
   "outputs": [
    {
     "data": {
      "text/plain": [
       "11115"
      ]
     },
     "execution_count": 8,
     "metadata": {},
     "output_type": "execute_result"
    }
   ],
   "source": [
    "len(train_nos)"
   ]
  },
  {
   "cell_type": "code",
   "execution_count": 9,
   "id": "ab21f477",
   "metadata": {},
   "outputs": [
    {
     "name": "stdout",
     "output_type": "stream",
     "text": [
      "8100\n"
     ]
    }
   ],
   "source": [
    "stations = d1['Station Name'].unique()\n",
    "print(len(stations))"
   ]
  },
  {
   "cell_type": "code",
   "execution_count": 10,
   "id": "bac08b16",
   "metadata": {},
   "outputs": [],
   "source": [
    "G1 = nx.Graph()"
   ]
  },
  {
   "cell_type": "code",
   "execution_count": 11,
   "id": "591fb51d",
   "metadata": {},
   "outputs": [],
   "source": [
    "G1.add_edge(1,2)"
   ]
  },
  {
   "cell_type": "code",
   "execution_count": 12,
   "id": "843520c5",
   "metadata": {},
   "outputs": [],
   "source": [
    "G1.add_edge(1,3)\n"
   ]
  },
  {
   "cell_type": "code",
   "execution_count": 13,
   "id": "9c365bde",
   "metadata": {},
   "outputs": [
    {
     "data": {
      "image/png": "[encoded data removed]",
      "text/plain": [
       "<Figure size 640x480 with 1 Axes>"
      ]
     },
     "metadata": {},
     "output_type": "display_data"
    }
   ],
   "source": [
    "nx.draw(G1,with_labels=True,node_color='orange')"
   ]
  },
  {
   "cell_type": "code",
   "execution_count": 14,
   "id": "69f67831",
   "metadata": {},
   "outputs": [
    {
     "data": {
      "image/png": "[encoded data removed]",
      "text/plain": [
       "<Figure size 640x480 with 1 Axes>"
      ]
     },
     "metadata": {},
     "output_type": "display_data"
    }
   ],
   "source": [
    "G2 = nx.Graph()\n",
    "G2.add_edge(\"S1\",\"S2\")\n",
    "nx.draw(G2,with_labels=True,node_color='orange')"
   ]
  },
  {
   "cell_type": "code",
   "execution_count": 51,
   "id": "6bb088cf",
   "metadata": {},
   "outputs": [],
   "source": [
    "k = range(0,10)"
   ]
  },
  {
   "cell_type": "code",
   "execution_count": 52,
   "id": "1cf619c6",
   "metadata": {},
   "outputs": [
    {
     "data": {
      "text/plain": [
       "range(0, 10)"
      ]
     },
     "execution_count": 52,
     "metadata": {},
     "output_type": "execute_result"
    }
   ],
   "source": [
    "k"
   ]
  },
  {
   "cell_type": "code",
   "execution_count": 53,
   "id": "45f79407",
   "metadata": {},
   "outputs": [
    {
     "data": {
      "text/plain": [
       "0"
      ]
     },
     "execution_count": 53,
     "metadata": {},
     "output_type": "execute_result"
    }
   ],
   "source": [
    "k[0]"
   ]
  },
  {
   "cell_type": "code",
   "execution_count": 54,
   "id": "9c9084b1",
   "metadata": {},
   "outputs": [
    {
     "data": {
      "text/plain": [
       "9"
      ]
     },
     "execution_count": 54,
     "metadata": {},
     "output_type": "execute_result"
    }
   ],
   "source": [
    "k[-1]"
   ]
  },
  {
   "cell_type": "code",
   "execution_count": 55,
   "id": "304906f5",
   "metadata": {},
   "outputs": [
    {
     "data": {
      "text/plain": [
       "9"
      ]
     },
     "execution_count": 55,
     "metadata": {},
     "output_type": "execute_result"
    }
   ],
   "source": [
    "k[len(k)-1]"
   ]
  },
  {
   "cell_type": "code",
   "execution_count": 56,
   "id": "d3674fb4",
   "metadata": {},
   "outputs": [
    {
     "data": {
      "text/plain": [
       "'107'"
      ]
     },
     "execution_count": 56,
     "metadata": {},
     "output_type": "execute_result"
    }
   ],
   "source": [
    "d1['Train No'][0]"
   ]
  },
  {
   "cell_type": "code",
   "execution_count": 57,
   "id": "4851cc34",
   "metadata": {
    "scrolled": true
   },
   "outputs": [
    {
     "data": {
      "text/plain": [
       "186124"
      ]
     },
     "execution_count": 57,
     "metadata": {},
     "output_type": "execute_result"
    }
   ],
   "source": [
    "len(d1['Train No'])"
   ]
  },
  {
   "cell_type": "code",
   "execution_count": 61,
   "id": "4b699ac5",
   "metadata": {},
   "outputs": [],
   "source": [
    "G = nx.Graph()\n",
    "for i in range(0,len(d1['Train No'])):\n",
    "    if i < len(d1['Train No']) - 1:\n",
    "        if d1['SEQ'][i+1] != 1:\n",
    "            G.add_edge(d1['Station Code'][i],d1['Station Code'][i+1])"
   ]
  },
  {
   "cell_type": "code",
   "execution_count": 63,
   "id": "a38d06f7",
   "metadata": {},
   "outputs": [
    {
     "data": {
      "image/png": "[encoded data removed]",
      "text/plain": [
       "<Figure size 640x480 with 1 Axes>"
      ]
     },
     "metadata": {},
     "output_type": "display_data"
    }
   ],
   "source": [
    "nx.draw(G)"
   ]
  },
  {
   "cell_type": "code",
   "execution_count": 65,
   "id": "c6d66e59",
   "metadata": {},
   "outputs": [
    {
     "data": {
      "text/plain": [
       "('ZRDE', 3)"
      ]
     },
     "execution_count": 65,
     "metadata": {},
     "output_type": "execute_result"
    }
   ],
   "source": [
    "max(G.degree)"
   ]
  },
  {
   "cell_type": "code",
   "execution_count": 68,
   "id": "610d8907",
   "metadata": {},
   "outputs": [
    {
     "data": {
      "text/plain": [
       "11"
      ]
     },
     "execution_count": 68,
     "metadata": {},
     "output_type": "execute_result"
    }
   ],
   "source": [
    "G.degree['SWV']"
   ]
  },
  {
   "cell_type": "code",
   "execution_count": 69,
   "id": "78539b86",
   "metadata": {},
   "outputs": [
    {
     "data": {
      "text/plain": [
       "networkx.classes.reportviews.DegreeView"
      ]
     },
     "execution_count": 69,
     "metadata": {},
     "output_type": "execute_result"
    }
   ],
   "source": [
    "type(G.degree)"
   ]
  },
  {
   "cell_type": "code",
   "execution_count": 62,
   "id": "602da1b6",
   "metadata": {},
   "outputs": [
    {
     "data": {
      "text/plain": [
       "DegreeView({'SWV': 9, 'THVM': 9, 'KRMI': 6, 'MAO': 21, 'KUDL': 8, 'SNDD': 5, 'KKW': 8, 'VBW': 3, 'RAJP': 5, 'RN': 20, 'SGR': 4, 'CHI': 8, 'KHED': 8, 'MNI': 7, 'ROHA': 9, 'PNVL': 28, 'KJT': 13, 'LNL': 18, 'PUNE': 22, 'STR': 8, 'MRJ': 19, 'KOP': 4, 'DSJ': 12, 'GADJ': 7, 'JP': 22, 'DPA': 4, 'SWM': 18, 'COR': 20, 'UDZ': 5, 'JSM': 5, 'MDB': 6, 'FL': 19, 'BTE': 20, 'IDH': 10, 'AGC': 23, 'AWB': 8, 'MMR': 24, 'BSL': 30, 'KNW': 15, 'JHS': 28, 'CNB': 43, 'LKO': 36, 'BBK': 18, 'AY': 12, 'SHG': 11, 'JNU': 16, 'BSB': 36, 'FGR': 7, 'KSJ': 14, 'BE': 24, 'SVDK': 6, 'SSA': 7, 'HSR': 15, 'BNW': 11, 'ROK': 20, 'MGS': 46, 'RJPB': 4, 'SNP': 18, 'PNP': 23, 'KUN': 10, 'KKDE': 15, 'UMB': 26, 'PNBE': 24, 'BTI': 30, 'PTA': 8, 'URK': 3, 'PJP': 4, 'ASR': 16, 'CSMT': 22, 'DR': 13, 'TNA': 20, 'KYN': 29, 'IGP': 10, 'NK': 10, 'JL': 12, 'MKU': 9, 'SEG': 7, 'AK': 20, 'MZR': 4, 'BD': 10, 'DMN': 7, 'PLO': 4, 'WR': 15, 'NGP': 28, 'LTT': 7, 'AJNI': 7, 'CSN': 10, 'KAWR': 12, 'KT': 8, 'KUDA': 6, 'UD': 13, 'MULK': 4, 'MAJN': 13, 'MTJ': 26, 'GWL': 19, 'BPL': 23, 'ET': 22, 'DD': 21, 'KK': 7, 'ANG': 10, 'KPG': 8, 'HD': 9, 'PPI': 9, 'NU': 9, 'MML': 6, 'JBP': 14, 'BDTS': 5, 'BVI': 16, 'VAPI': 14, 'ST': 24, 'BRC': 32, 'RTM': 28, 'UJN': 16, 'BIH': 6, 'HBD': 7, 'KMZ': 14, 'DMO': 7, 'SGO': 14, 'MAKR': 8, 'LAR': 13, 'NDLS': 35, 'LDH': 36, 'JUC': 22, 'BEAS': 13, 'ATT': 5, 'SHR': 8, 'KTE': 21, 'UMR': 9, 'SDL': 13, 'APR': 11, 'PND': 11, 'BSP': 24, 'CPH': 12, 'RIG': 13, 'JSG': 18, 'ROU': 17, 'CKP': 15, 'TATA': 31, 'KGP': 36, 'SRC': 16, 'REWA': 2, 'STA': 20, 'MYR': 6, 'JKE': 5, 'BINA': 20, 'BHS': 10, 'TVC': 14, 'QLN': 24, 'KYJ': 11, 'MVLK': 4, 'CNGR': 6, 'TRVL': 4, 'KTYM': 16, 'ERN': 7, 'AWY': 9, 'TCR': 19, 'PGT': 15, 'CBE': 13, 'TUP': 9, 'ED': 18, 'SA': 27, 'JTJ': 21, 'KPD': 35, 'AJJ': 28, 'MAS': 18, 'OGL': 20, 'BZA': 54, 'RJY': 21, 'VSKP': 17, 'VZM': 24, 'CHE': 10, 'PSA': 20, 'BAM': 14, 'BALU': 10, 'KUR': 22, 'BBS': 19, 'CTC': 30, 'JJKR': 13, 'BHC': 16, 'BLS': 18, 'HWH': 32, 'BHP': 10, 'RPH': 18, 'PKR': 12, 'NFK': 13, 'MLDT': 16, 'KNE': 12, 'NJP': 22, 'DQG': 7, 'NCB': 21, 'NOQ': 8, 'KOJ': 7, 'NBQ': 21, 'BPRD': 9, 'RNY': 12, 'KYQ': 7, 'GHY': 16, 'HJI': 10, 'LMG': 13, 'NHGJ': 4, 'BPB': 9, 'SCL': 3, 'PLNI': 6, 'UDT': 4, 'POY': 7, 'HYB': 17, 'SC': 41, 'MED': 15, 'KMC': 13, 'NZB': 18, 'DAB': 6, 'MUE': 10, 'NED': 15, 'PAU': 11, 'BMF': 4, 'HNL': 5, 'WHM': 4, 'BAU': 7, 'NAD': 16, 'MDS': 6, 'NMH': 12, 'BHL': 11, 'AII': 18, 'KSG': 7, 'DURG': 15, 'R': 27, 'RJT': 19, 'WKR': 15, 'SUNR': 19, 'VG': 17, 'ADI': 22, 'ND': 12, 'ANND': 17, 'BH': 15, 'NDB': 12, 'AN': 10, 'G': 19, 'DVD': 9, 'NLR': 15, 'HTE': 10, 'KOAA': 13, 'PURI': 8, 'ASN': 23, 'BCQ': 2, 'STN': 7, 'ULT': 5, 'BRR': 5, 'KMME': 6, 'MMU': 2, 'TNW': 2, 'KAO': 2, 'CAM': 2, 'PKA': 4, 'DOKM': 2, 'DHN': 19, 'KDS': 1, 'SZE': 1, 'TNO': 2, 'BDQ': 2, 'PLJE': 4, 'JSME': 20, 'ANVT': 9, 'GZB': 31, 'MTC': 12, 'MOZ': 11, 'SRE': 17, 'YJUD': 5, 'JRC': 11, 'PTKC': 12, 'JAT': 15, 'UHP': 9, 'DLI': 29, 'BSR': 22, 'KOTA': 30, 'NZM': 23, 'BKN': 15, 'NPS': 5, 'SDF': 4, 'SDGH': 5, 'RJR': 4, 'RTGH': 12, 'CUR': 7, 'SDLP': 14, 'LHU': 9, 'MHRG': 7, 'RE': 26, 'DSA': 8, 'SMQL': 11, 'TPZ': 9, 'RK': 11, 'HW': 7, 'HMH': 12, 'JRKN': 2, 'HLW': 2, 'DPK': 4, 'BUGL': 2, 'BDSW': 2, 'SDS': 6, 'FSW': 2, 'BWC': 3, 'SGNR': 8, 'NRWI': 4, 'SDMK': 3, 'AUS': 3, 'TSD': 3, 'GAMI': 3, 'DPLN': 3, 'NHR': 3, 'KNNA': 4, 'ENB': 3, 'TLI': 2, 'TIBI': 3, 'SRKN': 3, 'HMO': 2, 'PRUR': 2, 'KESR': 4, 'DPT': 2, 'SRW': 4, 'ZPR': 2, 'GJS': 3, 'RSNR': 3, 'MNGR': 3, 'MSWA': 3, 'BUGY': 2, 'JES': 6, 'SRPR': 3, 'SRZ': 4, 'BNSR': 3, 'SOG': 14, 'PBC': 2, 'BIDD': 2, 'MKN': 9, 'JU': 18, 'GOTN': 6, 'MTD': 12, 'DNA': 11, 'KHTU': 3, 'CTKT': 5, 'DIA': 6, 'LAU': 3, 'SUJH': 3, 'SWNI': 5, 'DUI': 11, 'RPJ': 9, 'JUDW': 5, 'JWP': 6, 'KQW': 2, 'REN': 4, 'JAC': 2, 'JACN': 2, 'KRC': 2, 'PW': 2, 'KKNA': 4, 'MBSK': 2, 'SVO': 2, 'BLSD': 2, 'TLC': 3, 'PIH': 2, 'LOHA': 2, 'MIO': 2, 'SMNN': 2, 'JOH': 2, 'DEP': 2, 'PKY': 2, 'SSW': 2, 'KNZ': 2, 'DZP': 2, 'MFB': 2, 'RAA': 5, 'TDW': 2, 'KES': 2, 'DOKY': 2, 'PTK': 13, 'BHRL': 3, 'SJNP': 4, 'MDPB': 2, 'KTHU': 11, 'BDHY': 2, 'CHNR': 3, 'CKDL': 3, 'HRNR': 4, 'GHGL': 3, 'SMBX': 7, 'VJPJ': 3, 'BBMN': 3, 'GKP': 26, 'ANDN': 11, 'NUH': 7, 'SOT': 5, 'BNY': 10, 'CPR': 16, 'SV': 15, 'THE': 7, 'TOI': 4, 'DUE': 4, 'POU': 4, 'RKL': 4, 'CPJ': 12, 'BST': 11, 'MUR': 12, 'GD': 19, 'BNZ': 6, 'LJN': 16, 'SWA': 5, 'KLD': 6, 'CPA': 6, 'RPO': 2, 'KAP': 8, 'BJR': 5, 'BLU': 5, 'ARL': 4, 'KJN': 9, 'GHJ': 5, 'KLJ': 4, 'FBD': 11, 'BC': 3, 'IZN': 5, 'BPR': 5, 'BHI': 4, 'KHH': 4, 'LKU': 8, 'JMP': 17, 'MGR': 3, 'SBDP': 3, 'UMNR': 3, 'KGG': 18, 'MNE': 9, 'BHB': 2, 'DHT': 5, 'KFA': 4, 'SBV': 6, 'SBM': 2, 'SHC': 5, 'JLWC': 5, 'JLF': 2, 'RMA': 9, 'MKX': 4, 'KIW': 2, 'DARA': 4, 'RDT': 3, 'ALNI': 3, 'DDV': 2, 'DKNT': 7, 'NLP': 4, 'LBI': 2, 'SWJ': 2, 'BGND': 2, 'SUZ': 2, 'GOM': 3, 'BDLN': 3, 'JFD': 2, 'DMC': 4, 'MYO': 2, 'SRPN': 2, 'SBGN': 2, 'SPTR': 4, 'ACPR': 2, 'DIPA': 2, 'SMCP': 3, 'TQM': 3, 'LMY': 2, 'JYK': 2, 'MZS': 2, 'CPK': 10, 'MBG': 5, 'MXR': 4, 'NHLG': 7, 'KTX': 5, 'KIR': 25, 'SI': 5, 'SRI': 4, 'BOE': 16, 'DLK': 6, 'AUB': 7, 'TKG': 6, 'NAK': 4, 'BORA': 4, 'SGUJ': 15, 'KYO': 2, 'GVR': 4, 'KBY': 2, 'TNL': 5, 'HRSN': 2, 'ULG': 5, 'RWTB': 2, 'MJBT': 4, 'HJLI': 2, 'DKJR': 6, 'BLRE': 2, 'NMM': 5, 'MSMI': 2, 'RPAN': 10, 'BVU': 4, 'DQL': 2, 'NCA': 2, 'VNE': 7, 'MFC': 2, 'NBX': 2, 'BVV': 2, 'HML': 4, 'BJL': 2, 'GPZ': 5, 'DBW': 2, 'UKE': 2, 'TBH': 4, 'TPG': 2, 'HMY': 8, 'TUJ': 2, 'KTPR': 4, 'SOB': 2, 'MS': 18, 'TBM': 13, 'CGL': 14, 'VM': 26, 'VRI': 13, 'TPJ': 28, 'DG': 15, 'KQN': 5, 'MDU': 16, 'VPT': 10, 'SRT': 4, 'CVP': 5, 'MEJ': 9, 'TEN': 16, 'MBM': 7, 'ERS': 18, 'OTP': 6, 'PER': 14, 'SLO': 15, 'TDD': 8, 'EE': 9, 'TEL': 17, 'CLX': 9, 'GDR': 23, 'PDY': 4, 'CGY': 3, 'KCVL': 5, 'SRR': 21, 'CLT': 16, 'CAN': 16, 'KGQ': 11, 'AKP': 10, 'MLMR': 10, 'TDPR': 6, 'CUPJ': 10, 'MV': 19, 'KMU': 7, 'TJ': 14, 'MPA': 6, 'KRR': 16, 'PTJ': 7, 'CNV': 2, 'PAY': 11, 'MKM': 5, 'CHU': 2, 'OGM': 2, 'COL': 2, 'BEML': 2, 'BWT': 22, 'TCL': 4, 'BFW': 2, 'MLO': 6, 'DKN': 2, 'WFD': 10, 'KJM': 14, 'BYPL': 8, 'BAND': 8, 'YPR': 22, 'TK': 13, 'ASK': 16, 'DVG': 11, 'UBL': 23, 'DWR': 12, 'BGM': 11, 'GPB': 7, 'KUD': 5, 'KVK': 5, 'DLGN': 4, 'SGLA': 6, 'PVR': 4, 'TPT': 7, 'KPN': 13, 'RU': 22, 'YPRA': 2, 'BAW': 7, 'GHL': 4, 'BNKH': 2, 'DBL': 8, 'MDLL': 2, 'NDV': 5, 'DBS': 2, 'HHL': 4, 'KDAG': 2, 'KIAT': 5, 'HEI': 2, 'MLSA': 2, 'GBB': 4, 'NTR': 2, 'SPGR': 2, 'AMSA': 5, 'BSN': 3, 'ARGP': 3, 'RDI': 4, 'BNK': 2, 'TTR': 8, 'SSNH': 2, 'HVL': 4, 'ADHL': 2, 'BVR': 2, 'VNR': 3, 'BLKR': 2, 'DRU': 6, 'RRB': 10, 'NVF': 2, 'AJP': 5, 'SHV': 3, 'HSD': 5, 'ABGT': 2, 'RGI': 4, 'NLNR': 2, 'HLK': 3, 'JRU': 16, 'SLU': 2, 'MYK': 4, 'KAG': 3, 'HNH': 2, 'THN': 2, 'AVC': 2, 'HRR': 9, 'KMPS': 2, 'CLI': 3, 'RNR': 7, 'DAD': 2, 'BYD': 3, 'HVR': 7, 'KJG': 3, 'KVS': 2, 'SVNR': 2, 'YLG': 5, 'KALS': 2, 'GDI': 2, 'SNH': 2, 'KNO': 3, 'SUBL': 2, 'UNK': 3, 'AGL': 4, 'NVU': 3, 'KRKP': 2, 'MGD': 3, 'KBI': 3, 'KHST': 2, 'LWR': 6, 'TVG': 3, 'NAG': 2, 'DEV': 5, 'SVTN': 2, 'LD': 9, 'GNJ': 2, 'KNP': 5, 'IDJ': 2, 'DUR': 3, 'LOGH': 3, 'HEB': 2, 'BLRR': 3, 'CRLM': 6, 'HLE': 2, 'AEK': 2, 'HSRA': 10, 'HDIH': 2, 'KDGH': 2, 'YNK': 12, 'TLS': 2, 'DJL': 2, 'DHL': 2, 'KRBA': 4, 'SRBA': 4, 'KTHD': 4, 'NIA': 3, 'AKT': 6, 'JRMG': 4, 'PGTN': 6, 'PDGM': 3, 'KLGD': 3, 'MMDA': 2, 'MXM': 3, 'GMGM': 2, 'MVRD': 2, 'PPTR': 2, 'KIK': 11, 'TMPT': 2, 'NCR': 5, 'HBQ': 2, 'KUG': 3, 'HBS': 2, 'SVHE': 4, 'NVD': 3, 'NGR': 5, 'LKT': 3, 'BKIT': 2, 'GDG': 14, 'HBL': 2, 'BLR': 2, 'MLP': 4, 'SMKT': 2, 'HLAR': 6, 'JAK': 2, 'LKY': 4, 'YGA': 2, 'BDM': 6, 'GED': 2, 'BGK': 6, 'MGL': 4, 'KLM': 2, 'JRKT': 4, 'SII': 2, 'KSAR': 2, 'LMT': 8, 'BENL': 2, 'WDL': 4, 'ANGR': 2, 'BSRX': 6, 'KDGI': 3, 'KGIH': 4, 'MVD': 6, 'HOH': 2, 'JML': 4, 'IMR': 2, 'BJP': 16, 'KZJ': 24, 'MCI': 7, 'SKZR': 9, 'BPQ': 22, 'CD': 12, 'RNC': 12, 'MURI': 16, 'BKSC': 17, 'GMO': 25, 'PNME': 8, 'KQR': 14, 'GAYA': 25, 'NWD': 4, 'KIUL': 22, 'SKJ': 8, 'BGS': 13, 'BJU': 30, 'SPJ': 21, 'DBG': 13, 'KML': 6, 'JNR': 6, 'SMI': 11, 'BGU': 5, 'RXL': 12, 'RDM': 8, 'KCG': 30, 'MJF': 13, 'CHZ': 7, 'NLDA': 12, 'MRGA': 9, 'PGRL': 8, 'SAP': 7, 'GNT': 21, 'ANV': 8, 'TUNI': 11, 'TPTY': 21, 'COA': 5, 'CCT': 6, 'NDD': 12, 'VLNK': 3, 'NGT': 8, 'TVR': 11, 'SY': 5, 'CDM': 7, 'CJ': 6, 'TRT': 8, 'NDKD': 9, 'GDV': 15, 'KKLR': 4, 'AKVD': 5, 'BVRT': 6, 'TNKU': 8, 'ZN': 11, 'WL': 19, 'MABD': 12, 'DKJ': 11, 'KMT': 11, 'MDR': 7, 'NDO': 6, 'BPP': 6, 'KVZ': 7, 'VKI': 5, 'KHT': 6, 'VN': 6, 'KRMR': 7, 'PDPL': 14, 'JMKT': 7, 'MLY': 6, 'VNUP': 3, 'BMT': 11, 'LPI': 11, 'VKB': 13, 'TDU': 14, 'SEM': 7, 'CT': 10, 'YG': 10, 'RC': 18, 'MALM': 8, 'AD': 7, 'GTL': 23, 'GY': 13, 'TU': 8, 'KDP': 5, 'YA': 10, 'KKM': 4, 'HX': 13, 'NRE': 5, 'RJP': 7, 'KOU': 5, 'ADL': 8, 'BWN': 30, 'JPE': 7, 'MYGD': 4, 'MHBA': 5, 'GLPT': 7, 'NS': 7, 'PKO': 5, 'VVM': 6, 'BVRM': 15, 'MOO': 5, 'DHNE': 16, 'KRNT': 14, 'GWD': 9, 'MBNR': 17, 'JCL': 6, 'SHNR': 9, 'BMO': 14, 'BSX': 6, 'PBN': 11, 'J': 10, 'SKP': 4, 'ZB': 4, 'BIDR': 10, 'BHLK': 5, 'UDGR': 5, 'LTRR': 7, 'PNF': 5, 'PRLI': 12, 'GNH': 4, 'MVO': 5, 'SELU': 6, 'PTU': 4, 'NSL': 11, 'SKND': 5, 'KDJR': 8, 'JRLI': 3, 'BSPX': 4, 'DPS': 8, 'CBSA': 8, 'CTO': 5, 'ADB': 7, 'KNVT': 7, 'SHSK': 5, 'HEM': 8, 'BOKR': 5, 'LUR': 4, 'UMD': 6, 'BTW': 4, 'KWV': 15, 'SGUT': 2, 'ABFC': 2, 'BLK': 3, 'RQJ': 4, 'BPV': 3, 'NCBD': 3, 'NYRH': 3, 'CAPG': 2, 'MRDG': 2, 'TFGN': 3, 'BXHT': 3, 'BDYR': 2, 'AGMN': 5, 'GKJ': 5, 'GUP': 3, 'DBB': 4, 'MTJR': 3, 'BSI': 4, 'MONJ': 2, 'TPK': 3, 'SPX': 2, 'FKM': 8, 'SLKX': 3, 'BSGN': 4, 'DTX': 2, 'ATP': 8, 'DMM': 15, 'SSPN': 6, 'PKD': 6, 'HUP': 13, 'MAG': 5, 'JGM': 12, 'MDN': 13, 'GKL': 2, 'GMDN': 3, 'NPTY': 2, 'KKQ': 3, 'KSO': 2, 'SUA': 4, 'HIJ': 12, 'BPE': 2, 'NYA': 3, 'VKD': 2, 'BLDA': 9, 'NSI': 2, 'DNT': 5, 'AGV': 2, 'LXD': 3, 'JER': 10, 'RGT': 2, 'ARD': 3, 'BTS': 5, 'NMBR': 2, 'ROP': 10, 'HIP': 3, 'TKPL': 2, 'SHM': 4, 'GUNA': 14, 'RTA': 10, 'BNLW': 7, 'BUTA': 3, 'GSL': 3, 'SLB': 4, 'CDGR': 4, 'GBA': 8, 'BGO': 2, 'PBA': 3, 'VSU': 8, 'RSG': 2, 'ODM': 5, 'KISN': 2, 'BXL': 3, 'BQA': 15, 'PRSL': 2, 'RKSN': 7, 'BRM': 2, 'SBP': 15, 'BRGA': 5, 'BLGR': 9, 'TIG': 12, 'KSNG': 6, 'RGDA': 16, 'KRDL': 3, 'BCHL': 3, 'DWZ': 4, 'KKLU': 4, 'DMK': 4, 'JDB': 5, 'KPRR': 4, 'JYP': 6, 'KRPU': 11, 'ARK': 4, 'KTV': 7, 'NGNT': 3, 'CAF': 4, 'BRKA': 14, 'GMIA': 5, 'PUS': 6, 'CRP': 12, 'ALD': 32, 'TDL': 18, 'ALJN': 23, 'ADRA': 24, 'BJE': 13, 'MHQ': 8, 'JAA': 6, 'RSM': 2, 'MUP': 4, 'PMS': 2, 'RJN': 7, 'BAKL': 2, 'MUA': 3, 'JTR': 2, 'DGG': 9, 'PJB': 2, 'BTL': 2, 'DKS': 2, 'SKS': 4, 'DNL': 2, 'AGN': 5, 'GDM': 2, 'BCT': 10, 'MSH': 16, 'PNU': 14, 'ABR': 14, 'FA': 9, 'MJ': 18, 'PMY': 6, 'NGO': 7, 'NOK': 5, 'DHG': 9, 'SIOB': 11, 'BCOB': 5, 'GIMB': 5, 'BWM': 9, 'NSD': 5, 'BJNR': 8, 'CNA': 8, 'KIN': 6, 'MVJ': 7, 'RPZ': 3, 'IDG': 4, 'GGC': 11, 'SMBJ': 6, 'HAN': 5, 'BXN': 17, 'FDB': 9, 'ADVI': 5, 'PERN': 9, 'VID': 5, 'BTJL': 10, 'TIR': 7, 'SNSI': 5, 'PB': 7, 'BAP': 6, 'BGVN': 5, 'PRWD': 4, 'JEUR': 7, 'KEM': 4, 'MLB': 3, 'VEER': 6, 'SVX': 3, 'AVRD': 2, 'NAN': 2, 'KRD': 9, 'TKR': 4, 'SLI': 8, 'VLR': 8, 'ARV': 5, 'PRL': 4, 'TNM': 7, 'TRK': 5, 'NRL': 4, 'KAD': 3, 'TGN': 10, 'SVJR': 4, 'CCH': 8, 'PMP': 5, 'SUR': 22, 'DUD': 6, 'GUR': 8, 'GR': 16, 'SDB': 3, 'WADI': 13, 'KSN': 5, 'KLU': 5, 'GBD': 7, 'BNCE': 9, 'SBC': 29, 'BNC': 16, 'DPJ': 7, 'OML': 4, 'KSRA': 8, 'DVL': 3, 'NGN': 4, 'PC': 5, 'RV': 4, 'NPNR': 4, 'KKN': 6, 'TBN': 5, 'MDDP': 4, 'HBJ': 14, 'BAQ': 7, 'BAB': 7, 'CGN': 5, 'AIT': 6, 'ORAI': 8, 'KPI': 4, 'PHN': 8, 'BZM': 9, 'ON': 10, 'BV': 8, 'SPT': 6, 'IPM': 5, 'CAP': 8, 'DEHR': 6, 'JJR': 6, 'NIRA': 3, 'LNN': 3, 'WTR': 5, 'KRG': 3, 'KOV': 7, 'BVQ': 4, 'JSP': 3, 'HTK': 5, 'RKD': 2, 'VV': 3, 'GPR': 4, 'KJ': 4, 'LS': 5, 'CKHS': 2, 'MHPE': 2, 'CHOK': 2, 'MA': 4, 'MO': 5, 'HG': 8, 'AKOR': 5, 'NW': 5, 'SADP': 5, 'MTU': 3, 'KO': 4, 'KGL': 3, 'NRR': 3, 'RLO': 4, 'PUT': 5, 'TRL': 12, 'RMP': 2, 'TAZ': 2, 'MSR': 3, 'SIW': 2, 'NMGT': 2, 'VRB': 2, 'IDR': 6, 'NBL': 6, 'ALY': 8, 'GYN': 10, 'MUV': 6, 'BCY': 6, 'ARJ': 15, 'GCT': 11, 'BUI': 15, 'SEE': 13, 'HJP': 13, 'MFP': 18, 'LSI': 4, 'HAS': 8, 'HLN': 5, 'KRNR': 8, 'MYS': 14, 'MKP': 13, 'MAU': 20, 'DEOS': 11, 'BVNR': 3, 'JSV': 3, 'ABLE': 4, 'URI': 5, 'KDG': 6, 'YL': 3, 'BDWD': 5, 'NN': 5, 'JM': 2, 'CND': 4, 'SEGM': 14, 'TGP': 3, 'SNI': 6, 'ITR': 7, 'KP': 5, 'BRD': 6, 'TMR': 11, 'TRO': 4, 'VNA': 3, 'MJRI': 7, 'NRKR': 10, 'PAR': 9, 'AMLA': 9, 'BZU': 12, 'GDYA': 5, 'BBU': 8, 'SSM': 11, 'DOS': 10, 'SED': 3, 'UGR': 3, 'CNC': 2, 'RBG': 5, 'NVS': 8, 'BIRD': 7, 'JNH': 14, 'MAY': 5, 'KRND': 4, 'SMZ': 3, 'AMH': 8, 'PLP': 6, 'ZBD': 9, 'MMA': 4, 'BLTR': 9, 'SAV': 3, 'NB': 2, 'TLV': 5, 'CAER': 7, 'BPF': 5, 'BNI': 3, 'ODG': 5, 'SCI': 4, 'GLG': 4, 'MABA': 5, 'DUA': 4, 'JLN': 3, 'TBT': 5, 'BZY': 4, 'DAA': 5, 'SOR': 3, 'DBA': 6, 'MRA': 6, 'DHO': 5, 'RKM': 6, 'KSV': 12, 'PWL': 17, 'BVH': 9, 'SZM': 9, 'BHD': 5, 'NUR': 7, 'GNU': 6, 'SMK': 5, 'GRA': 4, 'TRR': 4, 'NLKR': 4, 'SHDM': 4, 'UBC': 4, 'NBA': 4, 'MET': 6, 'AHH': 5, 'PHR': 7, 'GRY': 4, 'PGW': 8, 'JNL': 4, 'KRE': 4, 'RDDE': 3, 'ANDI': 5, 'BTT': 11, 'MW': 6, 'NYN': 8, 'BHLP': 5, 'YFP': 5, 'SIP': 7, 'DGA': 8, 'BNR': 6, 'TMV': 6, 'CHSM': 4, 'ATU': 6, 'ETP': 3, 'VGE': 3, 'APN': 3, 'SXT': 4, 'PBH': 18, 'SLN': 18, 'FD': 16, 'KYE': 6, 'PHA': 4, 'BNU': 5, 'JTW': 6, 'DBR': 6, 'BOY': 8, 'PRF': 3, 'SWPR': 5, 'KMNR': 3, 'SIR': 10, 'KNN': 7, 'TDO': 5, 'DZA': 6, 'MEX': 7, 'JLD': 7, 'CLJ': 6, 'BLP': 5, 'JKNI': 3, 'TLR': 8, 'ACOI': 10, 'MZP': 8, 'LSR': 5, 'PMKT': 3, 'WANI': 5, 'MJKN': 2, 'BPA': 5, 'VRL': 6, 'KSD': 4, 'JND': 7, 'NUD': 4, 'GDL': 7, 'BL': 18, 'DRD': 16, 'BGKT': 6, 'LUNI': 8, 'SBI': 5, 'MAN': 7, 'BHUJ': 6, 'AJE': 3, 'AI': 3, 'BDL': 8, 'CAR': 10, 'KEI': 4, 'CLR': 4, 'QLM': 8, 'SVM': 4, 'GOK': 4, 'HNA': 6, 'MRDW': 6, 'KZE': 6, 'TLY': 6, 'BOR': 9, 'GDA': 12, 'DHD': 14, 'MKC': 14, 'SFY': 5, 'BRRG': 8, 'SVPI': 6, 'CBK': 4, 'BWR': 3, 'NEW': 4, 'MRPR': 5, 'HPP': 5, 'BTX': 4, 'KLAR': 4, 'MBA': 8, 'MTH': 4, 'BNDA': 10, 'KHU': 3, 'ATE': 6, 'BTKP': 4, 'CKTD': 8, 'BRG': 4, 'SRJ': 10, 'PRG': 7, 'PFM': 10, 'URPR': 3, 'SAW': 4, 'CHH': 3, 'KEH': 2, 'MOF': 2, 'SQN': 2, 'MOTH': 4, 'GOY': 5, 'MB': 33, 'DSS': 6, 'KRBP': 5, 'DOL': 6, 'SAI': 4, 'DDA': 6, 'BTK': 3, 'BHTR': 5, 'GB': 4, 'CC': 5, 'MND': 4, 'MSW': 5, 'BUW': 10, 'PMN': 4, 'LLR': 5, 'INDB': 11, 'DWX': 6, 'BDWS': 5, 'RGO': 5, 'KATL': 6, 'MTY': 7, 'SEH': 7, 'SJP': 11, 'BCH': 7, 'BUDI': 6, 'MLGH': 5, 'JOB': 7, 'KKU': 6, 'UMRI': 6, 'KTES': 8, 'BRS': 6, 'BUH': 5, 'KTMA': 4, 'BJRI': 5, 'BRH': 3, 'KTO': 3, 'BSPR': 4, 'ABKP': 4, 'SMT': 3, 'BET': 2, 'KAH': 3, 'JRK': 4, 'NOI': 4, 'MKRN': 3, 'GAJ': 4, 'SYA': 5, 'REI': 5, 'SBD': 4, 'GSPR': 3, 'DOE': 4, 'BRGT': 2, 'BHTN': 4, 'BMR': 2, 'SRID': 6, 'KKB': 2, 'BELD': 3, 'KY': 4, 'BNE': 3, 'GAR': 6, 'SCKR': 4, 'BKH': 4, 'SGP': 5, 'GMD': 2, 'BGTA': 4, 'SQL': 2, 'GRO': 2, 'DBU': 4, 'SNF': 3, 'NAW': 3, 'KQT': 3, 'MQR': 2, 'BAY': 13, 'DAJ': 4, 'TNGL': 4, 'HPT': 8, 'KBL': 5, 'MSDG': 3, 'JTRD': 2, 'SGRE': 4, 'ARAG': 4, 'BHBK': 4, 'LNT': 2, 'KAYR': 2, 'WRR': 7, 'HGT': 6, 'AMI': 2, 'KHBJ': 6, 'BEHR': 8, 'MWJ': 5, 'SGAM': 5, 'BRGW': 6, 'SGRL': 8, 'OBR': 6, 'CPU': 9, 'RNQ': 6, 'DXN': 5, 'WDM': 3, 'NUQ': 8, 'GHQ': 4, 'GHD': 10, 'DTO': 7, 'BRWD': 5, 'CPDR': 3, 'LTHR': 6, 'TORI': 9, 'MGME': 3, 'KLRE': 4, 'RAY': 4, 'PTRU': 5, 'RRME': 4, 'CNPR': 4, 'BKRO': 3, 'BRMO': 4, 'BHME': 2, 'TET': 5, 'RNG': 4, 'DGR': 12, 'TKD': 4, 'OKA': 2, 'DKZ': 5, 'SSB': 15, 'BGZ': 7, 'JIND': 11, 'NRW': 9, 'JHL': 16, 'SFMU': 5, 'SAG': 8, 'SMNH': 3, 'MLHA': 3, 'JLR': 9, 'VRR': 4, 'BKNG': 4, 'THAN': 6, 'CLDY': 5, 'MHD': 6, 'DRL': 6, 'MGN': 5, 'KUH': 4, 'TAN': 3, 'KSH': 4, 'AKD': 5, 'KPP': 5, 'PRB': 4, 'NKJ': 2, 'MFQ': 3, 'VST': 5, 'NWB': 5, 'MNV': 7, 'ASKN': 7, 'SFW': 4, 'DADN': 6, 'BIX': 8, 'ETW': 17, 'CHJ': 3, 'CDG': 8, 'KLK': 7, 'DEC': 9, 'GGN': 9, 'AWR': 13, 'BKI': 14, 'DDN': 3, 'GTS': 8, 'SINI': 8, 'NOMD': 3, 'BJMD': 4, 'BBN': 3, 'CRJ': 9, 'JMT': 4, 'MDP': 10, 'JAJ': 13, 'JMU': 7, 'LKR': 10, 'HTZ': 7, 'MKA': 17, 'PNC': 14, 'AF': 10, 'TUN': 6, 'KGM': 1, 'HDW': 2, 'RUPC': 4, 'RMU': 9, 'JGN': 5, 'MOGA': 6, 'MSZ': 7, 'KKP': 10, 'FDK': 6, 'FZR': 14, 'DBD': 6, 'TKJ': 9, 'SASN': 7, 'RPAR': 8, 'KART': 4, 'ANSB': 3, 'NLDM': 5, 'UHL': 4, 'RGS': 5, 'NMK': 5, 'NNL': 5, 'LKA': 6, 'DPU': 6, 'DMV': 8, 'BXJ': 7, 'FKG': 9, 'MXN': 12, 'JTTN': 4, 'KHS': 6, 'SKT': 6, 'BUA': 5, 'BYT': 7, 'TLD': 6, 'SORO': 6, 'SRTL': 6, 'ALLP': 12, 'VAK': 8, 'SPE': 13, 'BDJ': 7, 'PML': 4, 'IGU': 5, 'SRTN': 4, 'MRHT': 6, 'DBRG': 5, 'NHLN': 2, 'NR': 4, 'BRJN': 4, 'BYNR': 10, 'SL': 5, 'BRZ': 4, 'BLZ': 5, 'MAUR': 4, 'GNA': 3, 'GJUT': 6, 'BXR': 12, 'ARA': 16, 'DNR': 12, 'PPTA': 12, 'NHH': 6, 'MFKA': 5, 'MSMD': 8, 'KRAR': 7, 'KBJ': 8, 'BUDM': 4, 'SBPD': 8, 'ANGL': 11, 'TLHR': 7, 'DNKL': 10, 'PRR': 17, 'RBL': 14, 'AME': 7, 'SANK': 4, 'PNK': 8, 'RURA': 6, 'JJK': 7, 'PHD': 14, 'BNT': 5, 'SKB': 13, 'FZD': 7, 'CAG': 6, 'BAZ': 7, 'ATH': 4, 'CKB': 5, 'UHR': 3, 'MJG': 5, 'AH': 8, 'NBI': 4, 'KL': 5, 'MURD': 4, 'DO': 10, 'GTJT': 4, 'KLRS': 5, 'ANKL': 5, 'BIJR': 4, 'HRI': 12, 'BLQR': 3, 'LRJ': 11, 'SPN': 17, 'BMKI': 8, 'SGL': 9, 'BTH': 6, 'NKE': 10, 'BUG': 11, 'DEE': 14, 'GNC': 7, 'MLPR': 5, 'ABP': 9, 'RDL': 8, 'HPU': 14, 'SEO': 5, 'DPR': 5, 'NGG': 4, 'NBD': 10, 'SLGR': 11, 'JOP': 8, 'MME': 4, 'NAB': 5, 'WSA': 7, 'SNV': 5, 'AHA': 6, 'BGP': 10, 'SDAH': 20, 'WJR': 6, 'BARH': 4, 'BKP': 11, 'AUBR': 7, 'FTP': 9, 'NAC': 7, 'KMNC': 6, 'HZD': 9, 'HRS': 10, 'KRJ': 11, 'CNDM': 2, 'PAN': 5, 'DLN': 9, 'FUT': 7, 'BTA': 8, 'BEA': 7, 'RPR': 7, 'DURE': 6, 'GMR': 7, 'ZNA': 7, 'SGG': 13, 'BUP': 5, 'KJH': 5, 'BRYA': 10, 'KOO': 6, 'GKH': 6, 'MNAE': 5, 'OYR': 2, 'UDL': 12, 'KQU': 9, 'PNE': 4, 'AMP': 5, 'SNT': 13, 'MNP': 4, 'BSQP': 2, 'JAIS': 5, 'HCR': 7, 'JPG': 5, 'HDB': 4, 'TEA': 6, 'JHD': 8, 'DRH': 4, 'PLCJ': 10, 'RDRA': 6, 'VBL': 10, 'PVP': 5, 'MNGD': 7, 'JOC': 8, 'RFJ': 6, 'BP': 13, 'NH': 13, 'BDC': 17, 'RGD': 3, 'SILO': 2, 'NLD': 3, 'POE': 2, 'BEHS': 3, 'WENA': 2, 'HRT': 2, 'PWS': 4, 'GRRU': 4, 'KTQ': 5, 'CDMR': 4, 'IPR': 5, 'EKR': 2, 'HIL': 3, 'DNWH': 3, 'SCC': 13, 'NMDA': 5, 'SMRL': 4, 'RHG': 6, 'KRH': 6, 'GHH': 10, 'MEP': 4, 'VMA': 7, 'CMU': 5, 'SVA': 4, 'SGZ': 9, 'GOH': 3, 'DBRT': 6, 'NTSK': 11, 'NNA': 10, 'SRO': 6, 'HLZ': 3, 'TMZ': 9, 'PKU': 14, 'KNF': 5, 'RMJK': 3, 'BNN': 5, 'GDB': 4, 'MOT': 5, 'ABS': 7, 'LKS': 6, 'LGH': 8, 'PM': 4, 'BWSN': 3, 'PTRD': 6, 'LKE': 5, 'ISA': 4, 'RKB': 8, 'SBLT': 5, 'AQG': 4, 'KLYT': 4, 'DSO': 4, 'MDW': 3, 'GCH': 3, 'SBR': 4, 'BLM': 9, 'HAPA': 4, 'JAM': 7, 'RANI': 6, 'JWB': 5, 'AKV': 7, 'SPZ': 4, 'TAPA': 5, 'PUL': 6, 'JBN': 4, 'FBG': 5, 'ARQ': 4, 'PRNA': 6, 'SMR': 6, 'MKSR': 4, 'JOR': 4, 'MON': 4, 'MBNL': 4, 'RNV': 4, 'DQN': 4, 'BLDI': 10, 'DDR': 8, 'MINJ': 8, 'DOA': 4, 'WKI': 6, 'IJK': 5, 'CKI': 6, 'AFK': 7, 'AMPA': 4, 'HAD': 5, 'TVP': 6, 'NDAE': 8, 'KWAE': 9, 'AZ': 13, 'ROA': 6, 'JID': 12, 'RMR': 3, 'KPV': 8, 'PLS': 5, 'KID': 4, 'USL': 6, 'CAA': 6, 'CAI': 5, 'HIR': 4, 'SBZ': 6, 'BER': 8, 'NNO': 4, 'MTR': 6, 'MAI': 6, 'JYG': 7, 'MBI': 6, 'SKI': 7, 'JI': 5, 'HYT': 4, 'KGI': 8, 'MYA': 10, 'PTB': 5, 'KTU': 6, 'TA': 2, 'PGI': 6, 'FK': 6, 'QLD': 6, 'MAHE': 5, 'PAZ': 4, 'CHV': 7, 'MAQ': 13, 'MJS': 5, 'NYP': 6, 'BTTR': 10, 'SKM': 5, 'ALU': 8, 'LLI': 9, 'SRGM': 6, 'GOC': 5, 'PDKT': 6, 'KKDI': 7, 'AB': 7, 'SHU': 7, 'MCN': 4, 'GYM': 7, 'NLE': 3, 'CNO': 4, 'BKJ': 2, 'TRTR': 6, 'AVD': 16, 'VARD': 5, 'SDN': 6, 'VLY': 6, 'NCJ': 14, 'CAPE': 5, 'ABI': 2, 'KKPM': 4, 'TPTN': 2, 'PNDM': 4, 'UDN': 10, 'VYA': 7, 'DDE': 5, 'TTL': 2, 'SVKS': 2, 'SVPR': 2, 'RJPM': 2, 'SNKL': 2, 'PBKS': 2, 'KDNL': 2, 'TSI': 3, 'SCT': 6, 'CBF': 4, 'MTP': 3, 'MAP': 9, 'SGE': 4, 'BQI': 5, 'MMK': 4, 'TMQ': 4, 'KDU': 2, 'MVN': 5, 'TME': 2, 'TN': 6, 'KZK': 8, 'RMNP': 5, 'GNP': 4, 'ALER': 5, 'BG': 9, 'VDE': 4, 'KDM': 5, 'APT': 5, 'NZD': 7, 'BUX': 4, 'YLM': 7, 'NRP': 4, 'PAP': 3, 'PAK': 8, 'PIL': 4, 'KCI': 3, 'MPL': 6, 'MCU': 5, 'KRY': 6, 'MGB': 6, 'CTYL': 5, 'BN': 7, 'DWP': 5, 'KVR': 4, 'NKD': 6, 'VSG': 5, 'NRDP': 4, 'MTM': 7, 'CLU': 2, 'PAV': 2, 'VMD': 2, 'KVM': 2, 'GVL': 3, 'NUJ': 2, 'KI': 6, 'OEA': 4, 'RVKH': 3, 'SRNR': 5, 'MAGH': 3, 'BTBR': 4, 'UR': 8, 'WPR': 7, 'OBVP': 5, 'CNI': 10, 'PRP': 6, 'SCM': 6, 'PVPT': 5, 'SPRD': 4, 'THV': 4, 'AMB': 5, 'NRLR': 5, 'RPRD': 4, 'HSK': 5, 'BGBR': 4, 'CKU': 9, 'RHE': 4, 'VAA': 7, 'DNM': 6, 'JPH': 5, 'ANR': 7, 'SBPY': 8, 'TLHD': 6, 'BIY': 5, 'MID': 4, 'NWU': 6, 'SNK': 5, 'DXG': 4, 'BPHB': 5, 'BPH': 3, 'BMB': 6, 'GP': 6, 'MCA': 11, 'NRG': 5, 'MCS': 7, 'KASR': 3, 'DEG': 4, 'SIL': 5, 'NWP': 8, 'CPP': 6, 'KAPG': 6, 'KIT': 6, 'KATI': 7, 'DGHA': 6, 'AJU': 4, 'KGB': 6, 'BIG': 4, 'AAL': 2, 'BYL': 6, 'SLH': 5, 'ULB': 9, 'RMRB': 4, 'BBM': 7, 'GUD': 2, 'SWR': 4, 'GOL': 5, 'MOU': 7, 'BNDM': 9, 'GPH': 4, 'BEH': 4, 'RGL': 6, 'HKG': 4, 'BRPL': 4, 'LSX': 4, 'SFC': 4, 'RMT': 3, 'RBGJ': 5, 'GNG': 6, 'MXK': 4, 'JPL': 4, 'NBG': 5, 'CJN': 4, 'SNTD': 3, 'BGY': 2, 'BPO': 5, 'KCV': 2, 'BTQ': 3, 'JOL': 2, 'JRG': 4, 'TKH': 2, 'MKO': 4, 'NQR': 4, 'MRDL': 4, 'BONA': 6, 'RAIR': 8, 'PLG': 10, 'MUT': 5, 'PBR': 8, 'LPJ': 5, 'UJA': 6, 'BLA': 2, 'SGRR': 2, 'MNWL': 4, 'CRWL': 2, 'ADH': 7, 'BIM': 5, 'AML': 3, 'MRL': 4, 'SCH': 3, 'VS': 5, 'KIM': 4, 'KSB': 6, 'PLJ': 6, 'MYG': 7, 'SMLA': 5, 'PPD': 3, 'LMK': 3, 'VR': 22, 'BVC': 9, 'SGD': 6, 'DLJ': 9, 'BTD': 12, 'JVN': 5, 'MHV': 5, 'RLA': 5, 'SVKD': 6, 'LMO': 4, 'DAS': 5, 'LM': 5, 'WC': 2, 'WSJ': 10, 'JDH': 4, 'UA': 5, 'DISA': 4, 'DEOR': 5, 'RDHP': 7, 'SNLR': 7, 'AAR': 6, 'THDR': 4, 'BMI': 5, 'SRGT': 5, 'RUR': 5, 'SOJN': 9, 'BVP': 3, 'AEL': 4, 'SMPR': 3, 'RNW': 4, 'CHP': 5, 'SOH': 7, 'SOD': 5, 'FAN': 4, 'MDL': 4, 'GBP': 3, 'JAO': 5, 'NBH': 5, 'BSE': 6, 'BCN': 6, 'ROZA': 9, 'VDS': 6, 'STL': 4, 'GHR': 4, 'MKB': 4, 'DMRX': 4, 'MOR': 3, 'PHK': 4, 'ATL': 2, 'GZH': 3, 'NEO': 3, 'SDE': 4, 'KWR': 3, 'KUA': 4, 'BYN': 4, 'BRE': 5, 'KGA': 6, 'BKO': 4, 'ULD': 5, 'JGR': 5, 'BDN': 4, 'AST': 3, 'FDN': 2, 'JNA': 4, 'UCA': 4, 'DSB': 4, 'SRP': 10, 'CGR': 7, 'PSB': 6, 'TKN': 4, 'JHN': 5, 'PES': 3, 'SEB': 5, 'DGO': 3, 'KMS': 4, 'SYJ': 4, 'BTP': 8, 'KSF': 5, 'JLL': 7, 'BWI': 3, 'GGJ': 6, 'ACND': 2, 'SLW': 4, 'DYD': 6, 'SGJ': 4, 'SAN': 7, 'AJI': 6, 'TLH': 7, 'PMR': 6, 'NRS': 5, 'RWL': 5, 'DWO': 4, 'KS': 4, 'BDH': 3, 'MLV': 4, 'NHT': 9, 'MRR': 6, 'RJG': 4, 'TDLE': 6, 'SHE': 8, 'MGAE': 3, 'SDI': 3, 'DKGS': 5, 'BCA': 6, 'NAZJ': 2, 'UJP': 3, 'KPGM': 3, 'GRL': 4, 'NYO': 4, 'DDP': 3, 'EKMA': 6, 'CW': 5, 'ZRDE': 3, 'HLDD': 2, 'RNPR': 3, 'TGA': 4, 'DUBH': 3, 'SIHO': 2, 'SLT': 2, 'NRPA': 2, 'RGH': 4, 'STJT': 2, 'BHW': 8, 'TPH': 7, 'SBG': 10, 'PPT': 6, 'CLG': 8, 'AKN': 6, 'UREN': 4, 'SRY': 3, 'SHK': 4, 'KSC': 2, 'WRS': 3, 'TIA': 3, 'WZJ': 4, 'CNS': 4, 'BSAE': 2, 'TBAE': 2, 'KJU': 3, 'DMLE': 2, 'KMAE': 3, 'JIT': 2, 'BGAE': 2, 'SOAE': 3, 'BHLA': 2, 'GPAE': 3, 'ABKA': 5, 'BGRA': 2, 'DTAE': 3, 'SMAE': 3, 'PSAE': 6, 'SALE': 7, 'BZLE': 6, 'KGLE': 8, 'LCAE': 4, 'ACLE': 5, 'MPLR': 5, 'MGLE': 4, 'GALE': 2, 'JRLE': 7, 'AHN': 2, 'SPLE': 2, 'NILE': 7, 'BDBP': 2, 'DGLE': 5, 'SXP': 4, 'CMX': 2, 'KTJ': 4, 'JMQ': 2, 'GZM': 2, 'SM': 8, 'BKRD': 4, 'KDPR': 9, 'LAV': 6, 'GRH': 4, 'KAN': 7, 'MUW': 3, 'TWG': 2, 'CSA': 3, 'BWH': 6, 'DHA': 4, 'SLD': 5, 'KCA': 2, 'VYN': 3, 'BRPT': 3, 'PDRD': 2, 'SIQ': 2, 'SKN': 4, 'HRPG': 2, 'KEPR': 4, 'LBA': 5, 'SHNG': 3, 'AKJ': 5, 'HGH': 4, 'AMG': 6, 'AO': 8, 'CH': 12, 'RJK': 5, 'GVG': 2, 'DDL': 4, 'SOP': 3, 'SURI': 8, 'EKI': 6, 'GZO': 3, 'BNDP': 3, 'GRMP': 3, 'BLGT': 2, 'MZC': 4, 'SVRP': 4, 'EKC': 2, 'GGA': 5, 'RHA': 12, 'KNJ': 8, 'BTY': 5, 'DEB': 4, 'PLY': 6, 'REJ': 3, 'BEB': 4, 'BPC': 5, 'CSZ': 2, 'MBB': 3, 'JJG': 4, 'BQG': 5, 'LGL': 5, 'VPDA': 4, 'MOG': 5, 'SPP': 7, 'MNO': 4, 'DES': 7, 'AYRN': 4, 'STLR': 2, 'STW': 5, 'GEDE': 3, 'BNXR': 6, 'DAKE': 7, 'KLP': 4, 'TLJ': 6, 'SLJ': 3, 'BKSL': 2, 'SBO': 4, 'NAT': 3, 'MPY': 3, 'RPUR': 4, 'DRTP': 3, 'KWO': 5, 'HDE': 2, 'PAIL': 2, 'KRS': 3, 'BSBR': 2, 'CTR': 2, 'PTPL': 1, 'BFM': 2, 'RDUM': 3, 'TALL': 3, 'KNHP': 2, 'MMKB': 2, 'TKBG': 3, 'SMBH': 2, 'BKG': 3, 'RSR': 8, 'AZR': 8, 'NMX': 5, 'FLK': 5, 'GDX': 4, 'RGJ': 4, 'KAJ': 4, 'RDP': 4, 'NMZ': 9, 'DLO': 8, 'HSA': 7, 'HOJ': 3, 'APDJ': 16, 'GJD': 4, 'GAP': 3, 'MLD': 5, 'CBJ': 3, 'MIL': 5, 'KNT': 4, 'CNK': 5, 'RSI': 3, 'MZM': 6, 'JGA': 4, 'OMLF': 4, 'SMO': 2, 'CRR': 5, 'KUE': 4, 'THB': 4, 'NNR': 4, 'MSK': 5, 'HTC': 7, 'BNKI': 5, 'MRIJ': 4, 'DMH': 5, 'RJA': 5, 'TPF': 3, 'ARW': 4, 'KYT': 2, 'MNF': 5, 'MJA': 7, 'KJI': 4, 'PDW': 4, 'RBZ': 3, 'NNW': 5, 'BAKA': 4, 'MRHA': 2, 'TELY': 2, 'BHLE': 4, 'PNSA': 3, 'DWLE': 4, 'HPLE': 4, 'KKTA': 3, 'PPN': 7, 'PFT': 4, 'NDW': 5, 'NDU': 4, 'THA': 3, 'MDE': 5, 'BELA': 6, 'KSTA': 2, 'PRY': 2, 'IMGE': 2, 'TETA': 5, 'SUD': 4, 'KWE': 4, 'KTRH': 2, 'LKN': 5, 'HTZU': 7, 'RJO': 2, 'GHX': 2, 'BNV': 6, 'GQN': 4, 'PIRO': 4, 'XBKJ': 4, 'GNK': 4, 'KMGE': 3, 'ADTP': 4, 'KND': 7, 'BURN': 5, 'GMH': 7, 'SDBH': 4, 'PEH': 2, 'SDMD': 3, 'NMG': 3, 'CCK': 4, 'CBH': 4, 'SMND': 3, 'HRE': 3, 'MIH': 4, 'BLG': 4, 'PTH': 3, 'BZG': 4, 'NRM': 4, 'NRO': 8, 'MQS': 4, 'LNK': 7, 'MXH': 5, 'MWX': 5, 'DGHR': 4, 'KBQ': 2, 'SNQ': 3, 'TELO': 2, 'PNW': 6, 'KSX': 5, 'SKGH': 2, 'LUSA': 3, 'CUK': 3, 'BHKD': 2, 'KCKI': 4, 'URD': 4, 'MDJ': 4, 'HDN': 3, 'ANH': 5, 'GBX': 5, 'BANO': 6, 'NXN': 5, 'ATS': 4, 'GLP': 3, 'CJM': 6, 'SLY': 5, 'TUVR': 5, 'MAKM': 4, 'GVN': 2, 'KPRD': 4, 'MSDN': 2, 'DNRE': 9, 'RMPR': 2, 'PAW': 5, 'GMAN': 4, 'SBB': 9, 'DZKT': 4, 'MDF': 3, 'MDKD': 3, 'NDKR': 3, 'KRT': 3, 'RUSD': 6, 'PMU': 3, 'ATNR': 4, 'BAGL': 3, 'DRI': 2, 'GJH': 2, 'CI': 4, 'SRU': 5, 'LRD': 3, 'JKN': 6, 'MBS': 5, 'DER': 5, 'DLR': 6, 'NDJ': 4, 'AMRO': 6, 'PKW': 4, 'KUPR': 5, 'HSX': 6, 'AGTL': 4, 'ABSA': 4, 'DMR': 6, 'KXJ': 6, 'DZB': 3, 'KNNK': 3, 'STNL': 5, 'SRGH': 3, 'CRWA': 4, 'RSH': 3, 'JJN': 4, 'NUA': 2, 'DOB': 4, 'NWH': 4, 'SIKR': 9, 'LHA': 6, 'GMS': 4, 'GJL': 9, 'MNDR': 4, 'CPS': 4, 'HLDR': 5, 'BJO': 6, 'KTW': 2, 'BOJ': 6, 'JMK': 3, 'KWM': 4, 'DGU': 6, 'NLV': 5, 'BJF': 6, 'BNGN': 4, 'GOGH': 8, 'CSB': 2, 'KLNK': 4, 'BWK': 4, 'HNS': 6, 'STD': 3, 'ADR': 4, 'BHT': 4, 'DING': 5, 'DKT': 3, 'LGO': 4, 'KHNM': 6, 'GRMR': 3, 'UCR': 9, 'JPD': 4, 'DMW': 5, 'LLJ': 4, 'RRS': 5, 'BQP': 5, 'RGU': 5, 'BSZ': 5, 'JSB': 3, 'HAR': 5, 'GTM': 5, 'PTRE': 2, 'KTRR': 3, 'RG': 3, 'BBA': 5, 'BJ': 6, 'KEA': 4, 'GAUR': 4, 'TH': 3, 'CIL': 4, 'ANTU': 6, 'KCJ': 4, 'FTG': 3, 'HCP': 4, 'NHN': 4, 'MEM': 4, 'BTJ': 4, 'KDF': 4, 'PPU': 3, 'KBE': 4, 'KJA': 3, 'MEQ': 3, 'BGQ': 4, 'MNQ': 4, 'SFG': 3, 'BMU': 4, 'MRE': 2, 'SYWN': 2, 'MNJ': 3, 'SJT': 3, 'FYZ': 4, 'KJY': 3, 'BSC': 7, 'BARL': 3, 'DND': 4, 'FHT': 4, 'HDL': 3, 'NGB': 3, 'PQN': 3, 'LMN': 4, 'RMC': 3, 'TQA': 4, 'SFH': 2, 'JRR': 2, 'ML': 3, 'KKJ': 2, 'DIL': 2, 'RBD': 2, 'UTA': 2, 'DLQ': 2, 'BGH': 3, 'MST': 2, 'KAR': 2, 'KUF': 2, 'BEG': 2, 'TDP': 3, 'AIG': 2, 'KH': 3, 'BTRA': 3, 'MK': 2, 'BLPU': 6, 'TSA': 2, 'RYS': 3, 'GRX': 3, 'MFL': 3, 'BLW': 2, 'ATMO': 3, 'HRW': 2, 'LNWT': 3, 'SWE': 2, 'VPO': 2, 'JGJ': 2, 'TLKH': 2, 'BANI': 2, 'RUM': 2, 'GANG': 2, 'KVG': 2, 'SAGR': 2, 'KKAH': 2, 'MLJ': 2, 'UTR': 4, 'BHAW': 3, 'PFR': 4, 'KHRJ': 5, 'MKH': 4, 'NRI': 4, 'HVD': 2, 'MALB': 7, 'DUB': 5, 'BTO': 4, 'ANVR': 4, 'MINA': 4, 'MDNR': 6, 'AGA': 4, 'HSI': 5, 'KRLR': 5, 'MCQ': 3, 'AGY': 2, 'MQX': 3, 'BCU': 4, 'MRND': 6, 'KRLI': 3, 'LLKN': 2, 'KAT': 5, 'KNL': 5, 'RMN': 4, 'BTIC': 3, 'FN': 3, 'STKW': 2, 'PTNR': 5, 'NOLI': 4, 'GTRA': 3, 'FAP': 2, 'KEX': 2, 'SFA': 2, 'AHQ': 2, 'BPM': 3, 'SUJR': 3, 'BTU': 9, 'KPKI': 5, 'KQL': 4, 'HIND': 5, 'THBN': 4, 'RPMN': 7, 'FGSB': 2, 'BSPN': 3, 'GANL': 3, 'NNGL': 2, 'MTPR': 2, 'CHTL': 3, 'AADR': 3, 'BTG': 4, 'NSU': 2, 'RBK': 2, 'KEG': 2, 'AFR': 4, 'SMBL': 3, 'FZP': 3, 'GHS': 4, 'JBD': 4, 'LDK': 4, 'FKA': 7, 'KUKA': 2, 'CWDA': 2, 'SLNA': 4, 'HPO': 6, 'RKSH': 1, 'VRH': 2, 'MFJ': 6, 'TWB': 6, 'BPZ': 5, 'CWA': 4, 'PUX': 4, 'JNO': 4, 'NVG': 5, 'BXY': 5, 'MG': 3, 'MLX': 5, 'NNKR': 2, 'AJL': 3, 'QSR': 2, 'PRI': 2, 'IKK': 2, 'MOTC': 2, 'VKA': 6, 'BAT': 8, 'DHW': 4, 'GSP': 5, 'DNN': 3, 'GZN': 4, 'MUD': 5, 'TRS': 4, 'KKHT': 3, 'IAA': 12, 'SAA': 4, 'KIP': 4, 'BWL': 5, 'BU': 4, 'MMY': 5, 'TIW': 3, 'OSN': 6, 'MWT': 4, 'POK': 2, 'BANE': 4, 'BLT': 5, 'BUT': 5, 'UTL': 3, 'BME': 6, 'GKC': 6, 'MAAR': 2, 'BAF': 2, 'SIRD': 2, 'NKRA': 2, 'DTRD': 2, 'GJN': 2, 'NAL': 2, 'SOS': 4, 'KLL': 6, 'LHLL': 2, 'KHRK': 2, 'BMLL': 2, 'BNWC': 2, 'BRW': 4, 'MKS': 4, 'LKW': 4, 'GHNA': 6, 'IRA': 5, 'SZ': 2, 'HWT': 2, 'RT': 2, 'KAI': 2, 'BOM': 2, 'RKZ': 2, 'HP': 4, 'SEU': 5, 'SSR': 4, 'HMG': 4, 'GGR': 6, 'SMP': 4, 'JWO': 3, 'MLG': 3, 'PIP': 3, 'DLD': 3, 'DOD': 3, 'NLI': 3, 'BNG': 4, 'FTD': 4, 'LMNR': 4, 'SID': 6, 'KWP': 3, 'BAI': 5, 'DHPR': 4, 'SGF': 4, 'MBY': 7, 'DABN': 3, 'SGRA': 4, 'MNSR': 3, 'PGK': 5, 'MHJ': 6, 'DHRR': 5, 'MBF': 2, 'HDK': 5, 'SANR': 3, 'KHM': 2, 'SRNT': 3, 'SDT': 4, 'KER': 4, 'NRA': 3, 'DMG': 2, 'JTB': 3, 'MHH': 3, 'GTNR': 4, 'LC': 4, 'SIPR': 2, 'MIM': 4, 'PJ': 6, 'CM': 4, 'UB': 3, 'PPW': 4, 'BSKR': 3, 'SGBJ': 3, 'BRUD': 3, 'JSR': 4, 'SYC': 3, 'LIR': 4, 'NTV': 5, 'RHN': 5, 'SSD': 4, 'KMJ': 6, 'RDN': 4, 'BAPR': 2, 'DRO': 4, 'PTI': 3, 'GWA': 5, 'SWRT': 4, 'PBW': 2, 'KMBL': 6, 'DWK': 6, 'OKHA': 4, 'PEP': 7, 'PPC': 5, 'MRT': 3, 'SKA': 6, 'SRNK': 5, 'UJH': 5, 'BEM': 6, 'BRY': 5, 'RPSC': 2, 'GUB': 4, 'BMJ': 4, 'CHR': 5, 'RTP': 4, 'MHO': 3, 'DHE': 5, 'RMM': 6, 'RMD': 5, 'PMK': 4, 'MNM': 12, 'SVGA': 5, 'DKO': 3, 'ROI': 3, 'CBN': 4, 'KMDR': 6, 'CHD': 8, 'BQR': 2, 'PHLG': 4, 'PPA': 4, 'DRQ': 2, 'MSDH': 2, 'CNJW': 2, 'ICL': 4, 'SWC': 3, 'KZA': 4, 'GH': 3, 'MMB': 8, 'SPC': 7, 'MJL': 2, 'KUMB': 3, 'SAHI': 4, 'KCT': 5, 'BRU': 3, 'PNYA': 3, 'TSF': 4, 'BVN': 5, 'APD': 4, 'JPZ': 4, 'SCE': 4, 'NGAN': 3, 'AONI': 4, 'JKB': 3, 'SHTT': 3, 'PSR': 4, 'JLS': 4, 'CHL': 4, 'NNGE': 4, 'SZR': 5, 'BXP': 3, 'KXL': 3, 'TTB': 5, 'NCH': 3, 'AGI': 5, 'NMT': 3, 'LXA': 3, 'SFR': 2, 'SPK': 4, 'BFD': 3, 'NAM': 4, 'NHK': 5, 'DJG': 3, 'TSK': 6, 'MJN': 4, 'DBY': 4, 'MRG': 3, 'LEDO': 5, 'GLGT': 2, 'NMGY': 3, 'KUTI': 2, 'BLPR': 2, 'RNGG': 2, 'BBGN': 4, 'MOBD': 2, 'BLMR': 2, 'RWH': 2, 'CMA': 2, 'CGS': 5, 'GMTO': 2, 'KAMG': 5, 'MVI': 8, 'JGJN': 2, 'LKG': 4, 'BRLF': 3, 'DSR': 4, 'NJN': 3, 'KKA': 4, 'POT': 2, 'TBR': 2, 'GAGA': 3, 'ADQ': 3, 'BZN': 8, 'NKB': 4, 'BNQ': 4, 'MDT': 3, 'KCF': 5, 'ODB': 4, 'CLD': 2, 'RVK': 3, 'CROA': 2, 'SBE': 4, 'PBL': 4, 'TIHU': 4, 'KTCH': 2, 'BRHU': 3, 'JOQ': 3, 'SPQ': 3, 'DKGN': 2, 'KDKN': 3, 'TKC': 5, 'DMGN': 3, 'CHB': 5, 'AVN': 4, 'BID': 4, 'RMGM': 8, 'CPT': 6, 'MAD': 6, 'PANP': 5, 'QRP': 5, 'SFM': 2, 'BZO': 2, 'EKM': 4, 'TUG': 2, 'THL': 3, 'MEH': 2, 'VLT': 3, 'MPI': 3, 'CTRE': 4, 'YP': 6, 'CTND': 4, 'KAL': 3, 'MMM': 4, 'PBM': 2, 'SDNR': 4, 'SVV': 4, 'NZT': 4, 'KZB': 3, 'ANY': 2, 'KZY': 2, 'TCN': 3, 'CBU': 3, 'VI': 2, 'KON': 3, 'NNN': 4, 'AAY': 4, 'ERL': 4, 'KZT': 8, 'NYY': 6, 'CRY': 6, 'KVU': 3, 'PVU': 4, 'PNQ': 4, 'GUV': 6, 'PEM': 5, 'NMJ': 6, 'MQ': 4, 'NKK': 2, 'TCH': 2, 'APK': 3, 'PRT': 5, 'VDL': 3, 'KTM': 4, 'ADT': 5, 'BAL': 6, 'TP': 5, 'KLT': 7, 'PGR': 4, 'KMD': 4, 'UKL': 3, 'IPL': 3, 'NG': 5, 'TLGP': 3, 'SRF': 2, 'ANF': 4, 'SMET': 7, 'BDVT': 4, 'TKE': 4, 'MWM': 2, 'S': 4, 'NHY': 2, 'CGKR': 2, 'BDRL': 3, 'Y': 2, 'HNK': 2, 'NXH': 2, 'SET': 3, 'KHLL': 2, 'HJL': 2, 'GNB': 2, 'NYH': 4, 'SME': 2, 'KMSI': 3, 'KNDV': 2, 'CTA': 11, 'TRB': 6, 'PLI': 4, 'KLPM': 3, 'TDN': 2, 'PCV': 3, 'DINR': 5, 'PVRD': 7, 'ETM': 4, 'CYN': 2, 'KPY': 5, 'STKT': 3, 'MYY': 3, 'MNTT': 4, 'PUK': 4, 'TUA': 2, 'PYOL': 4, 'VLI': 3, 'PDD': 4, 'KPQ': 5, 'MQO': 4, 'TKQ': 3, 'BFR': 2, 'KQK': 4, 'KMQ': 4, 'VPZ': 4, 'CQA': 3, 'AAM': 2, 'PKQ': 2, 'MLTR': 2, 'TUV': 3, 'VNB': 3, 'NIL': 6, 'RASP': 5, 'NMKL': 5, 'PASA': 4, 'NMGA': 4, 'KIGL': 4, 'YY': 4, 'BGNR': 4, 'SBGA': 3, 'CNPA': 3, 'SKLR': 2, 'SBHR': 5, 'KBPR': 8, 'BNTL': 3, 'YDM': 4, 'SKPT': 2, 'PU': 2, 'MAR': 2, 'GDP': 3, 'KSM': 4, 'DAVM': 3, 'KZTW': 2, 'PYD': 2, 'PCH': 4, 'GKK': 3, 'CKR': 3, 'KGX': 3, 'BNP': 5, 'MRB': 4, 'JOA': 4, 'HLKT': 2, 'VAPM': 5, 'MQU': 4, 'ELM': 2, 'UAA': 2, 'ULL': 3, 'NPK': 2, 'PUU': 8, 'AVS': 3, 'KKZ': 3, 'EKN': 3, 'KUV': 4, 'KLQ': 3, 'PRND': 2, 'OCR': 2, 'KRPP': 4, 'MPLM': 2, 'URL': 3, 'PLMD': 3, 'KN': 3, 'MMH': 4, 'KOHR': 3, 'OPL': 3, 'PTKP': 3, 'KOLR': 3, 'MMZ': 2, 'RECH': 2, 'ASAF': 2, 'NKP': 5, 'KBM': 4, 'TIU': 4, 'PDU': 4, 'AL': 5, 'MXT': 3, 'FM': 12, 'BDVL': 3, 'TMX': 4, 'HBLN': 3, 'SBBJ': 4, 'MUGR': 6, 'BDCR': 9, 'BTPD': 2, 'TPY': 2, 'CMW': 2, 'GHPU': 2, 'KRA': 2, 'PCZ': 2, 'AKE': 4, 'MZL': 8, 'WDR': 5, 'PDKN': 2, 'NBR': 2, 'RYP': 4, 'BKL': 5, 'GLA': 3, 'KCC': 4, 'NRT': 7, 'DKD': 6, 'MRK': 10, 'CBM': 4, 'GID': 8, 'DMT': 6, 'NDL': 15, 'BMH': 4, 'VKN': 6, 'BGNP': 3, 'KLKA': 3, 'JMDG': 3, 'PRDT': 2, 'KCD': 4, 'TLU': 2, 'BEY': 4, 'PDL': 4, 'MKR': 5, 'BDPL': 4, 'RGP': 2, 'PQL': 2, 'HSP': 4, 'BGSF': 2, 'KYOP': 2, 'RGPM': 2, 'PPZ': 2, 'SRUR': 5, 'MKDI': 2, 'WIRR': 2, 'VHGN': 2, 'PRH': 3, 'BMD': 5, 'MCLE': 3, 'MDVL': 4, 'MGF': 5, 'VDD': 4, 'TGU': 7, 'PAGM': 3, 'TNR': 3, 'ANB': 4, 'VTM': 4, 'DIG': 5, 'PVD': 5, 'PBP': 2, 'RAG': 3, 'TSR': 3, 'HDGR': 4, 'PMT': 4, 'GIN': 4, 'CRZ': 2, 'DDS': 2, 'LIM': 2, 'BSDP': 3, 'KUU': 3, 'GNGD': 3, 'CLKA': 3, 'RBA': 3, 'GAM': 5, 'MMS': 4, 'PUN': 3, 'DUSI': 2, 'SGDM': 3, 'GVI': 3, 'NPD': 4, 'KYM': 3, 'BVL': 4, 'MPU': 4, 'GT': 3, 'PKPU': 4, 'SRPM': 4, 'VJA': 3, 'CIV': 3, 'VMU': 4, 'BQU': 3, 'POA': 2, 'RAL': 3, 'STPD': 6, 'GWV': 3, 'NAVI': 4, 'WLGN': 2, 'CNDB': 5, 'ASTG': 2, 'MRSH': 4, 'WOC': 3, 'PUSA': 2, 'MWAD': 2, 'GPD': 4, 'ANK': 3, 'TR': 2, 'PSD': 2, 'KAJG': 2, 'POZ': 2, 'DLB': 2, 'MKDD': 3, 'BDU': 3, 'KEK': 4, 'BZR': 4, 'PPO': 2, 'KLG': 2, 'KXN': 3, 'TKRI': 5, 'LKMR': 4, 'KKGM': 3, 'DMNJ': 5, 'VZR': 4, 'PS': 4, 'BIA': 5, 'HCAB': 5, 'DBEC': 4, 'MOMU': 4, 'CHKE': 4, 'GNPR': 7, 'JRA': 3, 'GTST': 3, 'MHT': 5, 'BCD': 3, 'KHOH': 3, 'MGG': 3, 'BLAX': 2, 'NRGR': 2, 'UDM': 2, 'KDHA': 2, 'VRG': 2, 'ADTL': 2, 'DDCE': 2, 'SNRR': 2, 'NWR': 3, 'JLW': 4, 'RPD': 4, 'KKI': 2, 'NRZB': 3, 'CLF': 2, 'JTI': 4, 'NIQ': 2, 'VKR': 2, 'HRB': 2, 'KOI': 3, 'BHTK': 2, 'KGS': 2, 'TGQ': 2, 'SLKR': 2, 'KLTR': 2, 'GTK': 2, 'SNGP': 3, 'DWG': 3, 'BJQ': 3, 'SMRR': 2, 'ISH': 2, 'LDA': 2, 'GW': 3, 'ANA': 2, 'KYX': 2, 'GEA': 3, 'SAO': 4, 'BQQ': 2, 'HDU': 4, 'VYK': 2, 'LOA': 2, 'GGT': 3, 'BDWA': 3, 'SBRA': 2, 'HN': 2, 'BAO': 4, 'SNL': 3, 'CHA': 2, 'DRLA': 4, 'GUH': 5, 'GAD': 8, 'URGA': 2, 'MWRN': 2, 'BPRH': 2, 'KPNA': 2, 'KTSH': 2, 'MZH': 2, 'DRSN': 2, 'HRV': 2, 'BATL': 2, 'BRND': 3, 'UKR': 2, 'NPRD': 2, 'DTL': 2, 'NGE': 2, 'SPDR': 2, 'SJQ': 2, 'KJZ': 2, 'KLPG': 2, 'CHDX': 2, 'UDR': 4, 'BGHI': 3, 'TZR': 2, 'LJR': 5, 'BMCK': 2, 'JUJA': 4, 'BAMR': 3, 'JRPD': 3, 'ORGA': 4, 'PKF': 5, 'NKM': 4, 'TIS': 4, 'KYF': 2, 'KNPS': 4, 'KIS': 8, 'BRAG': 7, 'PRDP': 5, 'BDBA': 4, 'RHMA': 7, 'GRKN': 4, 'RCTC': 6, 'KDRP': 4, 'DJHR': 2, 'MMVR': 2, 'NYG': 4, 'PRNR': 2, 'GADH': 2, 'NANR': 2, 'BSTP': 2, 'STBJ': 2, 'NKW': 2, 'HCNR': 4, 'CLDR': 2, 'SGDP': 2, 'TGRL': 2, 'TMKA': 2, 'BGPL': 2, 'JKPR': 5, 'DJX': 3, 'GRCP': 2, 'DPUR': 2, 'BWIP': 2, 'KTRK': 2, 'JNRD': 3, 'KTGA': 3, 'SKPI': 2, 'BLMK': 2, 'LLGM': 2, 'RUL': 2, 'SGRM': 2, 'BGUA': 2, 'DMRT': 2, 'CJS': 3, 'MRBL': 3, 'BSYA': 2, 'SLF': 4, 'RMF': 3, 'TUL': 3, 'SSIA': 2, 'TRAN': 3, 'GRMA': 4, 'BSKH': 3, 'JAMA': 3, 'DUMK': 3, 'CUX': 2, 'DJS': 2, 'BTV': 5, 'KRIH': 2, 'KNPR': 3, 'PRNC': 3, 'JNKR': 2, 'DPL': 3, 'SAH': 5, 'GVD': 3, 'UBR': 7, 'SJN': 5, 'BLD': 4, 'UVD': 4, 'PAD': 3, 'SYN': 4, 'PAO': 3, 'NIU': 4, 'ITA': 5, 'VDA': 7, 'KBRV': 4, 'BJD': 5, 'SBT': 4, 'ABD': 2, 'SAU': 4, 'CE': 3, 'JKA': 3, 'GOP': 2, 'BNVD': 10, 'SKR': 4, 'RWO': 5, 'CPN': 4, 'KRSA': 2, 'SAT': 3, 'MAM': 3, 'BIO': 2, 'ANAS': 2, 'PCN': 3, 'AGR': 2, 'BOG': 2, 'RTI': 3, 'BILD': 2, 'MRN': 2, 'BOD': 2, 'RNH': 2, 'LNR': 2, 'THUR': 3, 'JHW': 3, 'GQL': 3, 'KPTN': 5, 'KPZ': 4, 'MLZ': 4, 'FSP': 3, 'VGN': 2, 'KTKL': 3, 'ISM': 3, 'MGLP': 2, 'NDN': 4, 'DGI': 3, 'BJW': 4, 'RNO': 4, 'RBS': 4, 'FTS': 4, 'KLB': 4, 'BPU': 4, 'SNC': 3, 'SSDT': 4, 'GHSR': 4, 'PJY': 4, 'RMW': 4, 'BDWL': 3, 'CVR': 3, 'BAH': 5, 'VRX': 4, 'PFL': 4, 'PDF': 4, 'COE': 4, 'LKZ': 3, 'BMSB': 3, 'VJP': 3, 'PIA': 4, 'LTR': 4, 'MOL': 4, 'DL': 4, 'PDH': 6, 'PPR': 6, 'SQR': 4, 'RCF': 3, 'KXH': 3, 'BPRS': 4, 'MRTL': 4, 'BHTA': 5, 'MTHP': 4, 'PUO': 2, 'KONY': 2, 'BLX': 2, 'JBX': 2, 'KHDB': 5, 'DJI': 3, 'BHY': 2, 'PLM': 2, 'WAB': 3, 'NDT': 3, 'NJT': 6, 'MDJN': 6, 'CKD': 6, 'KURJ': 4, 'SRPJ': 4, 'NANA': 4, 'MOI': 3, 'JAL': 2, 'HDA': 3, 'TL': 3, 'BDW': 4, 'JHJ': 4, 'KLE': 6, 'SNGN': 3, 'GPI': 4, 'SAC': 4, 'MLAR': 4, 'GOA': 4, 'SONI': 4, 'BBTR': 3, 'KSWR': 4, 'HGL': 3, 'TKMG': 4, 'MCSC': 4, 'UKA': 4, 'DUJ': 4, 'RMB': 5, 'AUNG': 3, 'SSL': 4, 'BDY': 3, 'MONR': 3, 'API': 2, 'ODC': 2, 'CHPT': 2, 'HISE': 2, 'GII': 4, 'DVM': 3, 'NASP': 5, 'GUG': 5, 'DSPN': 4, 'PIT': 8, 'WTJ': 4, 'ALB': 2, 'KNLS': 8, 'ANPR': 2, 'KRSL': 2, 'SKTN': 1, 'SNX': 2, 'SMPA': 3, 'BLN': 5, 'LKF': 2, 'TLG': 2, 'NACC': 2, 'MJT': 3, 'RMTR': 2, 'KIRP': 2, 'PPGT': 2, 'EDG': 2, 'BBDB': 2, 'BZB': 2, 'SOLA': 2, 'BBR': 2, 'TALA': 2, 'PTKR': 2, 'DDJ': 11, 'BLH': 6, 'AGP': 5, 'SEP': 6, 'KDH': 5, 'TGH': 4, 'PTF': 3, 'IP': 3, 'SNR': 6, 'JGDL': 3, 'KNR': 3, 'KLYM': 1, 'KLYG': 2, 'KLYS': 2, 'KYI': 5, 'KPA': 3, 'HLR': 2, 'MPJ': 2, 'SMX': 4, 'PXR': 2, 'CDH': 5, 'PDX': 2, 'HRSR': 2, 'BPN': 3, 'MIJ': 2, 'TNX': 2, 'MYHT': 2, 'BGL': 2, 'BHNA': 2, 'BHGH': 2, 'AG': 3, 'PNCB': 2, 'BNKA': 2, 'KLNP': 4, 'BIJ': 3, 'THP': 2, 'BDZ': 3, 'SGBA': 2, 'PQS': 3, 'DDC': 3, 'DGNR': 2, 'BBT': 4, 'BRPK': 2, 'NBE': 2, 'MMG': 4, 'HHR': 2, 'BT': 4, 'DTK': 2, 'BMG': 2, 'KZPR': 2, 'KBGH': 2, 'BHKA': 2, 'SXC': 2, 'BGRD': 2, 'LBTL': 2, 'BSLA': 2, 'HRO': 2, 'KMZA': 2, 'MPE': 2, 'GGV': 2, 'CQR': 2, 'BBLA': 2, 'BSHT': 2, 'MPN': 2, 'NMDR': 2, 'TKF': 2, 'HNB': 1, 'BIRA': 2, 'GUMA': 2, 'ASKR': 2, 'HB': 3, 'BNJ': 3, 'CDP': 3, 'TKNR': 2, 'GBG': 2, 'MSL': 3, 'BNAA': 2, 'SNHT': 2, 'CHT': 3, 'KLKR': 2, 'BDYP': 2, 'SPR': 6, 'NRPR': 2, 'GIA': 3, 'BGJT': 2, 'JDP': 2, 'DHK': 2, 'PLF': 2, 'GQD': 2, 'GOF': 4, 'SBGR': 2, 'MAK': 2, 'BRP': 5, 'LKPR': 3, 'MDBP': 2, 'MPRD': 3, 'JNM': 2, 'BARU': 2, 'DBT': 3, 'HGA': 2, 'GCN': 3, 'SJPR': 2, 'DPDP': 3, 'KRXM': 2, 'SSRD': 2, 'BGB': 1, 'NAI': 2, 'AKRA': 2, 'SSP': 2, 'BRJ': 2, 'GFAE': 2, 'HYG': 2, 'KLNT': 2, 'VSPR': 2, 'BFZ': 3, 'MTFA': 2, 'LKX': 4, 'BQY': 2, 'PTAE': 4, 'AGAE': 3, 'DHAE': 3, 'SHBA': 2, 'ADST': 3, 'MUG': 5, 'TLO': 3, 'KHN': 3, 'PDA': 7, 'SLG': 2, 'BCGM': 2, 'BOI': 4, 'DBP': 2, 'BGF': 2, 'MYM': 6, 'NMF': 2, 'RSLR': 3, 'PLAE': 2, 'SKG': 4, 'GRP': 3, 'KGK': 1, 'HBE': 2, 'FLU': 3, 'BTKB': 2, 'STB': 3, 'JKL': 2, 'BPD': 2, 'DHU': 3, 'MGM': 2, 'SVH': 2, 'PCX': 2, 'BFT': 2, 'SGV': 3, 'KRP': 3, 'SRJN': 2, 'NBPH': 2, 'SBNM': 2, 'PRTL': 2, 'BARN': 2, 'BLYG': 2, 'BLYH': 2, 'RCD': 2, 'DKAE': 5, 'GBRA': 2, 'JOX': 4, 'BPAE': 2, 'BRPA': 2, 'CG': 1, 'TLX': 3, 'BTPG': 2, 'NBRN': 3, 'GGP': 2, 'MAJ': 2, 'AKIP': 2, 'GN': 2, 'STBB': 2, 'CPHT': 2, 'URP': 2, 'KLW': 2, 'KNJI': 2, 'NCP': 2, 'KHGR': 2, 'KWDP': 2, 'NMKA': 1, 'DH': 2, 'BSD': 3, 'NTA': 2, 'D': 3, 'MGT': 4, 'HT': 3, 'DKDP': 2, 'KYP': 2, 'DMU': 2, 'UTN': 2, 'GURN': 2, 'SNU': 2, 'BHPA': 2, 'KMRA': 2, 'KSHT': 2, 'CMDG': 2, 'KJRA': 2, 'KJRM': 2, 'ARNB': 2, 'BTRH': 2, 'BGNA': 2, 'SOF': 2, 'NGX': 2, 'KCY': 2, 'BCF': 2, 'SIZ': 2, 'SPS': 1, 'LLH': 8, 'BEQ': 3, 'BZL': 2, 'MBE': 2, 'BLAE': 2, 'MDSE': 2, 'CDAE': 3, 'PBZ': 2, 'BMAE': 5, 'HIH': 4, 'GRAE': 4, 'JPQ': 2, 'JRAE': 2, 'NBAE': 2, 'MSAE': 5, 'SHBC': 3, 'DNHL': 2, 'CHC': 2, 'PRAE': 4, 'CRAE': 2, 'BLY': 6, 'UPA': 7, 'HMZ': 3, 'KOG': 5, 'RIS': 3, 'BRMH': 2, 'BBAE': 2, 'BHR': 3, 'MUU': 2, 'HGY': 2, 'DEA': 2, 'NSF': 2, 'SIU': 2, 'KQLS': 2, 'NKL': 2, 'MLYA': 2, 'HPL': 2, 'KKAE': 2, 'BAHW': 2, 'LOK': 2, 'TAK': 3, 'MAYP': 3, 'AMBG': 1, 'TLPH': 2, 'TKPH': 2, 'PDPK': 2, 'TPKR': 3, 'DSNR': 2, 'RMJ': 3, 'MRGM': 2, 'SEL': 5, 'ABB': 2, 'NALR': 4, 'BVA': 8, 'CGA': 2, 'FLR': 4, 'BSBP': 2, 'KGY': 2, 'GGTA': 2, 'DTE': 3, 'KIG': 3, 'NDGJ': 2, 'BOP': 5, 'NPMR': 2, 'RGX': 3, 'RGA': 2, 'SMTG': 2, 'KSBP': 2, 'SSPH': 2, 'MSDL': 2, 'BRDB': 2, 'BYSA': 2, 'DZK': 2, 'BAAR': 2, 'KHAI': 2, 'HAUR': 4, 'RDU': 3, 'DUAN': 2, 'BCK': 7, 'SMCK': 2, 'MPD': 4, 'JPR': 2, 'AMZ': 1, 'HDC': 2, 'JLI': 2, 'MJH': 2, 'MHLN': 2, 'MNH': 2, 'PTHL': 2, 'BAC': 2, 'DKB': 2, 'DJR': 2, 'DMJR': 2, 'MDC': 2, 'JLBR': 2, 'DNI': 2, 'KONA': 2, 'BKNM': 2, 'MSB': 20, 'MSF': 2, 'MPK': 2, 'MSC': 2, 'NBK': 2, 'MKK': 5, 'SP': 2, 'GDY': 4, 'STM': 7, 'PZA': 2, 'MN': 2, 'TLM': 2, 'PV': 6, 'CMP': 2, 'TBMS': 2, 'SKL': 4, 'CTM': 3, 'VDR': 4, 'GI': 4, 'TMLP': 6, 'PALR': 5, 'WJ': 4, 'PWU': 2, 'RDY': 2, 'VB': 2, 'PYV': 2, 'NTT': 2, 'CJE': 2, 'MTMY': 2, 'VLCY': 2, 'MMCC': 11, 'BBQ': 5, 'KOK': 4, 'TNP': 2, 'TVT': 3, 'WCN': 2, 'KAVM': 2, 'ENR': 4, 'AIPP': 2, 'AIP': 4, 'NPKM': 2, 'MJR': 4, 'APB': 2, 'PON': 3, 'KVP': 2, 'ELR': 2, 'AKM': 2, 'TADA': 3, 'AKAT': 2, 'RPM': 2, 'WST': 4, 'VPY': 5, 'VLK': 7, 'KOTR': 2, 'PVM': 2, 'ABU': 5, 'TMVL': 2, 'ANNR': 3, 'HC': 5, 'PRES': 5, 'PTMS': 2, 'PRWS': 3, 'TI': 9, 'VEU': 2, 'SVR': 2, 'PTLR': 2, 'KBT': 5, 'TO': 5, 'PLMG': 2, 'MSU': 2, 'MAF': 2, 'SPAM': 3, 'EGT': 3, 'AJJN': 2, 'LKPL': 2, 'KQD': 5, 'NLRD': 3, 'NCHS': 2, 'FNB': 2, 'BTNR': 2, 'BRBD': 2, 'HTCY': 2, 'HFZ': 4, 'CDNR': 2, 'HPG': 2, 'YKA': 2, 'DQR': 2, 'VAR': 2, 'JOO': 2, 'ATC': 2, 'JET': 2, 'SJVP': 3, 'NIV': 2, 'VRLI': 2, 'SUAL': 2, 'ZARP': 2, 'MADR': 2, 'VEN': 2, 'MJO': 4, 'SRVX': 2, 'DIVA': 10, 'DTVL': 3, 'NIIJ': 2, 'TPND': 3, 'NVRD': 2, 'KLMG': 3, 'SMNE': 3, 'RSYI': 2, 'APTA': 3, 'JITE': 3, 'HMRR': 2, 'PEN': 3, 'KASU': 2, 'NGTN': 3, 'NIDI': 2, 'KOL': 2, 'INP': 2, 'GNO': 2, 'SAPE': 2, 'KFD': 2, 'VINH': 2, 'DWV': 2, 'ANO': 2, 'KMAH': 2, 'UKC': 2, 'BOKE': 2, 'ULNR': 3, 'ABH': 5, 'BUD': 6, 'KMST': 5, 'DAPD': 3, 'AKRD': 2, 'VDN': 3, 'TVL': 4, 'LHN': 3, 'MNL': 4, 'SGND': 4, 'VPR': 4, 'RRI': 5, 'BFJ': 2, 'JMD': 2, 'RM': 2, 'MWK': 2, 'SHF': 2, 'BRVR': 2, 'MHAD': 2, 'DHI': 1, 'BNOD': 2, 'PAAL': 2, 'SHAD': 2, 'ABY': 2, 'TLA': 7, 'KDV': 2, 'VSD': 2, 'ASO': 5, 'ATG': 4, 'KE': 4, 'GO': 2, 'PI': 2, 'AV': 2, 'LT': 2, 'ODHA': 2, 'KW': 2, 'KBSN': 2, 'UGN': 2, 'SUM': 2, 'PNV': 2, 'HSL': 2, 'PJN': 2, 'PKE': 2, 'NI': 2, 'HPR': 2, 'VGL': 2, 'NGD': 2, 'GAA': 2, 'PHQ': 2, 'MYJ': 2, 'MWD': 2, 'SS': 2, 'BDI': 2, 'DSK': 2, 'WGA': 2, 'AGQ': 2, 'CDI': 2, 'MWA': 2, 'SXA': 2, 'DGN': 2, 'KDK': 2, 'BMA': 2, 'BRGJ': 2, 'MTA': 2, 'CKKD': 2, 'DRHI': 2, 'BRI': 2, 'MUO': 2, 'PAL': 2, 'CRK': 2, 'PGL': 2, 'BIF': 2, 'DKI': 2, 'DRA': 2, 'ACG': 2, 'KLHD': 2, 'KMKD': 2, 'WADO': 2, 'BIS': 2, 'KJL': 2, 'NGZ': 2, 'GAO': 2, 'YAD': 2, 'BGN': 2, 'KTP': 2, 'MANA': 2, 'MNDA': 2, 'KUM': 2, 'TKI': 2, 'SXF': 2, 'JHT': 2, 'KFY': 2, 'GPC': 2, 'MDRR': 2, 'PTWA': 2, 'PKRD': 2, 'BUU': 2, 'LGCE': 2, 'SAGM': 3, 'KTHA': 2, 'CTHR': 2, 'TKYR': 2, 'MKD': 2, 'PNHI': 2, 'KTDD': 2, 'MJHR': 2, 'LOG': 2, 'MFX': 2, 'IDGJ': 2, 'LKJN': 3, 'CHJC': 2, 'BPK': 4, 'SNN': 2, 'WG': 2, 'NGI': 2, 'CKNI': 2, 'TAE': 3, 'BUPH': 2, 'VVKN': 2, 'CPW': 2, 'TMT': 2, 'MLR': 2, 'TLN': 2, 'KAOT': 2, 'DAE': 2, 'DIP': 2, 'BYS': 2, 'MALK': 2, 'LLD': 2, 'JMV': 4, 'BCRD': 2, 'BQM': 2, 'MKDN': 2, 'HRG': 3, 'PCLI': 2, 'IKR': 2, 'KUX': 2, 'GNW': 2, 'VADR': 2, 'SLOR': 3, 'BOK': 2, 'GMG': 2, 'KRI': 2, 'GNQ': 2, 'BWRA': 2, 'KOHL': 2, 'SNKB': 2, 'MER': 2, 'KLBA': 3, 'TNH': 2, 'DDMT': 2, 'TEO': 3, 'GDKP': 2, 'CCD': 4, 'HTN': 2, 'JKR': 2, 'PDI': 5, 'MVL': 2, 'KNHE': 2, 'GRWD': 3, 'KSWD': 2, 'BGWI': 2, 'HDP': 2, 'MJBK': 2, 'LONI': 2, 'YT': 3, 'KTT': 2, 'KDTN': 2, 'PAA': 3, 'MDDG': 2, 'SSI': 2, 'SSF': 2, 'KFH': 2, 'BRMT': 5, 'KSTH': 2, 'BWD': 2, 'RNJD': 2, 'SRL': 2, 'AKR': 2, 'VL': 2, 'VBR': 2, 'TKMY': 2, 'PDGN': 2, 'NPW': 2, 'CIT': 2, 'KNGN': 2, 'SNVR': 2, 'VJR': 2, 'BGWD': 2, 'PRKH': 2, 'SUL': 2, 'SBH': 3, 'SXB': 2, 'TGT': 2, 'GRMT': 2, 'SSV': 2, 'FSG': 2, 'ALN': 2, 'SHIV': 2, 'RJW': 2, 'DNJ': 2, 'WLH': 2, 'SLP': 2, 'AKI': 2, 'PLV': 2, 'SNE': 2, 'ANQ': 2, 'NDE': 2, 'MDVR': 2, 'BYC': 3, 'KDN': 3, 'GNR': 3, 'PKL': 2, 'KGW': 2, 'HTNL': 2, 'BNA': 2, 'SOQ': 2, 'RLP': 2, 'CTH': 2, 'KMV': 2, 'SVD': 2, 'KODI': 2, 'RNE': 2, 'PDG': 2, 'UPR': 2, 'SCO': 2, 'DGPP': 2, 'DAV': 2, 'PG': 3, 'PIZ': 2, 'MQL': 2, 'CRU': 2, 'LBG': 3, 'WNG': 2, 'PARD': 3, 'MGC': 3, 'SVN': 3, 'SLGH': 2, 'BLSA': 2, 'SQE': 2, 'FKB': 2, 'NVT': 3, 'JKM': 3, 'GTU': 2, 'MRTY': 2, 'KRPR': 2, 'WDLN': 2, 'OSA': 4, 'MRX': 2, 'DKY': 3, 'KMRD': 2, 'YSI': 2, 'PJR': 2, 'SEI': 2, 'LAUL': 2, 'WSD': 2, 'JVA': 2, 'LNP': 2, 'AGDL': 2, 'BLNK': 2, 'BLWD': 2, 'BMNI': 2, 'SNGR': 2, 'PKNS': 2, 'DNDI': 2, 'WDN': 2, 'UKH': 2, 'RTZ': 2, 'DGD': 2, 'GTY': 2, 'RTGN': 2, 'PTHD': 2, 'MJGP': 2, 'MDXR': 2, 'MDGR': 5, 'CHRM': 5, 'MDVK': 2, 'SRKI': 2, 'KXB': 2, 'GVB': 2, 'RTWS': 2, 'ORR': 2, 'HPKA': 2, 'RIKA': 2, 'SHDR': 2, 'PIGT': 2, 'PGA': 2, 'MABN': 2, 'CDSL': 2, 'DXD': 4, 'SKPA': 2, 'BON': 3, 'BJK': 3, 'SDLK': 2, 'CJW': 3, 'POR': 2, 'ATRU': 3, 'SYL': 3, 'KOLI': 2, 'BLO': 3, 'MTPC': 2, 'DHR': 4, 'CRKR': 2, 'MUGA': 2, 'KTKD': 2, 'LEK': 2, 'SLHA': 2, 'PWK': 2, 'DMYA': 2, 'CTJ': 3, 'BARD': 2, 'KNC': 2, 'JOBA': 2, 'SKBR': 2, 'BSDL': 2, 'SSGJ': 3, 'GAJB': 2, 'DRGM': 3, 'MHDA': 2, 'CHRK': 2, 'KDRD': 2, 'MWF': 2, 'PPKD': 2, 'BXLL': 3, 'BBAR': 2, 'MZHL': 2, 'KHA': 2, 'BIR': 1, 'KMA': 2, 'SKAR': 2, 'HNM': 2, 'GGGS': 2, 'GRG': 2, 'JPV': 2, 'CRE': 2, 'BUQ': 2, 'SOY': 2, 'KDHI': 2, 'DRPH': 2, 'SKY': 2, 'VNK': 2, 'GNS': 2, 'NDNI': 2, 'PRTR': 2, 'PDE': 2, 'JONR': 2, 'NIR': 1, 'PRDL': 2, 'HATI': 2, 'MSV': 2, 'GRM': 2, 'PIC': 2, 'PTSC': 2, 'NDK': 2, 'ERC': 2, 'PRN': 2, 'BHUA': 2, 'ATA': 2, 'CNH': 2, 'MLS': 2, 'TLNH': 2, 'RPGU': 2, 'BNAR': 2, 'ORC': 2, 'MGRR': 2, 'TKA': 2, 'RNRD': 2, 'RORA': 2, 'GTI': 2, 'CRC': 2, 'BPRA': 2, 'KBR': 2, 'DWI': 2, 'BUS': 2, 'BIP': 2, 'OHAN': 2, 'AGD': 2, 'KOA': 2, 'MXS': 2, 'JRO': 2, 'DWA': 2, 'JHA': 2, 'BJA': 2, 'DLA': 2, 'MZX': 2, 'BPW': 2, 'KHJ': 2, 'BJI': 3, 'CPB': 2, 'MGW': 2, 'SIC': 2, 'AJ': 2, 'KVX': 2, 'JTU': 2, 'HRN': 2, 'POF': 2, 'AMS': 2, 'MKG': 4, 'KRQ': 2, 'KTRA': 2, 'SMTL': 2, 'AEH': 2, 'ARI': 2, 'SLV': 2, 'STLI': 2, 'BLNR': 3, 'RRU': 2, 'NUB': 2, 'SIKD': 2, 'HET': 2, 'MIA': 2, 'JJ': 2, 'BHA': 3, 'DAYG': 2, 'BSRI': 2, 'ISHN': 2, 'RAPU': 2, 'TILA': 2, 'KHGP': 2, 'SKNP': 2, 'MWAI': 2, 'UDPR': 2, 'BRRI': 2, 'JHSA': 2, 'CHIT': 2, 'RGLI': 2, 'SPDM': 2, 'RJAK': 2, 'PRKD': 2, 'BKA': 2, 'MSO': 2, 'SUW': 2, 'SORI': 2, 'SUMR': 2, 'PAI': 2, 'KIKA': 2, 'MJY': 3, 'DHQ': 2, 'MGRD': 2, 'DOH': 3, 'POX': 2, 'KQE': 4, 'SAHL': 2, 'TAKU': 3, 'KRTH': 2, 'KNH': 1, 'TRWT': 2, 'RSJ': 2, 'LWS': 2, 'KCR': 2, 'KAW': 2, 'PARH': 2, 'MOJ': 2, 'GHAI': 2, 'PNHR': 2, 'BFP': 2, 'RNKA': 2, 'KXM': 2, 'FAR': 2, 'BAD': 2, 'BTSR': 3, 'VRBD': 2, 'AJH': 2, 'BNCR': 2, 'SHLK': 2, 'RDE': 2, 'PYLA': 2, 'BHHZ': 2, 'NTG': 2, 'AIH': 2, 'BADK': 2, 'BAOL': 2, 'BDHP': 2, 'ASAR': 2, 'AILM': 3, 'KZI': 2, 'GLBN': 2, 'SLWR': 2, 'HHP': 2, 'TBTN': 3, 'NNX': 3, 'SNAP': 2, 'BNQL': 2, 'MNZ': 3, 'SMDP': 2, 'BDXT': 2, 'MROA': 2, 'GDO': 2, 'BEHJ': 2, 'DEEG': 2, 'BEDM': 2, 'BINR': 2, 'GVH': 2, 'JBS': 2, 'RAH': 2, 'OTD': 2, 'MWW': 2, 'DGW': 2, 'SRRG': 2, 'GLNA': 2, 'ARNA': 2, 'KVGM': 3, 'BAK': 2, 'JW': 2, 'BSKO': 4, 'JHIR': 2, 'KUT': 2, 'FLD': 3, 'GGO': 2, 'KBK': 2, 'DOHM': 2, 'DJKR': 2, 'KRKM': 2, 'CBG': 2, 'LSG': 2, 'KXA': 2, 'KDL': 2, 'BJN': 2, 'TMGN': 2, 'MRWS': 2, 'GWO': 1, 'GOPA': 3, 'MTJL': 3, 'MIAL': 2, 'BMZ': 5, 'ABE': 2, 'SMV': 4, 'THR': 2, 'JPO': 4, 'SKU': 2, 'BHAT': 2, 'KQS': 4, 'SYF': 2, 'PPCK': 2, 'SBL': 3, 'RMPH': 2, 'BJPR': 2, 'KAKN': 2, 'BIB': 2, 'SPRA': 2, 'IKD': 2, 'TKLN': 2, 'SEX': 2, 'KJP': 3, 'DURP': 2, 'GIW': 3, 'DTQ': 2, 'SOE': 1, 'DGPI': 2, 'DHOA': 1, 'NPH': 2, 'GIS': 2, 'SRTE': 2, 'BARI': 2, 'MHF': 3, 'RNB': 2, 'AGE': 2, 'SRMT': 1, 'BED': 2, 'BFG': 2, 'TPO': 1, 'PBE': 8, 'DYU': 2, 'MALA': 4, 'SNDY': 2, 'SG': 4, 'PRSP': 2, 'PP': 4, 'UDKN': 2, 'DYK': 3, 'KRYA': 2, 'SW': 3, 'ALNP': 2, 'MLN': 3, 'SZP': 1, 'SZN': 5, 'ARX': 3, 'DOT': 3, 'NOH': 4, 'VZPH': 2, 'ZNP': 2, 'CKSR': 2, 'MIW': 2, 'BSUR': 4, 'SNZ': 2, 'BFPA': 5, 'PUF': 3, 'PTPR': 3, 'KIE': 2, 'TQN': 3, 'BXM': 2, 'DDW': 2, 'PLK': 2, 'BIK': 2, 'BRK': 1, 'RS': 2, 'MT': 2, 'NNP': 3, 'RBJ': 3, 'MIN': 4, 'KARH': 2, 'MUH': 3, 'NSA': 2, 'BIC': 2, 'MJPB': 3, 'KYBR': 2, 'GIHT': 2, 'BBJ': 2, 'NPR': 1, 'BOF': 4, 'SML': 4, 'DMP': 3, 'KMTI': 2, 'SOL': 2, 'SLR': 2, 'KDZ': 4, 'SGS': 3, 'TVI': 3, 'JTO': 2, 'SHZ': 2, 'KEJ': 2, 'KANO': 2, 'TSL': 2, 'GMM': 2, 'KOTI': 2, 'SWO': 2, 'DLSR': 3, 'KAWL': 2, 'NUPR': 3, 'TLRA': 4, 'BLDL': 2, 'BRMR': 3, 'JWLS': 3, 'HRDR': 3, 'MGRP': 2, 'NGRS': 4, 'BRHL': 2, 'NDBT': 3, 'GULR': 4, 'LNS': 2, 'TRPL': 3, 'JMKR': 3, 'KPLR': 2, 'KGRA': 2, 'KGMR': 3, 'SMLT': 2, 'NGRT': 4, 'CMMG': 2, 'PRAR': 4, 'SLHP': 2, 'PLMX': 4, 'PHRH': 4, 'MNHL': 2, 'BJPL': 3, 'PTRJ': 2, 'BJMR': 2, 'AHJU': 2, 'CTZ': 2, 'JDNX': 1, 'DJ': 1, 'GHUM': 2, 'SAD': 2, 'TUNG': 2, 'KGN': 2, 'MHN': 2, 'GBE': 2, 'TDH': 2, 'RTG': 2, 'SN': 2, 'RUJ': 3, 'CSMA': 2, 'KVH': 2, 'BHRJ': 2, 'DHLI': 2, 'RTJ': 2, 'DNPR': 2, 'KTRD': 4, 'BHAN': 2, 'KADI': 2, 'KLLF': 2, 'KHD': 2, 'SBIC': 3, 'ADIJ': 1, 'VRLF': 2, 'SVB': 2, 'TAV': 5, 'CTRD': 2, 'SASG': 2, 'KANS': 2, 'STDR': 2, 'VSW': 3, 'JTV': 2, 'BADR': 2, 'DARI': 2, 'CLC': 2, 'AEP': 2, 'AE': 2, 'KJV': 3, 'LAT': 2, 'DASF': 1, 'JLRF': 1, 'JTP': 2, 'VVD': 2, 'VDV': 2, 'KKK': 2, 'KKV': 2, 'LDU': 2, 'CTL': 2, 'BTDF': 3, 'SAPR': 2, 'JIL': 3, 'BNH': 3, 'TID': 2, 'DCK': 5, 'RY': 2, 'DIBL': 2, 'HLB': 2, 'LO': 2, 'LHBK': 3, 'AEJ': 2, 'KTGD': 3, 'GS': 2, 'DOK': 3, 'VLA': 4, 'MQA': 2, 'MORA': 3, 'SEJ': 3, 'VTP': 2, 'GG': 2, 'JBB': 2, 'GRHM': 3, 'PCC': 3, 'VLDR': 2, 'JVL': 2, 'HRM': 2, 'GEG': 2, 'UNA': 2, 'DVA': 1, 'JCN': 2, 'BILK': 2, 'TORA': 2, 'KODR': 1, 'GTWD': 2, 'SDHR': 2, 'PTP': 2, 'KKD': 2, 'CRL': 2, 'MKT': 2, 'BWW': 2, 'OM': 2, 'SWD': 1, 'SHBL': 3, 'GGLE': 4, 'JHBN': 2, 'MHTR': 2, 'TYAE': 4, 'CWLE': 4, 'KNSN': 4, 'JVT': 2, 'MIAN': 2, 'KZPE': 2, 'KTLR': 2, 'NBKH': 2, 'NLSF': 2, 'GSGB': 2, 'BAA': 3, 'LAP': 2, 'TKP': 2, 'SDLE': 2, 'DHPD': 2, 'BDBS': 2, 'BDAG': 4, 'BKLE': 3, 'DDX': 2, 'KXE': 2, 'KPTO': 2, 'MJP': 3, 'MPLE': 3, 'PRDG': 2, 'NWMS': 3, 'BQZ': 3, 'KRMA': 2, 'AMPL': 2, 'LKB': 2, 'LMM': 2, 'TIT': 2, 'JTL': 2, 'BPS': 4, 'NRX': 2, 'PCQ': 2, 'KPLE': 2, 'BSLE': 2, 'GHLE': 2, 'NGF': 2, 'TBB': 2, 'CTMP': 2, 'MVV': 3, 'GNNA': 4, 'BUJ': 2, 'MKPR': 2, 'KSP': 3, 'TLWA': 2, 'BJIH': 2, 'SSNS': 2, 'UGNA': 2, 'LLPR': 2, 'KRHA': 2, 'KJME': 3, 'BMGA': 2, 'PCR': 2, 'CPLE': 2, 'KOX': 2, 'KPK': 2, 'SLS': 2, 'MNC': 3, 'JRW': 3, 'LHB': 2, 'NRGO': 2, 'DPX': 2, 'GLI': 2, 'PAJ': 2, 'RBH': 2, 'BHN': 2, 'NPJE': 2, 'MRQ': 3, 'RJB': 2, 'TKB': 3, 'RDF': 2, 'THO': 2, 'KITA': 3, 'GATD': 2, 'GAG': 3, 'JON': 2, 'ALPD': 2, 'PRGR': 2, 'HRNS': 2, 'SKIP': 2, 'BRMA': 2, 'KURV': 2, 'DHWN': 3, 'SCY': 2, 'PRBZ': 4, 'RSMN': 2, 'PNUG': 3, 'JTDM': 2, 'NEMA': 2, 'KRON': 2, 'JHDC': 2, 'IAM': 2, 'NZP': 2, 'WW': 2, 'NERH': 2, 'BBHT': 2, 'NYM': 2, 'OREH': 2, 'CKH': 3, 'TNRI': 2, 'CKMI': 2, 'JTIN': 2, 'KRJR': 2, 'MPO': 4, 'SNDT': 1, 'SNMY': 2, 'RKJE': 2, 'AMLO': 2, 'JAN': 2, 'DMBR': 2, 'DNEA': 2, 'JGBR': 2, 'KMHT': 2, 'TKS': 2, 'HNDR': 3, 'KOLE': 2, 'MMLN': 2, 'CTQ': 2, 'RCGT': 2, 'DEMU': 2, 'BFQ': 2, 'KMND': 2, 'HHG': 2, 'MAZ': 2, 'CNF': 2, 'KFT': 2, 'RHR': 2, 'TRZ': 2, 'MXY': 2, 'JRQ': 2, 'MPF': 2, 'JGF': 2, 'GMX': 2, 'SLBN': 2, 'KHRY': 2, 'DAP': 2, 'PRE': 2, 'JHG': 2, 'BEO': 2, 'GAE': 2, 'JIA': 2, 'UND': 2, 'BEP': 2, 'KCN': 2, 'SQS': 2, 'KRTA': 2, 'SZF': 2, 'KVQ': 2, 'BCJ': 2, 'DORD': 2, 'BHKH': 2, 'CPBH': 2, 'KWAR': 1, 'JAUA': 2, 'REMA': 2, 'DNWR': 2, 'NWDH': 2, 'NWSI': 2, 'MHSA': 2, 'KQRT': 2, 'PADH': 2, 'UWAN': 2, 'BRHI': 2, 'PDMA': 2, 'KAGA': 2, 'KAUA': 2, 'KKAS': 2, 'KSNA': 2, 'HZBN': 2, 'BES': 2, 'CHRI': 2, 'MNDU': 2, 'KUJU': 2, 'ARGD': 2, 'RIKD': 2, 'AJUG': 2, 'KMGH': 2, 'KAPP': 2, 'GOG': 2, 'PATM': 2, 'SRBG': 2, 'GIBP': 2, 'PWBN': 2, 'HSDA': 2, 'KADL': 2, 'PETA': 2, 'MDLE': 3, 'PPDI': 2, 'BELT': 2, 'SJJ': 2, 'TKLE': 2, 'JDPT': 2, 'GIF': 2, 'PJLE': 2, 'MDVB': 2, 'MPUR': 3, 'BRPS': 2, 'NNHT': 2, 'KUMT': 2, 'RJL': 1, 'SGPA': 2, 'SAPT': 2, 'JGD': 2, 'KBSH': 2, 'MMD': 2, 'GRD': 1, 'BKAC': 2, 'PHE': 2, 'KWD': 2, 'SSG': 2, 'KVD': 2, 'PSE': 3, 'MTGE': 2, 'DCX': 2, 'GAQ': 2, 'CNPI': 2, 'MHUR': 2, 'KRTR': 2, 'DRV': 2, 'BHCL': 2, 'TLAM': 2, 'SAHA': 2, 'NXR': 2, 'TRG': 1, 'VVKP': 2, 'DBSI': 3, 'MQC': 2, 'GHE': 2, 'ASE': 2, 'ROHN': 2, 'KRZ': 2, 'ABO': 3, 'JCY': 2, 'PPDE': 3, 'SWDE': 2, 'PKDE': 2, 'BKDE': 2, 'SXE': 2, 'SFDE': 2, 'KSDE': 2, 'NARA': 2, 'MLDE': 2, 'ASAN': 2, 'KURN': 2, 'BNJL': 2, 'NLH': 3, 'DHRN': 2, 'MDLA': 3, 'BASN': 2, 'RKX': 2, 'JSS': 2, 'MKLI': 2, 'GSO': 2, 'PT': 2, 'TNJR': 2, 'JSKA': 2, 'IHP': 2, 'KWMD': 2, 'NNU': 2, 'GRKA': 2, 'BJWS': 2, 'ZP': 3, 'NDRT': 2, 'NWN': 2, 'SAWN': 2, 'PVZ': 3, 'HR': 4, 'GKG': 2, 'PLHW': 2, 'MHRI': 2, 'DGHL': 2, 'SMF': 2, 'KHV': 2, 'KZH': 2, 'JJT': 2, 'KIU': 2, 'BSPH': 2, 'DHY': 2, 'DTN': 2, 'KLWN': 2, 'HMQ': 2, 'TNDE': 3, 'PDS': 2, 'PBJM': 2, 'PHWR': 4, 'TIK': 2, 'GXG': 2, 'QTP': 2, 'SJM': 2, 'KIY': 4, 'GRZ': 2, 'KAGR': 2, 'DTW': 2, 'NPX': 2, 'SSZ': 2, 'MASK': 2, 'KTF': 2, 'KZW': 2, 'GHB': 2, 'SGA': 2, 'MKBH': 2, 'BNLS': 2, 'RKK': 2, 'SCV': 2, 'BGD': 2, 'SHN': 4, 'JKHI': 3, 'CBX': 2, 'RLS': 3, 'GZS': 2, 'GHA': 3, 'KBU': 2, 'PKZ': 2, 'AJTM': 2, 'BWZ': 3, 'CKM': 2, 'DAU': 4, 'MSSD': 2, 'PHS': 4, 'GRN': 2, 'GGKR': 2, 'CJL': 3, 'BZ': 2, 'BSS': 2, 'HMI': 2, 'KUP': 3, 'RHW': 2, 'JSL': 2, 'GILL': 3, 'LDP': 2, 'HKP': 3, 'CKLT': 2, 'KIV': 3, 'KFPR': 3, 'MHHR': 2, 'KHE': 2, 'GGB': 3, 'QXR': 2, 'BBO': 2, 'KKMB': 2, 'DS': 4, 'AKNR': 2, 'MFH': 3, 'VVB': 2, 'MAHO': 4, 'JBG': 3, 'UCH': 3, 'PKRA': 2, 'DAN': 2, 'DUN': 2, 'DAM': 2, 'SAR': 2, 'MPH': 2, 'DLP': 2, 'KGF': 2, 'RGB': 4, 'PRKE': 2, 'SSKA': 2, 'GTF': 3, 'JRJ': 3, 'KD': 3, 'MCV': 3, 'KZS': 2, 'SPGL': 2, 'ARP': 2, 'BHDR': 2, 'ARKA': 2, 'IDS': 2, 'MNJR': 2, 'BRRZ': 2, 'BYQ': 2, 'NHF': 2, 'BSWA': 2, 'IDM': 2, 'KULH': 2, 'TKRP': 2, 'BAHP': 2, 'ACH': 2, 'KURO': 2, 'THW': 2, 'BYHA': 2, 'JUA': 2, 'BSY': 2, 'VNN': 2, 'WRGN': 2, 'SPPR': 2, 'SAF': 2, 'KJTW': 2, 'BHBV': 2, 'TLMD': 2, 'MGWN': 2, 'MNKN': 2, 'TLGR': 2, 'JFG': 2, 'KTHE': 2, 'ULN': 2, 'DRG': 2, 'CNBI': 2, 'CHK': 2, 'RXM': 2, 'PMPR': 2, 'KBN': 2, 'KSQ': 2, 'MWH': 2, 'KKS': 2, 'DYP': 3, 'RCP': 2, 'MDA': 2, 'CBR': 2, 'UTP': 2, 'DUO': 2, 'BKTS': 2, 'GWP': 2, 'MNMU': 2, 'KJNC': 2, 'JPP': 2, 'JDA': 2, 'KHDP': 2, 'MLKP': 2, 'KDJ': 2, 'SGRP': 2, 'YAG': 2, 'AKW': 2, 'IGTA': 2, 'DPSR': 2, 'DXU': 2, 'SIRA': 2, 'SRJK': 2, 'UBN': 2, 'RDV': 2, 'SLRP': 2, 'DELO': 2, 'BNM': 2, 'GMU': 2, 'RZN': 2, 'SYK': 2, 'RES': 2, 'TRE': 2, 'BRYC': 2, 'HRH': 2, 'AWP': 2, 'MTB': 2, 'MWE': 2, 'CAJ': 2, 'HBW': 2, 'PNI': 2, 'BEK': 2, 'MSDR': 2, 'FZL': 2, 'DSNI': 2, 'LDR': 2, 'DNRA': 2, 'IQB': 2, 'CDL': 3, 'SNKE': 2, 'BAE': 3, 'PRPM': 2, 'DHRJ': 2, 'SHJP': 2, 'LOT': 2, 'NBP': 2, 'SWS': 2, 'PHV': 2, 'BKSA': 2, 'SVZ': 2, 'MWP': 2, 'BDIN': 2, 'PKX': 2, 'UWNR': 2, 'SRMN': 2, 'CRQ': 2, 'NON': 2, 'HSB': 2, 'GAHT': 2, 'MANI': 2, 'BRIH': 2, 'SJV': 2, 'BMHT': 2, 'KADH': 2, 'BDKN': 2, 'AHZ': 2, 'WGJ': 2, 'SYW': 2, 'CHBS': 2, 'TEG': 2, 'CDRL': 2, 'RMNR': 2, 'APG': 2, 'BKKS': 2, 'LBH': 2, 'DAZ': 2, 'KHKN': 2, 'HUK': 3, 'HNN': 2, 'SLKN': 3, 'RUG': 2, 'BDMJ': 2, 'DWNA': 2, 'BBDE': 2, 'KFU': 2, 'BZJT': 2, 'BZK': 2, 'AMIN': 2, 'DHKR': 2, 'DPP': 2, 'DHMZ': 2, 'MOY': 2, 'LLU': 2, 'GHG': 2, 'NGL': 2, 'THJ': 2, 'RNA': 3, 'BMHR': 2, 'JDW': 2, 'MSP': 3, 'SKF': 2, 'PQY': 2, 'PRTP': 2, 'MUZ': 2, 'DXH': 2, 'FRD': 2, 'GAJU': 2, 'ASI': 2, 'ATW': 2, 'BEJ': 2, 'NM': 2, 'GHRI': 2, 'MSTH': 2, 'BRMX': 2, 'RAK': 2, 'STRK': 2, 'SDAM': 2, 'PPE': 3, 'SYU': 4, 'RAMR': 2, 'PSN': 2, 'TKUR': 2, 'SKLP': 2, 'BBPR': 2, 'MGPA': 2, 'GSGJ': 2, 'ATKS': 2, 'GNTR': 2, 'MAH': 2, 'FRH': 2, 'MLW': 2, 'GJMB': 2, 'BGMU': 2, 'FTC': 2, 'UGU': 2, 'SFPR': 2, 'BRDV': 2, 'METR': 2, 'MKHI': 2, 'PTYR': 2, 'HMP': 2, 'NERI': 2, 'JKH': 2, 'SXK': 2, 'SHRM': 2, 'MZGI': 2, 'HGJ': 3, 'SUNM': 2, 'GDHA': 2, 'AUR': 4, 'DMPR': 2, 'DIB': 3, 'BHKL': 2, 'DN': 3, 'PHX': 2, 'MJHL': 2, 'BHDH': 2, 'RMGJ': 2, 'DWJ': 2, 'CHBR': 2, 'BTKD': 2, 'MSOD': 2, 'SEPR': 2, 'CLKN': 2, 'BKNA': 2, 'BGRR': 2, 'SISN': 3, 'ARH': 2, 'KJLU': 2, 'SXQ': 3, 'JHH': 2, 'SHTS': 5, 'SRMP': 2, 'HZN': 2, 'SPB': 2, 'MOM': 2, 'CHWT': 2, 'GLH': 2, 'HZR': 2, 'KALI': 2, 'KXK': 2, 'CXA': 2, 'NRNR': 2, 'MWC': 3, 'CNJ': 2, 'SHGN': 2, 'BW': 2, 'BJRA': 2, 'KPO': 2, 'BUDA': 2, 'GOS': 2, 'DTF': 2, 'TBL': 2, 'PPEA': 2, 'HK': 2, 'NHB': 2, 'IK': 2, 'CIK': 2, 'RAI': 2, 'BCP': 2, 'JAB': 5, 'CHLR': 2, 'KBP': 2, 'ETUE': 2, 'MTI': 3, 'BRN': 3, 'CMR': 2, 'PORA': 2, 'SNS': 2, 'DAQ': 2, 'SRDW': 2, 'UGP': 2, 'NBUE': 2, 'BBLK': 2, 'PKNA': 2, 'MOTA': 2, 'TKRU': 2, 'MPUE': 2, 'TNUE': 2, 'KOZ': 2, 'TKHA': 2, 'AON': 2, 'BUBT': 2, 'MNR': 2, 'HNG': 2, 'SWT': 2, 'SWW': 2, 'JSC': 2, 'KWW': 2, 'AWG': 2, 'JWK': 2, 'ETAH': 1, 'SMU': 2, 'KLI': 3, 'DOC': 2, 'PTE': 2, 'DBN': 3, 'KKRL': 2, 'CTW': 2, 'KLSX': 2, 'ALAL': 2, 'SEQ': 2, 'HYA': 3, 'GUNS': 2, 'JHK': 2, 'LHM': 2, 'BWX': 2, 'BHX': 3, 'FSR': 2, 'PKK': 3, 'BFE': 2, 'BQH': 2, 'PMH': 2, 'GKX': 2, 'SULH': 2, 'DDK': 2, 'SWX': 2, 'LDW': 2, 'PPB': 2, 'GTQ': 2, 'SWG': 2, 'GNZ': 2, 'MLKH': 2, 'SDZ': 2, 'KGKD': 2, 'PH': 2, 'DNX': 3, 'BXC': 3, 'UKN': 4, 'JPS': 5, 'CEU': 2, 'SRX': 2, 'HMR': 3, 'DIW': 2, 'BBKR': 2, 'BTR': 3, 'TRA': 2, 'MOW': 2, 'RPHR': 2, 'CRW': 3, 'BVZ': 2, 'JUP': 4, 'LSE': 3, 'DULP': 2, 'GJW': 3, 'PLT': 2, 'KUDN': 2, 'KNG': 2, 'JNT': 2, 'CHN': 3, 'SOHL': 2, 'JHWR': 2, 'PMQ': 2, 'JK': 2, 'SRM': 2, 'BATM': 2, 'SCPD': 2, 'AWL': 2, 'KKL': 2, 'CGH': 2, 'KZX': 2, 'GSB': 2, 'UCB': 2, 'BNGL': 2, 'GILA': 2, 'KNDI': 2, 'JJJ': 5, 'MGWD': 2, 'SQJ': 2, 'SNB': 2, 'GSR': 2, 'NSS': 2, 'KYY': 2, 'KHHJ': 2, 'BXB': 2, 'MXP': 2, 'BHM': 2, 'KASH': 2, 'MYE': 2, 'JKZ': 3, 'BJKN': 2, 'NAS': 2, 'SCQ': 2, 'BLND': 2, 'DAVJ': 2, 'KWJ': 2, 'HSQ': 2, 'PJA': 3, 'DDY': 2, 'GOD': 3, 'JGW': 2, 'BWF': 2, 'TSS': 2, 'MFM': 3, 'GSW': 2, 'BWB': 3, 'PTRL': 2, 'BMK': 2, 'NAWN': 2, 'DBI': 2, 'AMPR': 2, 'RMH': 3, 'RJS': 2, 'AS': 2, 'MLC': 2, 'NTZ': 2, 'DLC': 2, 'BMNL': 2, 'JDL': 3, 'JMS': 2, 'KNSR': 2, 'UMS': 2, 'PAE': 2, 'SPO': 2, 'CLO': 2, 'SBLJ': 2, 'ALAI': 2, 'BWS': 2, 'KJW': 2, 'DSL': 2, 'MCPE': 2, 'JOM': 2, 'KXG': 2, 'UMED': 2, 'SWF': 2, 'KSW': 2, 'AAS': 2, 'JWL': 2, 'BNO': 3, 'KGBS': 2, 'JTS': 3, 'NLQ': 2, 'KSI': 3, 'SDRA': 2, 'JRL': 3, 'MHU': 4, 'SUI': 2, 'AUN': 2, 'MAYR': 2, 'NKN': 2, 'KBKN': 2, 'MHUL': 2, 'JOK': 2, 'PJK': 4, 'HMK': 4, 'FTH': 4, 'KLWL': 2, 'BKWA': 2, 'KTPK': 2, 'ORKI': 2, 'MOPR': 2, 'SHWL': 2, 'PRSR': 2, 'HSWS': 2, 'KALN': 2, 'SHRG': 2, 'BKKA': 2, 'SURR': 2, 'SJSM': 2, 'PUW': 2, 'FGH': 2, 'DZL': 2, 'CKLA': 2, 'CKA': 2, 'RRW': 2, 'BSGR': 2, 'BDBG': 2, 'CWN': 2, 'JBW': 2, 'WDJ': 2, 'KIQ': 2, 'DODH': 2, 'JTH': 2, 'KRSW': 2, 'JWN': 2, 'DAVC': 2, 'BVW': 2, 'TQL': 2, 'KLSP': 2, 'GLKN': 2, 'BWBN': 2, 'KDHN': 2, 'DKWA': 2, 'HYL': 2, 'DKX': 2, 'SRSL': 2, 'ASLU': 2, 'PYI': 2, 'PSV': 2, 'STNR': 2, 'BGRM': 2, 'BIGA': 2, 'BS': 2, 'BLSR': 2, 'GDW': 2, 'PSL': 3, 'GAL': 2, 'KNAR': 2, 'AIA': 4, 'MJNL': 2, 'RNT': 2, 'MXL': 2, 'NMD': 3, 'LRU': 3, 'COO': 2, 'PDZ': 4, 'DY': 2, 'KEV': 2, 'PNGR': 2, 'SWAR': 2, 'DUM': 2, 'JJA': 2, 'MSRP': 2, 'AUWA': 2, 'BGG': 2, 'BWA': 2, 'KZQ': 2, 'BRLY': 2, 'KTR': 2, 'KVJ': 2, 'BNS': 2, 'BMN': 2, 'KWI': 2, 'MXO': 2, 'MAA': 2, 'SIM': 3, 'SZA': 2, 'IQG': 3, 'JTY': 2, 'CTT': 2, 'KRJD': 2, 'UM': 2, 'DRW': 2, 'KMLI': 2, 'BHU': 2, 'JDN': 2, 'UMN': 2, 'DNW': 2, 'JUL': 3, 'CLDB': 2, 'EN': 2, 'PN': 2, 'DRS': 2, 'BQN': 2, 'CNL': 2, 'GRI': 2, 'BAR': 2, 'APA': 2, 'BNGM': 2, 'PPF': 3, 'KRW': 2, 'MLI': 2, 'MKRA': 2, 'SDH': 2, 'DOZ': 2, 'LR': 2, 'GEK': 2, 'GLTA': 2, 'SALI': 2, 'SK': 2, 'DTRA': 2, 'DHND': 2, 'BOBS': 3, 'SHNX': 4, 'DNK': 4, 'SUT': 2, 'DUK': 2, 'DOR': 2, 'MNKB': 2, 'AJIT': 2, 'PRU': 2, 'JNE': 2, 'KHTX': 2, 'TWL': 2, 'GOLE': 2, 'BMQ': 2, 'BSDA': 2, 'KVA': 2, 'THM': 2, 'JCH': 2, 'OCH': 2, 'MKHR': 2, 'MBT': 2, 'STSN': 2, 'SRK': 2, 'BKC': 2, 'MMC': 2, 'JUCT': 2, 'PCY': 2, 'SILR': 2, 'BCW': 2, 'BARA': 1, 'JSA': 2, 'BBC': 2, 'RMX': 2, 'GGY': 2, 'GDD': 2, 'JSD': 2, 'CRV': 2, 'ORW': 2, 'GOVR': 2, 'PATI': 2, 'BNGY': 3, 'LKNR': 2, 'RMBG': 2, 'DGBH': 2, 'AABH': 2, 'PPDA': 2, 'TKVR': 2, 'KPS': 2, 'MHRN': 2, 'PCK': 2, 'SVC': 2, 'ALS': 3, 'HTW': 3, 'NKBR': 2, 'SSU': 2, 'SPYA': 2, 'JGP': 2, 'TPV': 2, 'TRJ': 2, 'GSRM': 2, 'CHAF': 2, 'KKT': 2, 'BAGJ': 2, 'LIJ': 2, 'MTBG': 2, 'BBW': 3, 'UNLA': 2, 'KYW': 2, 'NNPR': 2, 'AHLR': 2, 'BALR': 2, 'RVG': 2, 'BKLA': 2, 'DCP': 2, 'CATA': 2, 'SVI': 2, 'TJD': 2, 'DDD': 2, 'SBK': 2, 'GZT': 2, 'AKS': 2, 'SAHR': 2, 'BSCK': 2, 'TRN': 2, 'SYH': 2, 'RJI': 2, 'KDQ': 2, 'JGKS': 2, 'SNRA': 2, 'RJMP': 2, 'HLP': 2, 'RD': 2, 'TUR': 2, 'KHI': 2, 'BNPT': 2, 'BTHL': 2, 'GWH': 2, 'JLHI': 2, 'MOTG': 2, 'BRCK': 2, 'CAMU': 2, 'KPB': 2, 'AWS': 2, 'VKNR': 3, 'GRRG': 2, 'KSNR': 2, 'MUUA': 2, 'JEA': 2, 'JKI': 2, 'RJ': 2, 'MVKR': 2, 'RCRA': 2, 'LPW': 2, 'LER': 2, 'AHU': 2, 'CIH': 3, 'MHBZ': 2, 'PRZ': 4, 'MHBG': 2, 'TPB': 2, 'GIR': 3, 'LBW': 2, 'LHNR': 2, 'KPE': 3, 'GAW': 2, 'BWP': 2, 'ITE': 2, 'SUBR': 2, 'GDK': 3, 'KTHL': 2, 'MIR': 4, 'KSR': 2, 'SUJ': 3, 'GHT': 3, 'CKG': 2, 'BUR': 2, 'RFR': 2, 'JBR': 2, 'DAL': 2, 'ASH': 2, 'MSHW': 2, 'RSWN': 2, 'PJPT': 2, 'LVR': 2, 'PDPR': 2, 'JLT': 2, 'BHGP': 2, 'NIT': 2, 'BRSA': 2, 'BRTA': 2, 'POKL': 2, 'DRBR': 2, 'STZ': 2, 'SSGR': 2, 'BHJ': 1, 'TTI': 2, 'GOX': 2, 'CKYD': 2, 'PNRA': 2, 'PPH': 4, 'NAKD': 2, 'HMPR': 2, 'HDT': 2, 'RTB': 2, 'BRWH': 2, 'NTU': 2, 'KWH': 2, 'KFK': 2, 'AHM': 2, 'ALMW': 2, 'SJGH': 2, 'JGG': 2, 'ATRR': 2, 'BYH': 2, 'SDC': 2, 'RTR': 2, 'DRGJ': 2, 'SDHA': 2, 'PLGH': 2, 'RKS': 2, 'PHY': 2, 'SJER': 2, 'DJD': 2, 'KHJA': 2, 'FRDH': 2, 'DDNA': 2, 'GNGL': 2, 'YDV': 2, 'MGZ': 1, 'GOPG': 2, 'MJV': 2, 'RTU': 2, 'SHER': 2, 'SQW': 2, 'BKRH': 2, 'TKND': 2, 'DWDI': 2, 'KTLP': 2, 'APRH': 2, 'RPV': 2, 'MHC': 2, 'GNDM': 2, 'PKRH': 2, 'SMKR': 2, 'AGTR': 2, 'TERH': 2, 'MEW': 2, 'SLHI': 2, 'TJW': 2, 'PEE': 2, 'BURA': 2, 'BMPT': 2, 'KYH': 2, 'TMUR': 2, 'HRNG': 2, 'JDR': 4, 'MCO': 2, 'SRA': 2, 'MHL': 2, 'NRV': 2, 'PPRH': 3, 'KTI': 3, 'KVC': 2, 'KPCM': 2, 'BGAR': 2, 'BKHR': 2, 'KHQ': 2, 'GAI': 2, 'CDBN': 2, 'LAK': 2, 'TIL': 7, 'BRKB': 2, 'BEHT': 2, 'VBH': 2, 'MPNH': 2, 'NNNL': 2, 'BDUA': 2, 'SDG': 2, 'GKHT': 2, 'CSR': 2, 'CKRD': 2, 'HBP': 2, 'CHRU': 2, 'KEMR': 2, 'JLQ': 2, 'ALJ': 3, 'SKX': 2, 'BRDT': 2, 'GWS': 3, 'PRM': 2, 'PAQ': 2, 'SEW': 2, 'GOT': 2, 'HSY': 2, 'SHX': 2, 'BHTS': 2, 'KXF': 2, 'NHX': 2, 'GRAK': 2, 'BHK': 2, 'MHA': 3, 'AUL': 2, 'BTRO': 2, 'RKN': 2, 'HTJ': 4, 'MEU': 2, 'MSN': 2, 'SYZ': 2, 'RAYA': 2, 'BSA': 2, 'PRK': 2, 'KHSN': 2, 'AMA': 2, 'DRN': 2, 'RR': 2, 'KJC': 2, 'GGG': 2, 'MPG': 2, 'KCO': 2, 'KCU': 4, 'BTRI': 2, 'SKW': 2, 'MQW': 2, 'GTP': 2, 'KRTL': 2, 'MQP': 4, 'BMY': 2, 'DBNR': 2, 'STH': 3, 'BJV': 2, 'SSC': 3, 'LUA': 2, 'NRY': 2, 'MJZ': 1, 'ADF': 2, 'MANG': 2, 'DOTL': 2, 'DLPH': 2, 'MLNH': 2, 'RMPB': 2, 'MKRH': 2, 'APDC': 2, 'BSW': 2, 'COB': 2, 'DWT': 2, 'VTG': 2, 'DCH': 2, 'DHH': 4, 'FLM': 2, 'NGTG': 2, 'ABW': 2, 'BXT': 3, 'GLMA': 2, 'SVQ': 2, 'BRQ': 2, 'DDM': 2, 'CRX': 2, 'MJE': 2, 'GRU': 2, 'MGPI': 2, 'SPRN': 2, 'FNO': 2, 'OLP': 3, 'PRGA': 2, 'IMLI': 3, 'DSKG': 2, 'BAPN': 2, 'NWC': 4, 'MABB': 2, 'NRN': 2, 'ARG': 2, 'BGDS': 2, 'SANH': 2, 'LB': 2, 'SRKR': 2, 'PLWR': 2, 'BHBR': 1, 'KTNR': 2, 'SRSI': 2, 'BDMA': 2, 'MEE': 2, 'BYP': 4, 'KKNH': 2, 'BIRL': 3, 'PHI': 2, 'PNB': 4, 'TTLA': 2, 'KKET': 4, 'AJRE': 2, 'SNBR': 2, 'DML': 4, 'TGE': 2, 'LPN': 2, 'DHRY': 2, 'HWX': 2, 'PKB': 2, 'RAHA': 3, 'PUY': 2, 'BEE': 2, 'HBN': 5, 'RUP': 2, 'TRBE': 2, 'JRX': 2, 'DGX': 2, 'BKS': 2, 'BTDR': 2, 'DBZ': 2, 'DIU': 2, 'MBO': 1, 'MYD': 2, 'HTL': 2, 'DBLG': 2, 'LGT': 2, 'DKE': 2, 'MUPA': 2, 'KQI': 2, 'WDA': 2, 'DJA': 2, 'PDJ': 2, 'MGE': 2, 'JGLP': 2, 'DTC': 2, 'BXK': 2, 'DCA': 2, 'CNE': 2, 'BHZ': 2, 'HLX': 2, 'SQF': 2, 'PNGM': 2, 'SCA': 2, 'ARCL': 3, 'MSSN': 1, 'LGI': 2, 'CGX': 2, 'BXG': 2, 'RPB': 2, 'JGNR': 2, 'JRNA': 2, 'TLMR': 2, 'MGKM': 2, 'JWNR': 2, 'SKAP': 2, 'MANU': 2, 'NLKT': 2, 'KUGT': 2, 'PEC': 2, 'PASG': 2, 'NPU': 2, 'CBZ': 2, 'TBX': 2, 'CHBN': 2, 'KKGT': 2, 'PTKD': 2, 'KNBR': 2, 'BRGM': 4, 'KTGM': 2, 'NLBR': 2, 'SAKD': 2, 'NSCL': 2, 'MRBD': 2, 'RNGN': 2, 'SIBR': 2, 'KMNG': 2, 'JIGT': 2, 'JRBM': 2, 'VNGP': 1, 'ALGP': 2, 'HKD': 2, 'MNCR': 2, 'LLBR': 2, 'MPRA': 2, 'KLCR': 2, 'MOAR': 2, 'JMRA': 2, 'RTRA': 2, 'BHRB': 1, 'UDPU': 1, 'BHRM': 2, 'BLGH': 2, 'SKKE': 2, 'DLCR': 1, 'APU': 2, 'RTBR': 2, 'BZGT': 2, 'PKGM': 2, 'ELL': 2, 'MBC': 2, 'KMRJ': 2, 'SRPU': 2, 'MFZ': 2, 'MQG': 2, 'DVJ': 2, 'PQD': 2, 'SAJH': 2, 'KUQ': 2, 'MIYN': 2, 'MLFC': 3, 'DLX': 2, 'BJY': 2, 'BMGR': 2, 'JTK': 2, 'KAU': 2, 'DHNA': 2, 'MFA': 3, 'BWPB': 2, 'KMPH': 2, 'BAHN': 2, 'SQB': 1, 'BBCE': 2, 'SJGM': 2, 'AHL': 2, 'SJKL': 2, 'HWR': 3, 'THED': 2, 'GIL': 2, 'GEOR': 2, 'MXJ': 2, 'TMH': 2, 'DMZ': 2, 'CAT': 2, 'NJB': 2, 'RNI': 2, 'NQH': 2, 'BYXA': 2, 'ATM': 2, 'KLGR': 2, 'SXX': 2, 'GUZ': 2, 'SJRR': 2, 'PQZ': 2, 'NBS': 2, 'SMTA': 3, 'SRPB': 2, 'CPQ': 2, 'PTLD': 2, 'GOE': 2, 'BKTB': 2, 'TKTB': 2, 'CHOD': 2, 'GAMN': 2, 'BHNG': 1, 'NYT': 2, 'DNQ': 2, 'GRR': 2, 'BHNP': 2, 'JAU': 2, 'MENP': 2, 'DLF': 2, 'RWA': 2, 'RNX': 2, 'KUB': 2, 'GBN': 2, 'JAG': 3, 'KSY': 3, 'ARR': 3, 'SMH': 4, 'BTF': 2, 'DLZ': 2, 'GPE': 2, 'HOD': 2, 'SATR': 2, 'MOP': 2, 'KDX': 2, 'MDG': 2, 'KSBI': 2, 'GSA': 2, 'NSRH': 2, 'BIZ': 2, 'AGT': 2, 'MZQ': 2, 'AYU': 3, 'PNVT': 2, 'KRNI': 2, 'DDNI': 5, 'AMGA': 2, 'RGJI': 2, 'DPRA': 2, 'SNCA': 2, 'BOKO': 2, 'BMGN': 3, 'CGON': 3, 'MRZA': 2, 'AZA': 3, 'MNDP': 1, 'NOLB': 2, 'LCT': 2, 'NLN': 2, 'DLDE': 2, 'RXR': 2, 'RXRX': 2, 'KHKT': 2, 'CJA': 2, 'BHGN': 2, 'JMI': 2, 'OTN': 2, 'CFG': 2, 'KQY': 2, 'LH': 2, 'SLX': 2, 'MZA': 2, 'NZR': 2, 'MUGN': 2, 'LPTA': 2, 'BRNR': 2, 'BTZ': 2, 'BDT': 2, 'CGF': 2, 'DSX': 2, 'KRHT': 2, 'MHKT': 2, 'SEPN': 2, 'MOX': 2, 'KOWN': 2, 'LPK': 2, 'SVUR': 2, 'MDVE': 2, 'VT': 2, 'POI': 3, 'VKZ': 2, 'VGA': 3, 'TDK': 3, 'PUDI': 3, 'MRM': 2, 'BLPE': 2, 'SF': 2, 'ANE': 2, 'RPL': 2, 'HAQ': 2, 'MMPL': 2, 'VNM': 2, 'BKPT': 2, 'KNLP': 2, 'SVF': 2, 'MLPM': 2, 'MNX': 2, 'POM': 2, 'NNM': 3, 'KU': 3, 'TMU': 2, 'KDE': 3, 'KCHV': 2, 'AWT': 2, 'TTQ': 2, 'PCO': 2, 'MTL': 3, 'VVN': 5, 'MYP': 2, 'VRA': 2, 'OV': 3, 'KGZ': 2, 'TZD': 2, 'OLA': 3, 'PEI': 2, 'CV': 2, 'ANU': 2, 'MVPM': 2, 'DC': 2, 'VRPD': 2, 'MCRD': 2, 'MTDM': 1, 'MALR': 2, 'PCTM': 2, 'KLGN': 3, 'VNGL': 2, 'TPE': 2, 'MTNL': 3, 'MKY': 2, 'JPM': 3, 'EL': 2, 'PGN': 2, 'MUQ': 2, 'TIC': 2, 'LP': 3, 'SEV': 2, 'MYU': 2, 'VRQ': 2, 'PAS': 3, 'CVD': 2, 'KEY': 2, 'KNNT': 2, 'DST': 2, 'DPI': 2, 'TNGR': 2, 'LCR': 2, 'DSPT': 2, 'TNT': 2, 'KPPR': 2, 'MY': 2, 'NPT': 2, 'TDR': 2, 'TRM': 2, 'DSM': 2, 'SWI': 2, 'SPL': 2, 'PDV': 2, 'AZP': 2, 'PVL': 2, 'TT': 2, 'ALK': 2, 'AYN': 2, 'SGM': 4, 'TOM': 2, 'MCJ': 2, 'ONR': 2, 'WEL': 2, 'AVK': 2, 'KXT': 2, 'LOV': 2, 'UAM': 1, 'KAY': 2, 'CMNR': 4, 'BDGP': 2, 'KRNU': 2, 'KVE': 2, 'NBU': 2, 'CGHD': 2, 'NTW': 4, 'SJPM': 2, 'TXM': 2, 'KDO': 3, 'AP': 2, 'CMJ': 2, 'SDVL': 3, 'SOLR': 2, 'TASA': 2, 'SIDP': 2, 'ACCI': 2, 'DSVS': 2, 'SIGA': 2, 'MVC': 2, 'ANC': 2, 'SRVN': 2, 'BRBL': 2, 'AKK': 4, 'HAH': 3, 'ARNH': 2, 'HPA': 2, 'DOY': 2, 'STE': 4, 'KLYH': 2, 'KJS': 2, 'BLGA': 3, 'KCLA': 2, 'ARU': 2, 'SPV': 2, 'KRNH': 2, 'MSS': 2, 'SMDT': 2, 'KVLR': 2, 'TPP': 2, 'MPC': 2, 'SZV': 2, 'MZU': 2, 'RYC': 2, 'PRNT': 2, 'KMLM': 2, 'LTI': 2, 'KVN': 2, 'PCKM': 2, 'VGM': 2, 'KDY': 2, 'BSM': 3, 'VRDP': 2, 'MZV': 2, 'HHT': 2, 'BGPA': 2, 'SHYP': 2, 'CMGR': 5, 'CHPD': 2, 'KVTA': 2, 'TZH': 3, 'PNPR': 2, 'TMPY': 2, 'KAVR': 2, 'TRVZ': 2, 'VAY': 2, 'EZP': 2, 'AROR': 2, 'KUMM': 3, 'VRLR': 2, 'AMVA': 2, 'BRAM': 3, 'NEM': 2, 'VELI': 2, 'KXP': 2, 'PGZ': 2, 'AMY': 2, 'EVA': 2, 'KFI': 2, 'IRP': 2, 'CGV': 2, 'THX': 2, 'SGLM': 2, 'MP': 3, 'TAY': 4, 'EDU': 2, 'PALM': 2, 'VEI': 2, 'SNO': 4, 'SHI': 2, 'SUU': 2, 'VNJ': 2, 'VZ': 2, 'IGR': 2, 'PY': 2, 'TPM': 2, 'NRK': 4, 'GDN': 2, 'MDKI': 2, 'ETMD': 3, 'WRA': 2, 'KJKD': 2, 'PLL': 2, 'MNY': 2, 'LDY': 2, 'PLPM': 3, 'MNUR': 3, 'PUM': 4, 'KUL': 2, 'NAU': 2, 'MUKE': 2, 'CQL': 2, 'PPNS': 2, 'KLAD': 2, 'KIF': 2, 'KFV': 2, 'CTPE': 2, 'EDN': 3, 'VTK': 3, 'MUC': 2, 'MGK': 2, 'OLR': 2, 'NYI': 2, 'KRAN': 3, 'KUC': 2, 'CWR': 2, 'KLMR': 2, 'VDKS': 2, 'KZC': 2, 'TDPM': 2, 'KFE': 2, 'KPTM': 2, 'KDTY': 2, 'KFQ': 2, 'NLPD': 3, 'PRCA': 2, 'PPM': 3, 'NDPU': 2, 'STUR': 3, 'MUK': 2, 'SAB': 3, 'VLE': 2, 'SYM': 4, 'CEM': 2, 'GKM': 2, 'POO': 2, 'GJJ': 2, 'JBK': 2, 'SDV': 3, 'GMA': 3, 'KSTE': 2, 'CMZ': 2, 'GZL': 3, 'PNM': 3, 'KEF': 2, 'RGM': 2, 'MLK': 2, 'MYL': 2, 'LMD': 2, 'EDD': 2, 'TGL': 2, 'MLGT': 2, 'BLL': 3, 'BNL': 4, 'VP': 3, 'HGI': 3, 'HDD': 2, 'CSDR': 2, 'RNN': 2, 'ORH': 2, 'MKL': 2, 'TDV': 2, 'SMWA': 2, 'VWA': 2, 'DPE': 2, 'MLU': 2, 'CPL': 3, 'NRYP': 2, 'KTCR': 2, 'BSPL': 2, 'CCA': 2, 'ZPL': 2, 'PSPY': 2, 'TAC': 2, 'GDE': 2, 'PMD': 2, 'RRJ': 2, 'TKPY': 2, 'PLU': 2, 'NKDO': 2, 'TIM': 2, 'NID': 2, 'ANP': 2, 'CLN': 2, 'VMP': 2, 'KJPD': 2, 'VLU': 2, 'NVL': 2, 'UMG': 2, 'MKSP': 2, 'KKTI': 2, 'PRV': 2, 'SRVT': 2, 'MLYR': 2, 'TVS': 2, 'PDKM': 2, 'MPLI': 2, 'SAMT': 2, 'PO': 4, 'HLV': 2, 'BTGH': 2, 'AMC': 4, 'CKVD': 2, 'PEU': 2, 'KODN': 2, 'KRKD': 2, 'CS': 2, 'ETK': 2, 'DMD': 2, 'JGE': 2, 'IGL': 2, 'TKT': 2, 'VEK': 2, 'CMC': 2, 'ETR': 2, 'WH': 2, 'VLL': 2, 'TOK': 2, 'NAND': 2, 'INJ': 2, 'SEN': 2, 'SHMI': 2, 'CTTP': 2, 'MANK': 2, 'HAA': 2, 'AT': 2, 'LOL': 2, 'BLLI': 2, 'NRF': 2, 'BAJE': 2, 'KDBA': 2, 'KNYR': 2, 'NRJ': 2, 'CDRA': 2, 'TKOT': 3, 'NTVT': 2, 'PUG': 2, 'KLS': 4, 'SMDM': 2, 'CII': 2, 'VPJ': 4, 'KFC': 2, 'AYR': 4, 'VDM': 2, 'TMP': 2, 'KDMD': 2, 'TVNL': 2, 'PRKL': 2, 'ULU': 2, 'MPLY': 2, 'PVN': 2, 'VRT': 2, 'TLNR': 2, 'ICG': 2, 'MTUR': 2, 'SNDI': 2, 'VER': 2, 'OTK': 2, 'SLTH': 2, 'KLGM': 2, 'PMB': 2, 'VLDE': 3, 'BXS': 2, 'UKV': 2, 'VDP': 2, 'SER': 2, 'VXM': 2, 'APE': 2, 'SKK': 2, 'KVL': 3, 'KYV': 2, 'AMT': 2, 'SMM': 4, 'KXO': 2, 'MAV': 2, 'MES': 2, 'ILA': 2, 'TVN': 2, 'TPC': 2, 'RAGM': 2, 'SUX': 2, 'SQD': 2, 'VTV': 2, 'UCP': 2, 'MC': 2, 'KGD': 2, 'TIP': 3, 'VDK': 2, 'ANM': 2, 'KYZ': 2, 'PCM': 2, 'MTE': 2, 'KKY': 2, 'RVS': 2, 'AZK': 2, 'KIB': 2, 'ASD': 2, 'KIC': 2, 'VVR': 2, 'KARK': 2, 'SMD': 2, 'PEA': 2, 'TYT': 2, 'BJM': 3, 'TY': 2, 'KRMG': 2, 'KRUR': 2, 'VEL': 2, 'NMN': 2, 'TYM': 3, 'KTYR': 2, 'PNGI': 2, 'SXR': 2, 'TUY': 2, 'MBU': 2, 'NPM': 2, 'VKP': 2, 'CQS': 2, 'ALP': 2, 'PUC': 2, 'KII': 2, 'KNB': 2, 'KMM': 2, 'AGM': 2, 'TJM': 2, 'TNI': 2, 'MMP': 3, 'VKM': 2, 'AYD': 2, 'MUY': 2, 'MCL': 2, 'BUM': 2, 'RAM': 2, 'PYX': 2, 'SIE': 2, 'PTT': 2, 'PAM': 4, 'KEN': 4, 'CGI': 4, 'TPW': 2, 'TKWD': 3, '142': 2, '214': 2, 'BAHI': 2, 'THKU': 2, 'BOMN': 2, 'RDG': 4, 'SLM': 2, 'OBM': 2, 'KM': 2, 'CNR': 3, 'SJDA': 2, 'SKVL': 3, 'DBM': 2, 'CSM': 2, 'GUU': 2, 'TAA': 2, 'INK': 2, 'YGL': 2, 'CLE': 3, 'KZJF': 2, 'KTK': 2, 'CHRG': 2, 'PDNR': 2, 'SLGE': 2, 'AHD': 5, 'TLT': 4, 'NGS': 2, 'BOT': 2, 'KUI': 3, 'GDGN': 2, 'HHD': 2, 'SVG': 4, 'BBD': 2, 'HQR': 2, 'MR': 2, 'SUH': 2, 'MVH': 2, 'RMY': 2, 'DRR': 3, 'MWY': 2, 'GDQ': 3, 'CTF': 2, 'GGD': 2, 'RPK': 2, 'NPL': 2, 'LGDH': 3, 'DYE': 2, 'SFX': 2, 'RKO': 2, 'AMQ': 2, 'CVB': 4, 'ALW': 2, 'BOZ': 2, 'SPHL': 2, 'TGDE': 3, 'LGRE': 3, 'CGTA': 2, 'YDLP': 2, 'CK': 2, 'YS': 2, 'MBD': 2, 'GWM': 3, 'PAVP': 2, 'TOU': 3, 'VRVL': 2, 'VAT': 2, 'DEL': 3, 'STPT': 2, 'PUA': 3, 'KKRM': 2, 'CEL': 4, 'VGT': 3, 'BPY': 3, 'NBM': 3, 'MRPL': 2, 'BMGM': 2, 'CU': 3, 'PSDA': 2, 'KSVM': 2, 'BBPM': 2, 'PBD': 2, 'GDPT': 2, 'DGDG': 2, 'RVD': 4, 'TMPM': 2, 'HVM': 3, 'GLU': 2, 'REG': 2, 'BVM': 2, 'KSK': 3, 'THY': 2, 'MIPM': 3, 'PCU': 5, 'UNDI': 3, 'VND': 4, 'KLDI': 3, 'PPY': 3, 'MLMG': 2, 'PNDP': 2, 'CKN': 4, 'NVC': 2, 'MTMI': 2, 'TNGM': 2, 'GNN': 3, 'CVV': 3, 'NWBV': 2, 'PEL': 2, 'DVR': 2, 'PYA': 2, 'ODUR': 2, 'TMC': 3, 'KJJ': 3, 'PGU': 2, 'NLS': 2, 'VKT': 3, 'MBL': 2, 'SVPM': 2, 'TTU': 2, 'UPD': 3, 'SDM': 2, 'KRV': 2, 'RPRL': 2, 'UGD': 2, 'KVDU': 2, 'KPLL': 2, 'JAQ': 2, 'IPPM': 2, 'SPF': 3, 'APL': 3, 'MCVM': 2, 'MDKU': 2, 'KLX': 2, 'CLVR': 2, 'KAQ': 2, 'YPD': 3, 'YLK': 2, 'NDZ': 2, 'KQA': 2, 'AXR': 2, 'LKDU': 3, 'SGKM': 3, 'SCMN': 2, 'PDT': 3, 'KPL': 2, 'ALM': 2, 'KUK': 2, 'GRBL': 3, 'KMX': 2, 'DNV': 2, 'SNM': 2, 'NSX': 2, 'GMDA': 2, 'KNRT': 2, 'JMPT': 3, 'TKBN': 2, 'JKO': 2, 'VML': 2, 'JUR': 2, 'KMQA': 2, 'CLPE': 2, 'VRN': 2, 'RLL': 2, 'MUM': 2, 'KMH': 2, 'YGD': 2, 'GPY': 2, 'KPU': 2, 'NSVP': 2, 'KOTT': 3, 'BRGL': 2, 'BABR': 4, 'RRGA': 3, 'RJAP': 2, 'GLY': 4, 'DTP': 3, 'YNG': 3, 'MHBT': 3, 'MQN': 4, 'KTKA': 2, 'DKC': 5, 'KQQ': 4, 'KXI': 2, 'KONN': 2, 'AJK': 2, 'ARPL': 2, 'PDO': 2, 'PDNA': 2, 'IKI': 2, 'MOA': 2, 'ALPR': 2, 'VDI': 4, 'GDPL': 3, 'MDPD': 2, 'LIN': 2, 'GPDE': 2, 'REM': 2, 'BMKD': 2, 'TMLU': 2, 'GZA': 2, 'RCA': 2, 'MCLA': 3, 'DKUR': 2, 'KOLA': 2, 'DUU': 3, 'UKD': 2, 'BVO': 2, 'YADA': 2, 'RCG': 2, 'SJL': 3, 'MDUN': 2, 'RMV': 4, 'NDM': 2, 'UPL': 6, 'TNRU': 2, 'IDP': 5, 'VPG': 2, 'DPD': 4, 'OTR': 3, 'MVP': 2, 'PLVA': 2, 'MNPT': 2, 'TCNR': 2, 'DBV': 3, 'KUCH': 2, 'MOB': 10, 'PAPM': 2, 'BMPL': 3, 'ME': 4, 'SHAN': 4, 'SNKG': 2, 'SNPH': 2, 'BKU': 3, 'THPR': 3, 'UPW': 2, 'SCP': 4, 'IDL': 2, 'DHP': 2, 'YDP': 2, 'SKNR': 2, 'BDHN': 3, 'TMD': 2, 'DCU': 3, 'VLV': 2, 'MPT': 2, 'PCL': 3, 'VLD': 2, 'KBA': 2, 'TAT': 3, 'BTM': 2, 'TKU': 3, 'NCE': 2, 'NCU': 3, 'KCM': 3, 'MVA': 2, 'RLX': 2, 'CCI': 3, 'KDT': 2, 'VPL': 2, 'GPU': 2, 'HNMN': 2, 'SVW': 2, 'BSQ': 2, 'LHD': 2, 'AMW': 2, 'JUK': 2, 'KXX': 2, 'KKG': 2, 'PGG': 2, 'KNRG': 2, 'MLSU': 2, 'NVLN': 2, 'DNE': 2, 'KNJJ': 2, 'NDPR': 2, 'BLC': 2, 'PNSD': 2, 'SIF': 2, 'JUNX': 2, 'CWI': 2, 'PPLC': 2, 'MRV': 2, 'SSPD': 2, 'MRF': 2, 'MTV': 2, 'CHTT': 2, 'KHNP': 3, 'HBU': 3, 'KCP': 2, 'KTKR': 2, 'HER': 2, 'AMBR': 3, 'NGHW': 2, 'CKX': 3, 'JMBL': 2, 'BMBE': 2, 'TBU': 2, 'DVN': 2, 'PRWA': 2, 'JLG': 2, 'KDBR': 2, 'JXN': 2, 'MHMB': 2, 'DHNR': 2, 'MDPJ': 2, 'ABX': 2, 'KSAE': 2, 'TLMG': 2, 'UMM': 2, 'MTDI': 2, 'WP': 2, 'GLE': 2, 'PGP': 2, 'AWM': 2, 'MRC': 2, 'EGU': 2, 'ESV': 2, 'ASP': 2, 'MGV': 2, 'NMLU': 2, 'NLA': 2, 'VLG': 2, 'SRMR': 2, 'TPPI': 2, 'PDGL': 2, 'AKU': 2, 'ZPI': 2, 'PUMU': 2, 'NGRD': 2, 'KHF': 3, 'PNPN': 2, 'BNBR': 3, 'SZZ': 2, 'RNTL': 2, 'BUDR': 2, 'KPLD': 2, 'KED': 2, 'MZZ': 4, 'DLPT': 2, 'BRMI': 2, 'JEN': 2, 'NGMP': 2, 'HDS': 2, 'BRTG': 2, 'BYY': 2, 'SJDR': 2, 'SQQ': 3, 'CBT': 2, 'BDPG': 2, 'GJTA': 2, 'MZY': 3, 'RQP': 3, 'GHNH': 4, 'SPSR': 2, 'LGTR': 3, 'RTN': 2, 'HPGM': 2, 'MWQ': 2, 'JPRD': 2, 'BRST': 2, 'JKDP': 2, 'MLT': 2, 'SRJM': 2, 'IBL': 4, 'MYX': 2, 'GRB': 3, 'BGA': 2, 'KSU': 2, 'CHRA': 2, 'TAO': 2, 'KTD': 2, 'URMA': 2, 'BRMD': 2, 'NIM': 2, 'MIK': 2, 'KZU': 2, 'MMV': 2, 'SNKR': 2, 'RUI': 2, 'SBW': 2, 'TLE': 2, 'JNN': 3, 'ANCR': 2, 'BERO': 2, 'RKI': 2, 'DMA': 2, 'BNB': 2, 'KATB': 2, 'KNM': 2, 'KKPR': 2, 'ASB': 3, 'GVDP': 3, 'BIRP': 2, 'GDBR': 2, 'JHMR': 2, 'HNSL': 2, 'LTMD': 2, 'BKKI': 2, 'ILO': 2, 'BLNG': 2, 'SND': 2, 'HRBR': 2, 'GRE': 2, 'BRKP': 2, 'MAEL': 2, 'GTD': 3, 'CAS': 2, 'BKDR': 2, 'SIPA': 2, 'JNK': 2, 'TABU': 2, 'MLKA': 2, 'PDPH': 2, 'BRBS': 2, 'GUA': 3, 'LPH': 2, 'TUX': 2, 'MXW': 2, 'DRWN': 2, 'PST': 2, 'BUL': 2, 'KCAB': 2, 'SXN': 2, 'SOGR': 2, 'TGM': 2, 'DIH': 2, 'PNPL': 2, 'DTV': 2, 'IB': 3, 'HGR': 2, 'DAO': 2, 'JMG': 2, 'KRL': 2, 'KDTR': 2, 'BEF': 2, 'ROB': 2, 'JDI': 2, 'JDDA': 2, 'SGRD': 2, 'GTW': 2, 'CHBT': 3, 'NPI': 3, 'BKTH': 2, 'MDH': 3, 'WRC': 3, 'KMI': 8, 'GJ': 2, 'KWN': 2, 'MNU': 2, 'KHAT': 2, 'RRL': 2, 'TAR': 2, 'CHCR': 3, 'KNHN': 4, 'KAV': 2, 'SAL': 2, 'DGS': 2, 'DPH': 2, 'SRWN': 2, 'SZB': 3, 'CCAB': 3, 'GCAB': 3, 'DCAB': 3, 'JSGR': 3, 'BXQ': 2, 'LPG': 2, 'SSN': 2, 'SLRA': 3, 'MANE': 2, 'HATB': 2, 'CHAR': 2, 'SRGP': 2, 'HNPA': 2, 'KPJG': 2, 'BDPK': 3, 'NBT': 2, 'HND': 2, 'MHDB': 2, 'SSPR': 2, 'DNDL': 2, 'SCPR': 2, 'JRZ': 2, 'RJGR': 3, 'MACR': 2, 'KTJI': 2, 'GBK': 3, 'PTAB': 2, 'BNBH': 2, 'BRMP': 2, 'KRMD': 2, 'DMF': 2, 'LTK': 2, 'CJQ': 2, 'CPE': 2, 'PSJ': 2, 'BUF': 2, 'BXF': 3, 'BLRG': 2, 'LOM': 2, 'KRRA': 2, 'BKPR': 2, 'PKC': 2, 'KRKR': 2, 'MCZ': 2, 'KNRN': 2, 'TATI': 2, 'PBB': 2, 'BGKA': 3, 'LNKC': 2, 'BKTW': 2, 'KOKA': 2, 'CABN': 2, 'RVH': 2, 'MNDH': 4, 'LAE': 3, 'ANMD': 2, 'BLSN': 2, 'ARN': 2, 'BMKJ': 2, 'KMK': 2, 'LKNA': 2, 'TRKR': 2, 'RNBT': 2, 'KDLR': 2, 'SFK': 2, 'DFR': 2, 'BNRD': 2, 'KHPL': 2, 'GBQ': 2, 'DKLU': 2, 'MTND': 2, 'BDKT': 2, 'BNHR': 2, 'JSRD': 2, 'NIN': 2, 'GNJB': 2, 'BGDI': 2, 'ARGL': 2, 'KPXR': 2, 'DLMH': 2, 'TAP': 2, 'GLBA': 2, 'MKTP': 2, 'SLZ': 2, 'KLJI': 2, 'HMA': 2, 'CAPC': 2, 'JNP': 3, 'NEYT': 2, 'GTA': 2, 'SLRD': 2, 'JPI': 2, 'BAV': 2, 'SUDV': 2, 'RMZ': 2, 'TEK': 3, 'PDSN': 2, 'TMB': 2, 'GVA': 2, 'PHM': 3, 'PLH': 3, 'SPRM': 2, 'HBF': 2, 'KNGR': 4, 'LRI': 2, 'BSDR': 2, 'PLSG': 2, 'KURT': 2, 'BYZA': 2, 'RSKA': 2, 'BORT': 2, 'BORD': 2, 'NYGT': 3, 'MVW': 2, 'LVK': 2, 'SUP': 2, 'BDVR': 2, 'SLPM': 2, 'TXD': 2, 'CMDP': 2, 'BGHU': 2, 'KVLS': 2, 'SMLG': 2, 'GPJ': 2, 'DPC': 2, 'PFU': 2, 'BHJA': 2, 'MKRD': 2, 'PBV': 2, 'SUKU': 2, 'MVF': 2, 'JRT': 2, 'MVG': 2, 'CTS': 2, 'DIR': 2, 'KDPA': 2, 'AGB': 2, 'AGZ': 2, 'NKX': 2, 'KMEZ': 2, 'TPQ': 2, 'BDXX': 2, 'SZY': 2, 'KMSD': 2, 'KWGN': 2, 'DBF': 2, 'GIZ': 2, 'KMLR': 2, 'BHNS': 2, 'LDX': 2, 'GTLM': 2, 'ULM': 2, 'DGB': 2, 'HCM': 2, 'BTVA': 2, 'NML': 2, 'BCB': 2, 'JBO': 2, 'KRKN': 2, 'LYD': 2, 'TSAH': 2, 'MLQ': 2, 'KHRI': 2, 'KARO': 2, 'AOR': 2, 'PIS': 3, 'ITKY': 2, 'TGB': 2, 'NRKP': 2, 'NJA': 3, 'AKZ': 2, 'IRN': 2, 'LAD': 5, 'BICI': 2, 'KDRI': 4, 'AVP': 6, 'CATD': 2, 'SIY': 2, 'KRX': 2, 'SPY': 2, 'SNKX': 2, 'DTR': 3, 'MCF': 2, 'RIM': 3, 'KEZ': 2, 'TWI': 2, 'ROL': 2, 'SYE': 2, 'AWH': 2, 'TUD': 2, 'MWG': 2, 'KMMD': 2, 'BMP': 2, 'CCBG': 2, 'ARNG': 2, 'WDG': 2, 'BFF': 2, 'DEW': 2, 'GMI': 2, 'KSIH': 2, 'GNL': 2, 'PQH': 2, 'HDM': 2, 'GKT': 2, 'RTK': 5, 'AMDI': 2, 'DKU': 2, 'TMS': 2, 'MTWN': 2, 'CCO': 2, 'GBRI': 2, 'DGBZ': 2, 'MKZ': 2, 'SKLI': 2, 'TRDI': 3, 'ITRN': 5, 'BNWD': 2, 'DGY': 2, 'KEMP': 2, 'TOR': 2, 'MZB': 2, 'KUHI': 2, 'MXZ': 2, 'BMW': 2, 'URR': 2, 'KRGN': 2, 'BWV': 2, 'BHRH': 2, 'TEP': 2, 'MGLI': 2, 'KTGO': 2, 'NABN': 3, 'CHM': 3, 'USD': 5, 'CPD': 4, 'KBH': 4, 'TISI': 3, 'RNL': 2, 'VKH': 2, 'SNSL': 2, 'HOL': 2, 'BEW': 2, 'PDP': 2, 'BRTK': 2, 'TKHE': 2, 'BHNE': 2, 'CHLK': 2, 'PLD': 2, 'VTN': 3, 'KEB': 2, 'ATUL': 2, 'KLV': 3, 'JRS': 2, 'ACL': 2, 'VDH': 3, 'BHET': 2, 'BRRD': 2, 'BYR': 2, 'URN': 2, 'KSE': 2, 'GTX': 2, 'HAT': 2, 'CVJ': 2, 'VRE': 2, 'LKD': 2, 'KSPR': 2, 'VRM': 2, 'MPR': 2, 'NDR': 2, 'ADD': 2, 'VXD': 2, 'UTD': 2, 'GTE': 2, 'NEP': 2, 'KANJ': 2, 'GER': 2, 'VTA': 3, 'VCN': 2, 'BGMR': 2, 'GGAR': 2, 'TBV': 2, 'MGRL': 2, 'KRAI': 2, 'KKRD': 3, 'DSD': 2, 'LKKD': 2, 'BBAI': 2, 'KFF': 2, 'KHTG': 2, 'DWD': 2, 'CUE': 2, 'BETI': 2, 'ALV': 2, 'DOW': 2, 'BO': 2, 'BCHN': 2, 'KTNA': 3, 'PRTN': 2, 'KEP': 2, 'KDHL': 2, 'BILP': 2, 'TWV': 2, 'DB': 2, 'VAN': 2, 'AMLP': 2, 'SAK': 2, 'CCP': 2, 'JJW': 2, 'BDE': 2, 'JBU': 2, 'SSKL': 2, 'PAVI': 2, 'TJH': 2, 'PQT': 2, 'CTD': 3, 'MHUA': 2, 'BMVR': 2, 'KTAL': 2, 'KVNJ': 2, 'VLTR': 2, 'KSUA': 2, 'BAYD': 2, 'DNUA': 2, 'MDSA': 3, 'VTL': 3, 'AKVU': 2, 'DHM': 2, 'BII': 2, 'GME': 2, 'NGMN': 2, 'JGI': 2, 'AVH': 2, 'RJD': 2, 'UML': 2, 'JRV': 2, 'ALE': 2, 'TRF': 2, 'RAJ': 3, 'MDHA': 2, 'KNAD': 2, 'KDMR': 2, 'VTJ': 3, 'CDA': 3, 'KDI': 2, 'LTD': 2, 'NGA': 3, 'ALMR': 2, 'UJ': 2, 'SOA': 3, 'BJUD': 2, 'JSPR': 2, 'TRSR': 3, 'RNBD': 2, 'DXR': 3, 'RA': 2, 'VD': 2, 'AXA': 3, 'SDD': 5, 'KNKT': 2, 'KHC': 4, 'KHDI': 2, 'CX': 2, 'HM': 4, 'JALD': 2, 'LKBL': 3, 'PPLI': 2, 'MDPR': 2, 'SYQ': 2, 'BHTL': 3, 'MGTD': 2, 'BPKA': 3, 'OKD': 2, 'GRJA': 3, 'VVA': 3, 'BMRN': 2, 'WKRC': 4, 'IGRL': 2, 'JA': 2, 'DME': 2, 'PCT': 2, 'HTGR': 2, 'BSWD': 2, 'JIR': 2, 'GKD': 3, 'MRYA': 2, 'VJD': 2, 'VVV': 2, 'DGJ': 3, 'MTSK': 2, 'VJK': 2, 'BDHA': 2, 'SJF': 2, 'AVL': 2, 'MQZ': 2, 'RJU': 3, 'KTLA': 2, 'SPD': 2, 'VAL': 3, 'SHH': 3, 'LAL': 3, 'BDDR': 2, 'BTSD': 2, 'PPG': 2, 'UNL': 2, 'PSO': 2, 'ASL': 2, 'NKI': 2, 'PLW': 2, 'TJP': 2, 'SVT': 2, 'MQE': 2, 'CKOD': 2, 'BKTL': 2, 'PNWN': 2, 'PUD': 2, 'BQE': 2, 'CAZ': 2, 'PQU': 2, 'UDK': 2, 'SFZ': 2, 'RGG': 2, 'BRNA': 2, 'RLK': 2, 'TLZ': 2, 'NKH': 2, 'HNU': 2, 'KRLS': 2, 'DKRA': 2, 'ARE': 2, 'GKB': 2, 'LBN': 2, 'AMLI': 2, 'RWJ': 2, 'KTA': 2, 'BAMA': 2, 'BR': 2, 'NGLT': 2, 'BIQ': 2, 'DXK': 2, 'AED': 2, 'SNPR': 2, 'MIQ': 2, 'PTLI': 2, 'RCJ': 2, 'BJG': 2, 'RKY': 2, 'RBR': 3, 'GTT': 2, 'CKE': 2, 'BNTH': 2, 'ADE': 2, 'KEMA': 2, 'RUT': 2, 'CHIB': 2, 'VONB': 2, 'SIA': 2, 'KYG': 2, 'BUBR': 2, 'LAA': 2, 'GM': 2, 'CASA': 2, 'VU': 2, 'PLE': 2, 'DVGM': 2, 'MITA': 2, 'DKW': 2, 'JSI': 2, 'LW': 2, 'CDS': 2, 'BAGD': 2, 'KDSD': 2, 'GNST': 2, 'PHC': 2, 'DHJ': 2, 'SNHR': 2, 'PTN': 3, 'VNRD': 2, 'SR': 2, 'LPR': 2, 'BLRD': 2, 'CJR': 2, 'LMC': 2, 'LXR': 2, 'BLWR': 2, 'LCH': 2, 'JTN': 2, 'DTJ': 2, 'BKD': 2, 'JKS': 2, 'AHO': 2, 'HTD': 2, 'ROS': 2, 'JWS': 2, 'SGW': 2, 'MAKH': 2, 'RPI': 2, 'BHAS': 2, 'RLR': 2, 'LMA': 2, 'DWL': 2, 'MDPA': 2, 'SNYN': 2, 'DET': 2, 'GSD': 2, 'NTWL': 2, 'PMO': 2, 'BSJ': 2, 'BIML': 2, 'KLH': 2, 'DRB': 2, 'MKWI': 2, 'BPKH': 2, 'PUHT': 3, 'BSRL': 2, 'BOW': 2, 'THMR': 2, 'NYK': 2, 'GVMR': 2, 'GA': 2, 'APH': 8, 'RMSR': 3, 'SBNR': 2, 'KYNT': 2, 'RGNH': 2, 'BROR': 2, 'BDYK': 2, 'PKBS': 2, 'KNDL': 2, 'SFE': 2, 'BILA': 2, 'MNHA': 2, 'PCMK': 2, 'BDHL': 2, 'KMNP': 2, 'KHRA': 2, 'KAWT': 2, 'BAGA': 2, 'MADA': 2, 'JLLO': 2, 'DBLA': 2, 'NIP': 2, 'APJ': 2, 'MBV': 2, 'KTWS': 2, 'KUND': 2, 'KORI': 2, 'JDD': 2, 'BWPL': 2, 'NRKE': 2, 'BOTR': 2, 'FPS': 4, 'LNH': 2, 'RDK': 2, 'SAS': 2, 'CKS': 2, 'CHNN': 2, 'SRAS': 2, 'SURL': 2, 'DPZ': 2, 'KNDP': 2, 'BRLA': 2, 'KHNR': 2, 'HKL': 2, 'BIWK': 2, 'GRF': 2, 'BSSL': 2, 'PSLI': 2, 'BNDI': 2, 'URML': 2, 'JNRI': 2, 'SNAR': 2, 'THEA': 3, 'BBY': 2, 'RAKL': 2, 'NNE': 2, 'RYT': 2, 'SCN': 2, 'AXK': 2, 'AAH': 2, 'UDMR': 3, 'CYI': 2, 'PIO': 3, 'AIR': 2, 'LAN': 2, 'BKRL': 2, 'KIZ': 2, 'CCL': 2, 'USRA': 2, 'JKT': 2, 'RET': 2, 'ORDI': 2, 'SSNR': 2, 'BDME': 5, 'MJM': 2, 'PATL': 2, 'JMIR': 2, 'JGWL': 2, 'SKRI': 2, 'BUE': 2, 'BQW': 2, 'KKRH': 2, 'USK': 2, 'NEWC': 2, 'JEP': 3, 'ASJP': 2, 'SXD': 2, 'KNRI': 3, 'MWZ': 2, 'BLME': 2, 'CEME': 2, 'CDB': 2, 'KRMB': 2, 'GRBH': 2, 'BNF': 2, 'BNSL': 2, 'YGM': 2, 'BSCP': 2, 'NGY': 2, 'DLW': 2, 'LBZ': 2, 'KSHR': 2, 'DSME': 2, 'YDD': 2, 'LRB': 2, 'KEE': 2, 'DRGU': 2, 'LPNR': 2, 'SWNR': 2, 'LDCY': 2, 'SOJ': 2, 'CNKP': 2, 'SDPR': 2, 'BRSQ': 2, 'DLPI': 2, 'NRVR': 2, 'KRTN': 2, 'PGMD': 2, 'MWUE': 2, 'KLA': 2, 'SOM': 2, 'DAR': 2, 'KAMP': 2, 'SKQ': 2, 'GNRL': 2, 'WAIR': 2, 'DKDE': 4, 'AJR': 2, 'BRKY': 2, 'MIU': 2, 'MTO': 3, 'AAP': 2, 'KNS': 3, 'PATA': 2, 'SHW': 3, 'EKL': 2, 'SB': 2, 'BBL': 3, 'KAA': 2, 'SBJ': 2, 'SDY': 2, 'NGWN': 2, 'MNPR': 2, 'BARJ': 2, 'BTTN': 2, 'MAUL': 2, 'KARR': 2, 'HRF': 4, 'WSC': 2, 'GMC': 2, 'BDNP': 2, 'ASCE': 2, 'KUW': 2, 'KTCE': 2, 'SNIE': 2, 'RUB': 2, 'RAMA': 2, 'DDGA': 3, 'JNNA': 2, 'SLJR': 2, 'LSGS': 2, 'HEN': 2, 'NCN': 2, 'STLB': 2, 'SJPA': 2, 'APRD': 2, 'BDPA': 2, 'TKRA': 2, 'KRCA': 2, 'SNA': 2, 'BAJ': 2, 'OD': 2, 'UMH': 2, 'DK': 4, 'TAS': 2, 'AGCI': 2, 'SVL': 2, 'TBA': 2, 'TUWA': 2, 'VKG': 2, 'UOI': 2, 'KHBV': 2, 'KARD': 3, 'JCNR': 2, 'NSP': 2, 'THMA': 2, 'SAMN': 2, 'VGRA': 2, 'PKJN': 2, 'DGFJ': 3, 'DDCL': 2, 'BRB': 2, 'MLM': 2, 'JNTR': 2, 'WSB': 2, 'PPJ': 2, 'BLNI': 2, 'DHS': 2, 'WDS': 2, 'WKA': 2, 'AAG': 2, 'MKPT': 2, 'MVE': 2, 'PK': 2, 'BALE': 2, 'KRDN': 2, 'DMSR': 2, 'FAB': 2, 'MAKP': 2, 'BDRI': 2, 'BASR': 2, 'HAB': 2, 'JTKN': 2, 'MGKP': 2, 'JATP': 2, 'SKJS': 2, 'MSE': 2, 'BDB': 3, 'KPJ': 2, 'GSI': 2, 'AMD': 2, 'MRDP': 2, 'DIT': 3, 'PTG': 5, 'RBHT': 4, 'OSH': 2, 'BRHT': 2, 'PCHT': 2, 'SPHT': 2, 'RVN': 2, 'DDG': 5, 'DDGJ': 2, 'BBI': 2, 'TOP': 2, 'SSCR': 2, 'NNWH': 2, 'CNDN': 2, 'BHAU': 2, 'KTOR': 2, 'KARJ': 2, 'KKBA': 2, 'BRNI': 2, 'MOHR': 2, 'LATH': 2, 'RBHR': 2, 'KHDR': 2, 'BUTN': 2, 'ISRI': 2, 'BHMW': 2, 'LTKR': 2, 'BLJA': 2, 'SPJB': 2, 'KDSB': 2, 'GWSB': 2, 'TTO': 5, 'BAHL': 7, 'HRSB': 2, 'QG': 4, 'SDUA': 2, 'ANT': 4, 'BJBA': 2, 'PJGM': 2, 'ATPA': 4, 'KAPE': 2, 'PMPE': 2, 'SINA': 3, 'BDGM': 5, 'MZMA': 3, 'PTTN': 2, 'HME': 2, 'SXZM': 3, 'BRML': 3, 'MJTA': 2, 'KTGN': 2, 'FGCN': 2, 'HDWL': 2, 'RDS': 2, 'RCR': 2, 'DBNK': 3, 'CIA': 2, 'KSA': 2, 'KEMK': 4, 'PAX': 2, 'BGTN': 4, 'QDN': 3, 'MEC': 5, 'SURP': 3, 'BMSN': 2, 'RHI': 2, 'BAWA': 2, 'BISH': 2, 'JNX': 2, 'MBGA': 2, 'BK': 2, 'BIPR': 2, 'LDM': 2, 'KOF': 2, 'MBW': 2, 'MSQ': 2, 'DGQ': 2, 'JARI': 2, 'RXN': 2, 'JNZ': 2, 'NOA': 2, 'GOZ': 2, 'MELH': 2, 'KLYN': 2, 'DUS': 2, 'UDS': 2, 'SRDR': 3, 'QMRS': 2, 'RSWT': 2, 'MWR': 2, 'BUB': 2, 'MHP': 4, 'BJT': 3, 'PSZ': 3, 'DUMR': 2, 'GARA': 2, 'NRSD': 2, 'BPGR': 3, 'PATR': 3, 'JUBS': 2, 'RIGA': 2, 'DAG': 2, 'KWC': 2, 'CAO': 2, 'ADX': 2, 'SHEO': 2, 'TQR': 2, 'MRTA': 2, 'DBLI': 2, 'CNX': 2, 'BHSA': 2, 'AWPR': 2, 'BCPR': 2, 'PPTN': 2, 'BTSI': 2, 'MTRA': 2, 'MLBZ': 2, 'BDS': 2, 'NOR': 2, 'LTG': 2, 'DOI': 2, 'CBD': 3, 'PUQ': 2, 'SMGR': 2, 'SLON': 2, 'TNPR': 5, 'KTKS': 2, 'MHI': 2, 'BHMA': 2, 'MHPR': 2, 'KRMP': 2, 'MNS': 2, 'BGLI': 2, 'TII': 2, 'PNT': 2, 'DKM': 2, 'LHL': 2, 'CKW': 2, 'BPJ': 2, 'HNR': 2, 'DUT': 2, 'RPY': 2, 'TLL': 2, 'DNGI': 3, 'KQZ': 4, 'AVT': 2, 'VTE': 2, 'NDY': 2, 'CBP': 2, 'GDH': 2, 'IDT': 2, 'HUN': 2, 'CMY': 2, 'DTT': 2, 'SVS': 2, 'DNU': 2, 'GJT': 2, 'MAND': 2, 'MEKM': 2, 'CTPR': 3, 'CKV': 2, 'PSLP': 2, 'GUK': 2, 'LKSH': 2, 'AVLI': 3, 'RLG': 3, 'VPU': 2, 'STVA': 2, 'KZJE': 2, 'STBD': 2, 'LPJL': 6, 'GDRA': 2, 'ARMU': 2, 'MRTD': 2, 'MTPI': 2, 'KRLA': 2, 'KOVH': 2, 'AKAH': 2, 'KRAP': 2, 'VH': 2, 'VGH': 2, 'NSPH': 2, 'RBCS': 2, 'DKSA': 2, 'KDUH': 2, 'GVMH': 2, 'KPLH': 3, 'MADU': 2, 'SJMA': 2, 'NOSM': 2, 'SUPP': 2, 'GGNP': 2, 'PDMI': 3, 'NGM': 2, 'MKJ': 2, 'MRKL': 2, 'JKAR': 3, 'HLKH': 2, 'HMBD': 4, 'HLKK': 2, 'KMLK': 2, 'SLTP': 2, 'STDB': 2, 'PJPR': 2, 'PASR': 2, 'CDBH': 2, 'RJLK': 2, 'BWO': 2, 'HLD': 2, 'BDO': 3, 'GUMI': 3, 'OND': 3, 'RRP': 3, 'KIJ': 2, 'CHHU': 2, 'BMPR': 3, 'GMMG': 5, 'GMDP': 2, 'BUGM': 2, 'MTIP': 2, 'RNGR': 2, 'SHMR': 2, 'GOR': 2, 'SRBZ': 2, 'KYB': 2, 'GSQ': 2, 'BWCN': 2, 'SHKL': 2, 'INS': 2, 'KMRL': 2, 'BTRB': 2, 'PSF': 2, 'DGF': 2, 'DIM': 2, 'SONA': 3, 'HAM': 2, 'BDPR': 2, 'BZC': 2, 'BEX': 2, 'NOB': 2, 'BKNO': 2, 'NRSP': 2, 'NGJA': 2, 'RML': 2, 'SALR': 3, 'NGDM': 2, 'PRBG': 2, 'GRJ': 2, 'BRA': 2, 'KRXA': 2, 'HTT': 2, 'KNDG': 2, 'BTC': 2, 'GRHX': 2, 'KAYI': 2, 'WRI': 4, 'SGC': 2, 'KFX': 2, 'LNW': 2, 'KGE': 3, 'MXA': 2, 'PUWA': 2, 'RSA': 2, 'GDZ': 2, 'SKSO': 2, 'LBO': 2, 'BXA': 2, 'KYS': 2, 'DRZ': 6, 'GUDM': 1, 'RAU': 2, 'RJQ': 2, 'LKMN': 2, 'SFNR': 2, 'PLA': 2, 'BLDK': 2, 'AJN': 2, 'OSRA': 2, 'GPX': 2, 'PJH': 2, 'SNBD': 2, 'RNJ': 2, 'PRNG': 2, 'NGW': 2, 'VLYN': 2, 'KRYR': 2, 'AGAS': 2, 'BHAL': 2, 'PTD': 2, 'PNDR': 2, 'NTN': 2, 'TRP': 2, 'YVP': 2, 'SAY': 2, 'KLWD': 2, 'CBY': 3, 'CDK': 2, 'MU': 4, 'RF': 2, 'NZG': 2, 'DV': 3, 'KKR': 2, 'BRL': 2, 'PPS': 2, 'DAC': 2, 'WWA': 2, 'VJF': 6, 'AJM': 3, 'UMNF': 3, 'CCG': 6, 'RVJ': 7, 'BCL': 2, 'BA': 2, 'VLDI': 2, 'VGI': 2, 'BVS': 2, 'THS': 2, 'OMB': 2, 'BY': 5, 'CLA': 12, 'DI': 7, 'THK': 2, 'KOPR': 2, 'MBQ': 2, 'KLVA': 3, 'MLND': 7, 'BND': 6, 'VK': 5, 'GC': 9, 'MTN': 3, 'PR': 4, 'NHU': 2, 'VVH': 4, 'CRD': 2, 'CHG': 2, 'SNRD': 2, 'MSD': 2, 'VSH': 8, 'VDLR': 6, 'BEPR': 7, 'MNKD': 5, 'CMBR': 3, 'NEU': 5})"
      ]
     },
     "execution_count": 62,
     "metadata": {},
     "output_type": "execute_result"
    }
   ],
   "source": [
    "G.degree"
   ]
  },
  {
   "cell_type": "code",
   "execution_count": 17,
   "id": "bb0e2f6b",
   "metadata": {},
   "outputs": [],
   "source": [
    "dict1 = (dict)(G.degree)"
   ]
  },
  {
   "cell_type": "code",
   "execution_count": 19,
   "id": "abf28c49",
   "metadata": {},
   "outputs": [
    {
     "data": {
      "text/plain": [
       "78"
      ]
     },
     "execution_count": 19,
     "metadata": {},
     "output_type": "execute_result"
    }
   ],
   "source": [
    "max(dict1.values())"
   ]
  },
  {
   "cell_type": "code",
   "execution_count": 74,
   "id": "fe58ac79",
   "metadata": {},
   "outputs": [],
   "source": [
    "v = dict1.values()"
   ]
  },
  {
   "cell_type": "code",
   "execution_count": 76,
   "id": "e5c6024f",
   "metadata": {},
   "outputs": [
    {
     "data": {
      "text/plain": [
       "dict_values"
      ]
     },
     "execution_count": 76,
     "metadata": {},
     "output_type": "execute_result"
    }
   ],
   "source": [
    "type(v)"
   ]
  },
  {
   "cell_type": "code",
   "execution_count": 79,
   "id": "96486b70",
   "metadata": {},
   "outputs": [],
   "source": [
    "v = np.array(v)"
   ]
  },
  {
   "cell_type": "code",
   "execution_count": 89,
   "id": "d6e387e9",
   "metadata": {},
   "outputs": [],
   "source": [
    "v = (list)(dict1.values())"
   ]
  },
  {
   "cell_type": "code",
   "execution_count": 92,
   "id": "96f38aae",
   "metadata": {},
   "outputs": [
    {
     "data": {
      "text/plain": [
       "8151"
      ]
     },
     "execution_count": 92,
     "metadata": {},
     "output_type": "execute_result"
    }
   ],
   "source": [
    "len(v)"
   ]
  },
  {
   "cell_type": "code",
   "execution_count": 93,
   "id": "5a5006df",
   "metadata": {},
   "outputs": [
    {
     "data": {
      "text/plain": [
       "8151"
      ]
     },
     "execution_count": 93,
     "metadata": {},
     "output_type": "execute_result"
    }
   ],
   "source": [
    "len(d1['Station Code'].unique())"
   ]
  },
  {
   "cell_type": "code",
   "execution_count": 94,
   "id": "3592ccdf",
   "metadata": {},
   "outputs": [],
   "source": [
    "v = np.array(v)"
   ]
  },
  {
   "cell_type": "code",
   "execution_count": 101,
   "id": "89ead0ac",
   "metadata": {},
   "outputs": [
    {
     "data": {
      "text/plain": [
       "8151"
      ]
     },
     "execution_count": 101,
     "metadata": {},
     "output_type": "execute_result"
    }
   ],
   "source": [
    "len(v)"
   ]
  },
  {
   "cell_type": "code",
   "execution_count": 99,
   "id": "f7619488",
   "metadata": {},
   "outputs": [],
   "source": [
    "h = np.histogram(v,bins=max(v))"
   ]
  },
  {
   "cell_type": "code",
   "execution_count": 100,
   "id": "117aae65",
   "metadata": {},
   "outputs": [
    {
     "data": {
      "text/plain": [
       "(array([  53, 4415, 1050,  860,  492,  304,  192,  143,   91,   87,   61,\n",
       "          50,   45,   35,   31,   31,   24,   20,   17,   16,    8,   11,\n",
       "           9,    9,    6,    9,    9,    7,    6,    7,    6,    4,    7,\n",
       "           4,    2,    2,    4,    1,    1,    2,    3,    1,    0,    0,\n",
       "           3,    1,    1,    1,    1,    0,    0,    2,    0,    1,    1,\n",
       "           0,    1,    1,    1,    0,    1,    0,    0,    0,    0,    0,\n",
       "           0,    0,    0,    0,    0,    0,    0,    0,    0,    0,    0,\n",
       "           1], dtype=int64),\n",
       " array([ 1.        ,  1.98717949,  2.97435897,  3.96153846,  4.94871795,\n",
       "         5.93589744,  6.92307692,  7.91025641,  8.8974359 ,  9.88461538,\n",
       "        10.87179487, 11.85897436, 12.84615385, 13.83333333, 14.82051282,\n",
       "        15.80769231, 16.79487179, 17.78205128, 18.76923077, 19.75641026,\n",
       "        20.74358974, 21.73076923, 22.71794872, 23.70512821, 24.69230769,\n",
       "        25.67948718, 26.66666667, 27.65384615, 28.64102564, 29.62820513,\n",
       "        30.61538462, 31.6025641 , 32.58974359, 33.57692308, 34.56410256,\n",
       "        35.55128205, 36.53846154, 37.52564103, 38.51282051, 39.5       ,\n",
       "        40.48717949, 41.47435897, 42.46153846, 43.44871795, 44.43589744,\n",
       "        45.42307692, 46.41025641, 47.3974359 , 48.38461538, 49.37179487,\n",
       "        50.35897436, 51.34615385, 52.33333333, 53.32051282, 54.30769231,\n",
       "        55.29487179, 56.28205128, 57.26923077, 58.25641026, 59.24358974,\n",
       "        60.23076923, 61.21794872, 62.20512821, 63.19230769, 64.17948718,\n",
       "        65.16666667, 66.15384615, 67.14102564, 68.12820513, 69.11538462,\n",
       "        70.1025641 , 71.08974359, 72.07692308, 73.06410256, 74.05128205,\n",
       "        75.03846154, 76.02564103, 77.01282051, 78.        ]))"
      ]
     },
     "execution_count": 100,
     "metadata": {},
     "output_type": "execute_result"
    }
   ],
   "source": [
    "h"
   ]
  },
  {
   "cell_type": "code",
   "execution_count": 98,
   "id": "35c34de7",
   "metadata": {},
   "outputs": [
    {
     "data": {
      "text/plain": [
       "78"
      ]
     },
     "execution_count": 98,
     "metadata": {},
     "output_type": "execute_result"
    }
   ],
   "source": [
    "max(v)"
   ]
  },
  {
   "cell_type": "code",
   "execution_count": 102,
   "id": "e6cdbf4c",
   "metadata": {},
   "outputs": [
    {
     "ename": "SyntaxError",
     "evalue": "invalid syntax (325235646.py, line 1)",
     "output_type": "error",
     "traceback": [
      "\u001b[1;36m  Input \u001b[1;32mIn [102]\u001b[1;36m\u001b[0m\n\u001b[1;33m    dict dt\u001b[0m\n\u001b[1;37m         ^\u001b[0m\n\u001b[1;31mSyntaxError\u001b[0m\u001b[1;31m:\u001b[0m invalid syntax\n"
     ]
    }
   ],
   "source": [
    "dict dt"
   ]
  },
  {
   "cell_type": "code",
   "execution_count": 103,
   "id": "ddd7034b",
   "metadata": {},
   "outputs": [],
   "source": [
    "dt = dict()"
   ]
  },
  {
   "cell_type": "code",
   "execution_count": 104,
   "id": "1dfffbe6",
   "metadata": {},
   "outputs": [],
   "source": [
    "dt['1'] = 0"
   ]
  },
  {
   "cell_type": "code",
   "execution_count": 105,
   "id": "51e4ba7e",
   "metadata": {},
   "outputs": [],
   "source": [
    "dt['2'] = 1"
   ]
  },
  {
   "cell_type": "code",
   "execution_count": 106,
   "id": "568581da",
   "metadata": {},
   "outputs": [
    {
     "name": "stdout",
     "output_type": "stream",
     "text": [
      "{'1': 0, '2': 1}\n"
     ]
    }
   ],
   "source": [
    "print(dt)"
   ]
  },
  {
   "cell_type": "code",
   "execution_count": 107,
   "id": "3aa6d7e9",
   "metadata": {},
   "outputs": [
    {
     "name": "stdout",
     "output_type": "stream",
     "text": [
      "yes\n"
     ]
    }
   ],
   "source": [
    "if '1' in dt.keys():\n",
    "    print('yes')"
   ]
  },
  {
   "cell_type": "code",
   "execution_count": 109,
   "id": "54814574",
   "metadata": {},
   "outputs": [],
   "source": [
    "def get_ddist(g):\n",
    "    l = len(g)\n",
    "    d = dict()\n",
    "    for i in range(0,l):\n",
    "        if g[i] in d.keys():\n",
    "            d[g[i]] = d[g[i]] + 1\n",
    "        else:\n",
    "            d[g[i]] = 1\n",
    "    return d\n",
    "            "
   ]
  },
  {
   "cell_type": "code",
   "execution_count": 110,
   "id": "9d7a46a9",
   "metadata": {},
   "outputs": [],
   "source": [
    "d = get_ddist(v)"
   ]
  },
  {
   "cell_type": "code",
   "execution_count": 111,
   "id": "d241e825",
   "metadata": {},
   "outputs": [
    {
     "name": "stdout",
     "output_type": "stream",
     "text": [
      "{11: 61, 9: 91, 10: 87, 33: 7, 8: 143, 5: 492, 3: 1050, 20: 16, 4: 860, 7: 192, 30: 7, 13: 45, 18: 20, 55: 1, 22: 11, 16: 31, 32: 4, 15: 31, 6: 304, 19: 17, 26: 9, 28: 7, 52: 2, 41: 3, 12: 50, 48: 1, 17: 24, 46: 1, 23: 9, 31: 6, 37: 4, 35: 2, 21: 8, 54: 1, 24: 9, 29: 6, 34: 4, 42: 1, 14: 35, 36: 2, 57: 1, 38: 1, 40: 2, 27: 9, 61: 1, 59: 1, 45: 3, 78: 1, 25: 6, 58: 1, 2: 4415, 49: 1, 47: 1, 39: 1, 1: 53}\n"
     ]
    }
   ],
   "source": [
    "print(d)"
   ]
  },
  {
   "cell_type": "code",
   "execution_count": 112,
   "id": "85e4296a",
   "metadata": {},
   "outputs": [
    {
     "data": {
      "text/plain": [
       "1"
      ]
     },
     "execution_count": 112,
     "metadata": {},
     "output_type": "execute_result"
    }
   ],
   "source": [
    "d[78]"
   ]
  },
  {
   "cell_type": "code",
   "execution_count": 113,
   "id": "196b422e",
   "metadata": {},
   "outputs": [
    {
     "data": {
      "text/plain": [
       "61"
      ]
     },
     "execution_count": 113,
     "metadata": {},
     "output_type": "execute_result"
    }
   ],
   "source": [
    "d[11]"
   ]
  },
  {
   "cell_type": "code",
   "execution_count": 114,
   "id": "b3a5ee64",
   "metadata": {},
   "outputs": [
    {
     "data": {
      "text/plain": [
       "91"
      ]
     },
     "execution_count": 114,
     "metadata": {},
     "output_type": "execute_result"
    }
   ],
   "source": [
    "d[9]"
   ]
  },
  {
   "cell_type": "code",
   "execution_count": 115,
   "id": "53170b5d",
   "metadata": {},
   "outputs": [
    {
     "data": {
      "text/plain": [
       "4415"
      ]
     },
     "execution_count": 115,
     "metadata": {},
     "output_type": "execute_result"
    }
   ],
   "source": [
    "max(d.values())"
   ]
  },
  {
   "cell_type": "code",
   "execution_count": 116,
   "id": "ddeafa62",
   "metadata": {},
   "outputs": [
    {
     "data": {
      "text/plain": [
       "78"
      ]
     },
     "execution_count": 116,
     "metadata": {},
     "output_type": "execute_result"
    }
   ],
   "source": [
    "max(d.keys())"
   ]
  },
  {
   "cell_type": "code",
   "execution_count": 7,
   "id": "cc4975a4",
   "metadata": {},
   "outputs": [],
   "source": [
    "G2 = nx.Graph()"
   ]
  },
  {
   "cell_type": "code",
   "execution_count": 8,
   "id": "661fac56",
   "metadata": {},
   "outputs": [],
   "source": [
    "e_weight1 = [1,2,3]"
   ]
  },
  {
   "cell_type": "code",
   "execution_count": 9,
   "id": "844e3735",
   "metadata": {},
   "outputs": [
    {
     "data": {
      "text/plain": [
       "[1, 2, 3]"
      ]
     },
     "execution_count": 9,
     "metadata": {},
     "output_type": "execute_result"
    }
   ],
   "source": [
    "e_weight1"
   ]
  },
  {
   "cell_type": "code",
   "execution_count": 12,
   "id": "c401368a",
   "metadata": {},
   "outputs": [],
   "source": [
    "G2.add_edge(1,2)"
   ]
  },
  {
   "cell_type": "code",
   "execution_count": 14,
   "id": "6f25ce7e",
   "metadata": {},
   "outputs": [],
   "source": [
    "G2.add_edge(2,3,weight=e_weight1)"
   ]
  },
  {
   "cell_type": "code",
   "execution_count": 17,
   "id": "0b915ba6",
   "metadata": {},
   "outputs": [],
   "source": [
    "t1 = d1['Arrival time'][1]"
   ]
  },
  {
   "cell_type": "code",
   "execution_count": 18,
   "id": "fb4ce9db",
   "metadata": {},
   "outputs": [
    {
     "data": {
      "text/plain": [
       "'11:06:00'"
      ]
     },
     "execution_count": 18,
     "metadata": {},
     "output_type": "execute_result"
    }
   ],
   "source": [
    "t1"
   ]
  },
  {
   "cell_type": "code",
   "execution_count": 19,
   "id": "aabf3987",
   "metadata": {},
   "outputs": [
    {
     "data": {
      "text/plain": [
       "str"
      ]
     },
     "execution_count": 19,
     "metadata": {},
     "output_type": "execute_result"
    }
   ],
   "source": [
    "type(t1)"
   ]
  },
  {
   "cell_type": "code",
   "execution_count": 20,
   "id": "f8d41502",
   "metadata": {},
   "outputs": [
    {
     "data": {
      "text/plain": [
       "'1'"
      ]
     },
     "execution_count": 20,
     "metadata": {},
     "output_type": "execute_result"
    }
   ],
   "source": [
    "t1[0]"
   ]
  },
  {
   "cell_type": "code",
   "execution_count": 21,
   "id": "b147bcb7",
   "metadata": {},
   "outputs": [
    {
     "data": {
      "text/plain": [
       "'1'"
      ]
     },
     "execution_count": 21,
     "metadata": {},
     "output_type": "execute_result"
    }
   ],
   "source": [
    "t1[1]"
   ]
  },
  {
   "cell_type": "code",
   "execution_count": 22,
   "id": "9085588d",
   "metadata": {},
   "outputs": [
    {
     "data": {
      "text/plain": [
       "':'"
      ]
     },
     "execution_count": 22,
     "metadata": {},
     "output_type": "execute_result"
    }
   ],
   "source": [
    "t1[2]"
   ]
  },
  {
   "cell_type": "code",
   "execution_count": 25,
   "id": "29b00d91",
   "metadata": {},
   "outputs": [],
   "source": [
    "time1 = (int(t1[0]) * 10 + int(t1[1])) * 3600 + (int(t1[3]) * 10 + int(t1[4])) * 60 + int(t1[6] * 10) + int(t1[7])"
   ]
  },
  {
   "cell_type": "code",
   "execution_count": 26,
   "id": "ba2759ea",
   "metadata": {},
   "outputs": [
    {
     "data": {
      "text/plain": [
       "39960"
      ]
     },
     "execution_count": 26,
     "metadata": {},
     "output_type": "execute_result"
    }
   ],
   "source": [
    "time1"
   ]
  },
  {
   "cell_type": "code",
   "execution_count": 27,
   "id": "28d03533",
   "metadata": {},
   "outputs": [],
   "source": [
    "def getTime(t1):\n",
    "    time = (int(t1[0]) * 10 + int(t1[1])) * 3600 + (int(t1[3]) * 10 + int(t1[4])) * 60 + int(t1[6] * 10) + int(t1[7])\n",
    "    return time"
   ]
  },
  {
   "cell_type": "code",
   "execution_count": 28,
   "id": "940283ed",
   "metadata": {},
   "outputs": [],
   "source": [
    "t2 = d1['Departure Time'][0]"
   ]
  },
  {
   "cell_type": "code",
   "execution_count": 29,
   "id": "000f0184",
   "metadata": {},
   "outputs": [
    {
     "data": {
      "text/plain": [
       "'10:25:00'"
      ]
     },
     "execution_count": 29,
     "metadata": {},
     "output_type": "execute_result"
    }
   ],
   "source": [
    "t2"
   ]
  },
  {
   "cell_type": "code",
   "execution_count": 30,
   "id": "1f4aecf5",
   "metadata": {},
   "outputs": [
    {
     "data": {
      "text/plain": [
       "'11:06:00'"
      ]
     },
     "execution_count": 30,
     "metadata": {},
     "output_type": "execute_result"
    }
   ],
   "source": [
    "t1"
   ]
  },
  {
   "cell_type": "code",
   "execution_count": 32,
   "id": "37c0e3e0",
   "metadata": {},
   "outputs": [
    {
     "name": "stdout",
     "output_type": "stream",
     "text": [
      "2460\n"
     ]
    }
   ],
   "source": [
    "tdiff = getTime(t1) - getTime(t2)\n",
    "print(tdiff)\n"
   ]
  },
  {
   "cell_type": "code",
   "execution_count": 38,
   "id": "695b1caa",
   "metadata": {},
   "outputs": [
    {
     "name": "stdout",
     "output_type": "stream",
     "text": [
      "<class 'str'>\n"
     ]
    }
   ],
   "source": [
    "ds1 = d1['Distance'][1]\n",
    "print(type(ds1))"
   ]
  },
  {
   "cell_type": "code",
   "execution_count": 57,
   "id": "f5cc4953",
   "metadata": {},
   "outputs": [
    {
     "ename": "ValueError",
     "evalue": "invalid literal for int() with base 10: '.'",
     "output_type": "error",
     "traceback": [
      "\u001b[1;31m---------------------------------------------------------------------------\u001b[0m",
      "\u001b[1;31mValueError\u001b[0m                                Traceback (most recent call last)",
      "Input \u001b[1;32mIn [57]\u001b[0m, in \u001b[0;36m<cell line: 6>\u001b[1;34m()\u001b[0m\n\u001b[0;32m      9\u001b[0m t_no \u001b[38;5;241m=\u001b[39m d1[\u001b[38;5;124m'\u001b[39m\u001b[38;5;124mTrain No\u001b[39m\u001b[38;5;124m'\u001b[39m][i]\n\u001b[0;32m     10\u001b[0m \u001b[38;5;28;01mif\u001b[39;00m \u001b[38;5;28mtype\u001b[39m(d1[\u001b[38;5;124m'\u001b[39m\u001b[38;5;124mArrival time\u001b[39m\u001b[38;5;124m'\u001b[39m][i\u001b[38;5;241m+\u001b[39m\u001b[38;5;241m1\u001b[39m]) \u001b[38;5;241m!=\u001b[39m \u001b[38;5;28mfloat\u001b[39m \u001b[38;5;129;01mand\u001b[39;00m \u001b[38;5;28mtype\u001b[39m(d1[\u001b[38;5;124m'\u001b[39m\u001b[38;5;124mDeparture Time\u001b[39m\u001b[38;5;124m'\u001b[39m][i]) \u001b[38;5;241m!=\u001b[39m \u001b[38;5;28mfloat\u001b[39m: \n\u001b[1;32m---> 11\u001b[0m     time \u001b[38;5;241m=\u001b[39m \u001b[43mgetTime\u001b[49m\u001b[43m(\u001b[49m\u001b[43md1\u001b[49m\u001b[43m[\u001b[49m\u001b[38;5;124;43m'\u001b[39;49m\u001b[38;5;124;43mArrival time\u001b[39;49m\u001b[38;5;124;43m'\u001b[39;49m\u001b[43m]\u001b[49m\u001b[43m[\u001b[49m\u001b[43mi\u001b[49m\u001b[38;5;241;43m+\u001b[39;49m\u001b[38;5;241;43m1\u001b[39;49m\u001b[43m]\u001b[49m\u001b[43m)\u001b[49m \u001b[38;5;241m-\u001b[39m getTime(d1[\u001b[38;5;124m'\u001b[39m\u001b[38;5;124mDeparture Time\u001b[39m\u001b[38;5;124m'\u001b[39m][i])\n\u001b[0;32m     12\u001b[0m \u001b[38;5;28;01mif\u001b[39;00m \u001b[38;5;28mtype\u001b[39m(d1[\u001b[38;5;124m'\u001b[39m\u001b[38;5;124mDistance\u001b[39m\u001b[38;5;124m'\u001b[39m][i\u001b[38;5;241m+\u001b[39m\u001b[38;5;241m1\u001b[39m]) \u001b[38;5;241m!=\u001b[39m \u001b[38;5;28mfloat\u001b[39m \u001b[38;5;129;01mand\u001b[39;00m \u001b[38;5;28mtype\u001b[39m(d1[\u001b[38;5;124m'\u001b[39m\u001b[38;5;124mDistance\u001b[39m\u001b[38;5;124m'\u001b[39m][i]) \u001b[38;5;241m!=\u001b[39m \u001b[38;5;28mfloat\u001b[39m:\n\u001b[0;32m     13\u001b[0m     distance \u001b[38;5;241m=\u001b[39m \u001b[38;5;28mint\u001b[39m(d1[\u001b[38;5;124m'\u001b[39m\u001b[38;5;124mDistance\u001b[39m\u001b[38;5;124m'\u001b[39m][i\u001b[38;5;241m+\u001b[39m\u001b[38;5;241m1\u001b[39m]) \u001b[38;5;241m-\u001b[39m \u001b[38;5;28mint\u001b[39m(d1[\u001b[38;5;124m'\u001b[39m\u001b[38;5;124mDistance\u001b[39m\u001b[38;5;124m'\u001b[39m][i])\n",
      "Input \u001b[1;32mIn [57]\u001b[0m, in \u001b[0;36mgetTime\u001b[1;34m(t1)\u001b[0m\n\u001b[0;32m      1\u001b[0m \u001b[38;5;28;01mdef\u001b[39;00m \u001b[38;5;21mgetTime\u001b[39m(t1):\n\u001b[1;32m----> 2\u001b[0m     time \u001b[38;5;241m=\u001b[39m (\u001b[38;5;28mint\u001b[39m(t1[\u001b[38;5;241m0\u001b[39m]) \u001b[38;5;241m*\u001b[39m \u001b[38;5;241m10\u001b[39m \u001b[38;5;241m+\u001b[39m \u001b[38;5;28;43mint\u001b[39;49m\u001b[43m(\u001b[49m\u001b[43mt1\u001b[49m\u001b[43m[\u001b[49m\u001b[38;5;241;43m1\u001b[39;49m\u001b[43m]\u001b[49m\u001b[43m)\u001b[49m) \u001b[38;5;241m*\u001b[39m \u001b[38;5;241m3600\u001b[39m \u001b[38;5;241m+\u001b[39m (\u001b[38;5;28mint\u001b[39m(t1[\u001b[38;5;241m3\u001b[39m]) \u001b[38;5;241m*\u001b[39m \u001b[38;5;241m10\u001b[39m \u001b[38;5;241m+\u001b[39m \u001b[38;5;28mint\u001b[39m(t1[\u001b[38;5;241m4\u001b[39m])) \u001b[38;5;241m*\u001b[39m \u001b[38;5;241m60\u001b[39m \u001b[38;5;241m+\u001b[39m \u001b[38;5;28mint\u001b[39m(t1[\u001b[38;5;241m6\u001b[39m] \u001b[38;5;241m*\u001b[39m \u001b[38;5;241m10\u001b[39m) \u001b[38;5;241m+\u001b[39m \u001b[38;5;28mint\u001b[39m(t1[\u001b[38;5;241m7\u001b[39m])\n\u001b[0;32m      3\u001b[0m     \u001b[38;5;28;01mreturn\u001b[39;00m time\n",
      "\u001b[1;31mValueError\u001b[0m: invalid literal for int() with base 10: '.'"
     ]
    }
   ],
   "source": [
    "def getTime(t1):\n",
    "    time = (int(t1[0]) * 10 + int(t1[1])) * 3600 + (int(t1[3]) * 10 + int(t1[4])) * 60 + int(t1[6] * 10) + int(t1[7])\n",
    "    return time\n",
    "i = 0\n",
    "G = nx.Graph()\n",
    "for i in range(0,len(d1['Train No'])):\n",
    "    if i < len(d1['Train No']) - 1:\n",
    "        if d1['SEQ'][i+1] != 1:\n",
    "            t_no = d1['Train No'][i]\n",
    "            if type(d1['Arrival time'][i+1]) != float and type(d1['Departure Time'][i]) != float: \n",
    "                time = getTime(d1['Arrival time'][i+1]) - getTime(d1['Departure Time'][i])\n",
    "            if type(d1['Distance'][i+1]) != float and type(d1['Distance'][i]) != float:\n",
    "                distance = int(d1['Distance'][i+1]) - int(d1['Distance'][i])\n",
    "            e_weights = [t_no,time,distance]\n",
    "            G.add_edge(d1['Station Code'][i],d1['Station Code'][i+1],weights = e_weights)"
   ]
  },
  {
   "cell_type": "code",
   "execution_count": 60,
   "id": "e16193d1",
   "metadata": {},
   "outputs": [
    {
     "name": "stdout",
     "output_type": "stream",
     "text": [
      "0.34.00\n"
     ]
    }
   ],
   "source": [
    "print(d1['Arrival time'][i+1])"
   ]
  },
  {
   "cell_type": "code",
   "execution_count": 45,
   "id": "904aa973",
   "metadata": {},
   "outputs": [
    {
     "name": "stdout",
     "output_type": "stream",
     "text": [
      "2307\n"
     ]
    }
   ],
   "source": [
    "print(i)"
   ]
  },
  {
   "cell_type": "code",
   "execution_count": 46,
   "id": "c978c9aa",
   "metadata": {},
   "outputs": [
    {
     "name": "stdout",
     "output_type": "stream",
     "text": [
      "nan\n"
     ]
    }
   ],
   "source": [
    "print(d1['Arrival time'][i+1])"
   ]
  },
  {
   "cell_type": "code",
   "execution_count": 47,
   "id": "175653c4",
   "metadata": {},
   "outputs": [
    {
     "name": "stdout",
     "output_type": "stream",
     "text": [
      "6919\n"
     ]
    }
   ],
   "source": [
    "print(d1['Train No'][i])"
   ]
  },
  {
   "cell_type": "code",
   "execution_count": 48,
   "id": "6d90b186",
   "metadata": {},
   "outputs": [
    {
     "name": "stdout",
     "output_type": "stream",
     "text": [
      "32\n"
     ]
    }
   ],
   "source": [
    "print(d1['SEQ'][i])"
   ]
  },
  {
   "cell_type": "code",
   "execution_count": 49,
   "id": "02e1a629",
   "metadata": {},
   "outputs": [
    {
     "data": {
      "text/plain": [
       "float"
      ]
     },
     "execution_count": 49,
     "metadata": {},
     "output_type": "execute_result"
    }
   ],
   "source": [
    "type(d1['Arrival time'][i+1])"
   ]
  },
  {
   "cell_type": "code",
   "execution_count": 52,
   "id": "ef8ec39f",
   "metadata": {},
   "outputs": [],
   "source": [
    "if type(d1['Arrival time'][i+1]) != float:\n",
    "    print('yes')"
   ]
  },
  {
   "cell_type": "code",
   "execution_count": 55,
   "id": "c4ef8042",
   "metadata": {},
   "outputs": [
    {
     "name": "stdout",
     "output_type": "stream",
     "text": [
      "BJP\n"
     ]
    }
   ],
   "source": [
    "print(d1['Departure Time'][i])"
   ]
  },
  {
   "cell_type": "code",
   "execution_count": null,
   "id": "f10dd3ce",
   "metadata": {},
   "outputs": [],
   "source": []
  }
 ],
 "metadata": {
  "kernelspec": {
   "display_name": "Python 3 (ipykernel)",
   "language": "python",
   "name": "python3"
  },
  "language_info": {
   "codemirror_mode": {
    "name": "ipython",
    "version": 3
   },
   "file_extension": ".py",
   "mimetype": "text/x-python",
   "name": "python",
   "nbconvert_exporter": "python",
   "pygments_lexer": "ipython3",
   "version": "3.10.6"
  }
 },
 "nbformat": 4,
 "nbformat_minor": 5
}
