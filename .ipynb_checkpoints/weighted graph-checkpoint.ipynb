{
 "cells": [
  {
   "cell_type": "code",
   "execution_count": 1,
   "id": "9784d1f2",
   "metadata": {},
   "outputs": [],
   "source": [
    "import networkx as nx\n",
    "import matplotlib.pyplot as plt\n",
    "import numpy as np\n",
    "import pandas as pd"
   ]
  },
  {
   "cell_type": "code",
   "execution_count": 2,
   "id": "b2be7bb0",
   "metadata": {},
   "outputs": [],
   "source": [
    "d1 = pd.read_csv('../Train_details_22122017.csv')"
   ]
  },
  {
   "cell_type": "code",
   "execution_count": 13,
   "id": "823d979e",
   "metadata": {},
   "outputs": [],
   "source": [
    "def get_ddist(g):\n",
    "    l = len(g)\n",
    "    d = dict()\n",
    "    for i in range(0,l):\n",
    "        if g[i] in d.keys():\n",
    "            d[g[i]] = d[g[i]] + 1\n",
    "        else:\n",
    "            d[g[i]] = 1\n",
    "    return d"
   ]
  },
  {
   "cell_type": "code",
   "execution_count": 3,
   "id": "a24307ba",
   "metadata": {},
   "outputs": [],
   "source": [
    "def getTime(t1):\n",
    "    if len(t1) == 8:\n",
    "        time = (int(t1[0]) * 10 + int(t1[1])) * 3600 + (int(t1[3]) * 10 + int(t1[4])) * 60 + int(t1[6] * 10) + int(t1[7])\n",
    "    if len(t1) == 7:\n",
    "        time = (int(t1[0])) * 3600 + (int(t1[2]) * 10 + int(t1[3])) * 60 + int(t1[5] * 10) + int(t1[6])\n",
    "    return time\n",
    "i = 0\n",
    "G = nx.MultiGraph()\n",
    "for i in range(0,len(d1['Train No'])):\n",
    "    if i < len(d1['Train No']) - 1:\n",
    "        if d1['SEQ'][i+1] != 1:\n",
    "            t_no = d1['Train No'][i]\n",
    "            if type(d1['Arrival time'][i+1]) != float and type(d1['Departure Time'][i]) != float: \n",
    "                time = getTime(d1['Arrival time'][i+1]) - getTime(d1['Departure Time'][i])\n",
    "            if type(d1['Distance'][i+1]) != float and type(d1['Distance'][i]) != float:\n",
    "                distance = int(d1['Distance'][i+1]) - int(d1['Distance'][i])\n",
    "            e_weights = [t_no,time,distance]\n",
    "            G.add_edge(d1['Station Code'][i],d1['Station Code'][i+1],weights = e_weights)"
   ]
  },
  {
   "cell_type": "code",
   "execution_count": 11,
   "id": "1fbde84d",
   "metadata": {},
   "outputs": [
    {
     "name": "stdout",
     "output_type": "stream",
     "text": [
      "TNA\n",
      "Maximum degree = 1212\n"
     ]
    }
   ],
   "source": [
    "degree1 = dict(G.degree)\n",
    "for d in degree1.keys():\n",
    "    if degree1[d] == max(degree1.values()):\n",
    "        print(d)\n",
    "        print(\"Maximum degree = \" + str(max(degree1.values())))"
   ]
  },
  {
   "cell_type": "code",
   "execution_count": 12,
   "id": "c35af1f4",
   "metadata": {},
   "outputs": [
    {
     "name": "stdout",
     "output_type": "stream",
     "text": [
      "No of nodes in 1th subgraph are 8060\n",
      "For 1th subgraph, count1 = 2 count2 = 79\n",
      "No of AP = 804\n",
      "No of nodes in 1th subgraph are 29\n",
      "For 1th subgraph, count1 = 0 count2 = 0\n",
      "No of AP = 17\n",
      "No of nodes in 1th subgraph are 12\n",
      "For 1th subgraph, count1 = 0 count2 = 1\n",
      "No of AP = 9\n",
      "No of nodes in 1th subgraph are 10\n",
      "For 1th subgraph, count1 = 0 count2 = 0\n",
      "No of AP = 7\n",
      "No of nodes in 1th subgraph are 17\n",
      "For 1th subgraph, count1 = 0 count2 = 0\n",
      "No of AP = 15\n",
      "No of nodes in 1th subgraph are 17\n",
      "For 1th subgraph, count1 = 0 count2 = 0\n",
      "No of AP = 7\n",
      "No of nodes in 1th subgraph are 3\n",
      "For 1th subgraph, count1 = 0 count2 = 0\n",
      "No of AP = 1\n"
     ]
    }
   ],
   "source": [
    "i = 1\n",
    "for h in nx.connected_components(G):\n",
    "    k = nx.subgraph(G,h)\n",
    "    print(\"No of nodes in \" + str(i) + \"th subgraph are \" + str(len(k.nodes)))\n",
    "    degree1 = dict(k.degree)\n",
    "    count1 = 0\n",
    "    count2 = 0\n",
    "    ap = list(nx.articulation_points(k))\n",
    "    for d in degree1.keys():\n",
    "        if degree1[d] == 1:\n",
    "            count1 = count1 + 1\n",
    "        if degree1[d] == 2:\n",
    "            count2 = count2 + 1\n",
    "    print(\"For \" + str(i) + \"th subgraph, count1 = \" + str(count1) + \" count2 = \" + str(count2))\n",
    "    print(\"No of AP = \" + str(len(ap)))"
   ]
  },
  {
   "cell_type": "code",
   "execution_count": 14,
   "id": "5443c833",
   "metadata": {},
   "outputs": [
    {
     "data": {
      "text/plain": [
       "Text(0, 0.5, 'No of nodes')"
      ]
     },
     "execution_count": 14,
     "metadata": {},
     "output_type": "execute_result"
    },
    {
     "data": {
      "image/png": "[encoded data removed]",
      "text/plain": [
       "<Figure size 640x480 with 1 Axes>"
      ]
     },
     "metadata": {},
     "output_type": "display_data"
    }
   ],
   "source": [
    "h = list(nx.connected_components(G))\n",
    "G1 = nx.subgraph(G,h[0])\n",
    "dict1 = dict(G1.degree())\n",
    "dd = get_ddist(list(dict1.values()))\n",
    "dds = dict(sorted(dd.items()))\n",
    "plt.plot(dds.keys(),dds.values())\n",
    "plt.title('Degree distribution')\n",
    "plt.xlabel('Degree')\n",
    "plt.ylabel('No of nodes')"
   ]
  },
  {
   "cell_type": "code",
   "execution_count": null,
   "id": "09616c97",
   "metadata": {},
   "outputs": [],
   "source": []
  }
 ],
 "metadata": {
  "kernelspec": {
   "display_name": "Python 3 (ipykernel)",
   "language": "python",
   "name": "python3"
  },
  "language_info": {
   "codemirror_mode": {
    "name": "ipython",
    "version": 3
   },
   "file_extension": ".py",
   "mimetype": "text/x-python",
   "name": "python",
   "nbconvert_exporter": "python",
   "pygments_lexer": "ipython3",
   "version": "3.10.6"
  }
 },
 "nbformat": 4,
 "nbformat_minor": 5
}
